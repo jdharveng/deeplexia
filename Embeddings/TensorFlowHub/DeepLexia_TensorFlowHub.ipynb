{
  "nbformat": 4,
  "nbformat_minor": 0,
  "metadata": {
    "colab": {
      "name": "DeepLexia_TensorFlowHub.ipynb",
      "provenance": []
    },
    "kernelspec": {
      "name": "python3",
      "display_name": "Python 3"
    }
  },
  "cells": [
    {
      "cell_type": "markdown",
      "metadata": {
        "id": "yviKF6xM8dDo",
        "colab_type": "text"
      },
      "source": [
        "# Learning to use TENSORFLOW HUB - application on DSR Project"
      ]
    },
    {
      "cell_type": "code",
      "metadata": {
        "id": "TVWs5ZPjGt-a",
        "colab_type": "code",
        "colab": {}
      },
      "source": [
        "import tensorflow as tf\n",
        "import tensorflow_datasets as tfds\n",
        "import numpy as np\n",
        "import pandas as pd\n",
        "import matplotlib.pyplot as plt\n",
        "from tensorflow.keras import models, layers\n",
        "import seaborn as sb\n",
        "from tensorflow.keras.layers import Dropout\n",
        "from tensorflow.keras.regularizers import l2\n",
        "from IPython.display import clear_output\n",
        "import math"
      ],
      "execution_count": 190,
      "outputs": []
    },
    {
      "cell_type": "markdown",
      "metadata": {
        "id": "PrvH63gd_V6X",
        "colab_type": "text"
      },
      "source": [
        "## 1A. Downloading the Dataset with groups"
      ]
    },
    {
      "cell_type": "code",
      "metadata": {
        "id": "Y0APLcsW73wv",
        "colab_type": "code",
        "colab": {
          "resources": {
            "http://localhost:8080/nbextensions/google.colab/files.js": {
              "data": "Ly8gQ29weXJpZ2h0IDIwMTcgR29vZ2xlIExMQwovLwovLyBMaWNlbnNlZCB1bmRlciB0aGUgQXBhY2hlIExpY2Vuc2UsIFZlcnNpb24gMi4wICh0aGUgIkxpY2Vuc2UiKTsKLy8geW91IG1heSBub3QgdXNlIHRoaXMgZmlsZSBleGNlcHQgaW4gY29tcGxpYW5jZSB3aXRoIHRoZSBMaWNlbnNlLgovLyBZb3UgbWF5IG9idGFpbiBhIGNvcHkgb2YgdGhlIExpY2Vuc2UgYXQKLy8KLy8gICAgICBodHRwOi8vd3d3LmFwYWNoZS5vcmcvbGljZW5zZXMvTElDRU5TRS0yLjAKLy8KLy8gVW5sZXNzIHJlcXVpcmVkIGJ5IGFwcGxpY2FibGUgbGF3IG9yIGFncmVlZCB0byBpbiB3cml0aW5nLCBzb2Z0d2FyZQovLyBkaXN0cmlidXRlZCB1bmRlciB0aGUgTGljZW5zZSBpcyBkaXN0cmlidXRlZCBvbiBhbiAiQVMgSVMiIEJBU0lTLAovLyBXSVRIT1VUIFdBUlJBTlRJRVMgT1IgQ09ORElUSU9OUyBPRiBBTlkgS0lORCwgZWl0aGVyIGV4cHJlc3Mgb3IgaW1wbGllZC4KLy8gU2VlIHRoZSBMaWNlbnNlIGZvciB0aGUgc3BlY2lmaWMgbGFuZ3VhZ2UgZ292ZXJuaW5nIHBlcm1pc3Npb25zIGFuZAovLyBsaW1pdGF0aW9ucyB1bmRlciB0aGUgTGljZW5zZS4KCi8qKgogKiBAZmlsZW92ZXJ2aWV3IEhlbHBlcnMgZm9yIGdvb2dsZS5jb2xhYiBQeXRob24gbW9kdWxlLgogKi8KKGZ1bmN0aW9uKHNjb3BlKSB7CmZ1bmN0aW9uIHNwYW4odGV4dCwgc3R5bGVBdHRyaWJ1dGVzID0ge30pIHsKICBjb25zdCBlbGVtZW50ID0gZG9jdW1lbnQuY3JlYXRlRWxlbWVudCgnc3BhbicpOwogIGVsZW1lbnQudGV4dENvbnRlbnQgPSB0ZXh0OwogIGZvciAoY29uc3Qga2V5IG9mIE9iamVjdC5rZXlzKHN0eWxlQXR0cmlidXRlcykpIHsKICAgIGVsZW1lbnQuc3R5bGVba2V5XSA9IHN0eWxlQXR0cmlidXRlc1trZXldOwogIH0KICByZXR1cm4gZWxlbWVudDsKfQoKLy8gTWF4IG51bWJlciBvZiBieXRlcyB3aGljaCB3aWxsIGJlIHVwbG9hZGVkIGF0IGEgdGltZS4KY29uc3QgTUFYX1BBWUxPQURfU0laRSA9IDEwMCAqIDEwMjQ7CgpmdW5jdGlvbiBfdXBsb2FkRmlsZXMoaW5wdXRJZCwgb3V0cHV0SWQpIHsKICBjb25zdCBzdGVwcyA9IHVwbG9hZEZpbGVzU3RlcChpbnB1dElkLCBvdXRwdXRJZCk7CiAgY29uc3Qgb3V0cHV0RWxlbWVudCA9IGRvY3VtZW50LmdldEVsZW1lbnRCeUlkKG91dHB1dElkKTsKICAvLyBDYWNoZSBzdGVwcyBvbiB0aGUgb3V0cHV0RWxlbWVudCB0byBtYWtlIGl0IGF2YWlsYWJsZSBmb3IgdGhlIG5leHQgY2FsbAogIC8vIHRvIHVwbG9hZEZpbGVzQ29udGludWUgZnJvbSBQeXRob24uCiAgb3V0cHV0RWxlbWVudC5zdGVwcyA9IHN0ZXBzOwoKICByZXR1cm4gX3VwbG9hZEZpbGVzQ29udGludWUob3V0cHV0SWQpOwp9CgovLyBUaGlzIGlzIHJvdWdobHkgYW4gYXN5bmMgZ2VuZXJhdG9yIChub3Qgc3VwcG9ydGVkIGluIHRoZSBicm93c2VyIHlldCksCi8vIHdoZXJlIHRoZXJlIGFyZSBtdWx0aXBsZSBhc3luY2hyb25vdXMgc3RlcHMgYW5kIHRoZSBQeXRob24gc2lkZSBpcyBnb2luZwovLyB0byBwb2xsIGZvciBjb21wbGV0aW9uIG9mIGVhY2ggc3RlcC4KLy8gVGhpcyB1c2VzIGEgUHJvbWlzZSB0byBibG9jayB0aGUgcHl0aG9uIHNpZGUgb24gY29tcGxldGlvbiBvZiBlYWNoIHN0ZXAsCi8vIHRoZW4gcGFzc2VzIHRoZSByZXN1bHQgb2YgdGhlIHByZXZpb3VzIHN0ZXAgYXMgdGhlIGlucHV0IHRvIHRoZSBuZXh0IHN0ZXAuCmZ1bmN0aW9uIF91cGxvYWRGaWxlc0NvbnRpbnVlKG91dHB1dElkKSB7CiAgY29uc3Qgb3V0cHV0RWxlbWVudCA9IGRvY3VtZW50LmdldEVsZW1lbnRCeUlkKG91dHB1dElkKTsKICBjb25zdCBzdGVwcyA9IG91dHB1dEVsZW1lbnQuc3RlcHM7CgogIGNvbnN0IG5leHQgPSBzdGVwcy5uZXh0KG91dHB1dEVsZW1lbnQubGFzdFByb21pc2VWYWx1ZSk7CiAgcmV0dXJuIFByb21pc2UucmVzb2x2ZShuZXh0LnZhbHVlLnByb21pc2UpLnRoZW4oKHZhbHVlKSA9PiB7CiAgICAvLyBDYWNoZSB0aGUgbGFzdCBwcm9taXNlIHZhbHVlIHRvIG1ha2UgaXQgYXZhaWxhYmxlIHRvIHRoZSBuZXh0CiAgICAvLyBzdGVwIG9mIHRoZSBnZW5lcmF0b3IuCiAgICBvdXRwdXRFbGVtZW50Lmxhc3RQcm9taXNlVmFsdWUgPSB2YWx1ZTsKICAgIHJldHVybiBuZXh0LnZhbHVlLnJlc3BvbnNlOwogIH0pOwp9CgovKioKICogR2VuZXJhdG9yIGZ1bmN0aW9uIHdoaWNoIGlzIGNhbGxlZCBiZXR3ZWVuIGVhY2ggYXN5bmMgc3RlcCBvZiB0aGUgdXBsb2FkCiAqIHByb2Nlc3MuCiAqIEBwYXJhbSB7c3RyaW5nfSBpbnB1dElkIEVsZW1lbnQgSUQgb2YgdGhlIGlucHV0IGZpbGUgcGlja2VyIGVsZW1lbnQuCiAqIEBwYXJhbSB7c3RyaW5nfSBvdXRwdXRJZCBFbGVtZW50IElEIG9mIHRoZSBvdXRwdXQgZGlzcGxheS4KICogQHJldHVybiB7IUl0ZXJhYmxlPCFPYmplY3Q+fSBJdGVyYWJsZSBvZiBuZXh0IHN0ZXBzLgogKi8KZnVuY3Rpb24qIHVwbG9hZEZpbGVzU3RlcChpbnB1dElkLCBvdXRwdXRJZCkgewogIGNvbnN0IGlucHV0RWxlbWVudCA9IGRvY3VtZW50LmdldEVsZW1lbnRCeUlkKGlucHV0SWQpOwogIGlucHV0RWxlbWVudC5kaXNhYmxlZCA9IGZhbHNlOwoKICBjb25zdCBvdXRwdXRFbGVtZW50ID0gZG9jdW1lbnQuZ2V0RWxlbWVudEJ5SWQob3V0cHV0SWQpOwogIG91dHB1dEVsZW1lbnQuaW5uZXJIVE1MID0gJyc7CgogIGNvbnN0IHBpY2tlZFByb21pc2UgPSBuZXcgUHJvbWlzZSgocmVzb2x2ZSkgPT4gewogICAgaW5wdXRFbGVtZW50LmFkZEV2ZW50TGlzdGVuZXIoJ2NoYW5nZScsIChlKSA9PiB7CiAgICAgIHJlc29sdmUoZS50YXJnZXQuZmlsZXMpOwogICAgfSk7CiAgfSk7CgogIGNvbnN0IGNhbmNlbCA9IGRvY3VtZW50LmNyZWF0ZUVsZW1lbnQoJ2J1dHRvbicpOwogIGlucHV0RWxlbWVudC5wYXJlbnRFbGVtZW50LmFwcGVuZENoaWxkKGNhbmNlbCk7CiAgY2FuY2VsLnRleHRDb250ZW50ID0gJ0NhbmNlbCB1cGxvYWQnOwogIGNvbnN0IGNhbmNlbFByb21pc2UgPSBuZXcgUHJvbWlzZSgocmVzb2x2ZSkgPT4gewogICAgY2FuY2VsLm9uY2xpY2sgPSAoKSA9PiB7CiAgICAgIHJlc29sdmUobnVsbCk7CiAgICB9OwogIH0pOwoKICAvLyBXYWl0IGZvciB0aGUgdXNlciB0byBwaWNrIHRoZSBmaWxlcy4KICBjb25zdCBmaWxlcyA9IHlpZWxkIHsKICAgIHByb21pc2U6IFByb21pc2UucmFjZShbcGlja2VkUHJvbWlzZSwgY2FuY2VsUHJvbWlzZV0pLAogICAgcmVzcG9uc2U6IHsKICAgICAgYWN0aW9uOiAnc3RhcnRpbmcnLAogICAgfQogIH07CgogIGNhbmNlbC5yZW1vdmUoKTsKCiAgLy8gRGlzYWJsZSB0aGUgaW5wdXQgZWxlbWVudCBzaW5jZSBmdXJ0aGVyIHBpY2tzIGFyZSBub3QgYWxsb3dlZC4KICBpbnB1dEVsZW1lbnQuZGlzYWJsZWQgPSB0cnVlOwoKICBpZiAoIWZpbGVzKSB7CiAgICByZXR1cm4gewogICAgICByZXNwb25zZTogewogICAgICAgIGFjdGlvbjogJ2NvbXBsZXRlJywKICAgICAgfQogICAgfTsKICB9CgogIGZvciAoY29uc3QgZmlsZSBvZiBmaWxlcykgewogICAgY29uc3QgbGkgPSBkb2N1bWVudC5jcmVhdGVFbGVtZW50KCdsaScpOwogICAgbGkuYXBwZW5kKHNwYW4oZmlsZS5uYW1lLCB7Zm9udFdlaWdodDogJ2JvbGQnfSkpOwogICAgbGkuYXBwZW5kKHNwYW4oCiAgICAgICAgYCgke2ZpbGUudHlwZSB8fCAnbi9hJ30pIC0gJHtmaWxlLnNpemV9IGJ5dGVzLCBgICsKICAgICAgICBgbGFzdCBtb2RpZmllZDogJHsKICAgICAgICAgICAgZmlsZS5sYXN0TW9kaWZpZWREYXRlID8gZmlsZS5sYXN0TW9kaWZpZWREYXRlLnRvTG9jYWxlRGF0ZVN0cmluZygpIDoKICAgICAgICAgICAgICAgICAgICAgICAgICAgICAgICAgICAgJ24vYSd9IC0gYCkpOwogICAgY29uc3QgcGVyY2VudCA9IHNwYW4oJzAlIGRvbmUnKTsKICAgIGxpLmFwcGVuZENoaWxkKHBlcmNlbnQpOwoKICAgIG91dHB1dEVsZW1lbnQuYXBwZW5kQ2hpbGQobGkpOwoKICAgIGNvbnN0IGZpbGVEYXRhUHJvbWlzZSA9IG5ldyBQcm9taXNlKChyZXNvbHZlKSA9PiB7CiAgICAgIGNvbnN0IHJlYWRlciA9IG5ldyBGaWxlUmVhZGVyKCk7CiAgICAgIHJlYWRlci5vbmxvYWQgPSAoZSkgPT4gewogICAgICAgIHJlc29sdmUoZS50YXJnZXQucmVzdWx0KTsKICAgICAgfTsKICAgICAgcmVhZGVyLnJlYWRBc0FycmF5QnVmZmVyKGZpbGUpOwogICAgfSk7CiAgICAvLyBXYWl0IGZvciB0aGUgZGF0YSB0byBiZSByZWFkeS4KICAgIGxldCBmaWxlRGF0YSA9IHlpZWxkIHsKICAgICAgcHJvbWlzZTogZmlsZURhdGFQcm9taXNlLAogICAgICByZXNwb25zZTogewogICAgICAgIGFjdGlvbjogJ2NvbnRpbnVlJywKICAgICAgfQogICAgfTsKCiAgICAvLyBVc2UgYSBjaHVua2VkIHNlbmRpbmcgdG8gYXZvaWQgbWVzc2FnZSBzaXplIGxpbWl0cy4gU2VlIGIvNjIxMTU2NjAuCiAgICBsZXQgcG9zaXRpb24gPSAwOwogICAgd2hpbGUgKHBvc2l0aW9uIDwgZmlsZURhdGEuYnl0ZUxlbmd0aCkgewogICAgICBjb25zdCBsZW5ndGggPSBNYXRoLm1pbihmaWxlRGF0YS5ieXRlTGVuZ3RoIC0gcG9zaXRpb24sIE1BWF9QQVlMT0FEX1NJWkUpOwogICAgICBjb25zdCBjaHVuayA9IG5ldyBVaW50OEFycmF5KGZpbGVEYXRhLCBwb3NpdGlvbiwgbGVuZ3RoKTsKICAgICAgcG9zaXRpb24gKz0gbGVuZ3RoOwoKICAgICAgY29uc3QgYmFzZTY0ID0gYnRvYShTdHJpbmcuZnJvbUNoYXJDb2RlLmFwcGx5KG51bGwsIGNodW5rKSk7CiAgICAgIHlpZWxkIHsKICAgICAgICByZXNwb25zZTogewogICAgICAgICAgYWN0aW9uOiAnYXBwZW5kJywKICAgICAgICAgIGZpbGU6IGZpbGUubmFtZSwKICAgICAgICAgIGRhdGE6IGJhc2U2NCwKICAgICAgICB9LAogICAgICB9OwogICAgICBwZXJjZW50LnRleHRDb250ZW50ID0KICAgICAgICAgIGAke01hdGgucm91bmQoKHBvc2l0aW9uIC8gZmlsZURhdGEuYnl0ZUxlbmd0aCkgKiAxMDApfSUgZG9uZWA7CiAgICB9CiAgfQoKICAvLyBBbGwgZG9uZS4KICB5aWVsZCB7CiAgICByZXNwb25zZTogewogICAgICBhY3Rpb246ICdjb21wbGV0ZScsCiAgICB9CiAgfTsKfQoKc2NvcGUuZ29vZ2xlID0gc2NvcGUuZ29vZ2xlIHx8IHt9OwpzY29wZS5nb29nbGUuY29sYWIgPSBzY29wZS5nb29nbGUuY29sYWIgfHwge307CnNjb3BlLmdvb2dsZS5jb2xhYi5fZmlsZXMgPSB7CiAgX3VwbG9hZEZpbGVzLAogIF91cGxvYWRGaWxlc0NvbnRpbnVlLAp9Owp9KShzZWxmKTsK",
              "ok": true,
              "headers": [
                [
                  "content-type",
                  "application/javascript"
                ]
              ],
              "status": 200,
              "status_text": ""
            }
          },
          "base_uri": "https://localhost:8080/",
          "height": 72
        },
        "outputId": "0eb11aa5-b53f-45ac-cf7a-6ae5b7341691"
      },
      "source": [
        "from google.colab import files\n",
        "uploaded = files.upload()"
      ],
      "execution_count": 193,
      "outputs": [
        {
          "output_type": "display_data",
          "data": {
            "text/html": [
              "\n",
              "     <input type=\"file\" id=\"files-d993e371-375d-49bc-ac70-d08d3068f7ca\" name=\"files[]\" multiple disabled\n",
              "        style=\"border:none\" />\n",
              "     <output id=\"result-d993e371-375d-49bc-ac70-d08d3068f7ca\">\n",
              "      Upload widget is only available when the cell has been executed in the\n",
              "      current browser session. Please rerun this cell to enable.\n",
              "      </output>\n",
              "      <script src=\"/nbextensions/google.colab/files.js\"></script> "
            ],
            "text/plain": [
              "<IPython.core.display.HTML object>"
            ]
          },
          "metadata": {
            "tags": []
          }
        },
        {
          "output_type": "stream",
          "text": [
            "Saving file_name.csv to file_name (3).csv\n"
          ],
          "name": "stdout"
        }
      ]
    },
    {
      "cell_type": "code",
      "metadata": {
        "id": "eKNf6_cw-jVc",
        "colab_type": "code",
        "colab": {}
      },
      "source": [
        "## Import Emoji description dataset\n",
        "import io\n",
        "improved_clusters_df = pd.read_csv(io.BytesIO(uploaded['file_name.csv']))"
      ],
      "execution_count": 194,
      "outputs": []
    },
    {
      "cell_type": "code",
      "metadata": {
        "id": "1WBlzS89y5xP",
        "colab_type": "code",
        "colab": {
          "base_uri": "https://localhost:8080/",
          "height": 142
        },
        "outputId": "9bc9fe53-2b22-4cc4-8a73-3824956de17e"
      },
      "source": [
        "improved_clusters_df.sample(3, random_state=123)"
      ],
      "execution_count": 4,
      "outputs": [
        {
          "output_type": "execute_result",
          "data": {
            "text/html": [
              "<div>\n",
              "<style scoped>\n",
              "    .dataframe tbody tr th:only-of-type {\n",
              "        vertical-align: middle;\n",
              "    }\n",
              "\n",
              "    .dataframe tbody tr th {\n",
              "        vertical-align: top;\n",
              "    }\n",
              "\n",
              "    .dataframe thead th {\n",
              "        text-align: right;\n",
              "    }\n",
              "</style>\n",
              "<table border=\"1\" class=\"dataframe\">\n",
              "  <thead>\n",
              "    <tr style=\"text-align: right;\">\n",
              "      <th></th>\n",
              "      <th>Unnamed: 0</th>\n",
              "      <th>Unnamed: 0.1</th>\n",
              "      <th>emoji_symbol</th>\n",
              "      <th>emoji_name</th>\n",
              "      <th>emoji_code</th>\n",
              "      <th>emoji_description</th>\n",
              "      <th>label_name</th>\n",
              "      <th>label_num</th>\n",
              "    </tr>\n",
              "  </thead>\n",
              "  <tbody>\n",
              "    <tr>\n",
              "      <th>189</th>\n",
              "      <td>189</td>\n",
              "      <td>189</td>\n",
              "      <td>🙎</td>\n",
              "      <td>Person Pouting</td>\n",
              "      <td>U+1F64E</td>\n",
              "      <td>A person with a serious expression,showing mil...</td>\n",
              "      <td>Person-activity</td>\n",
              "      <td>6</td>\n",
              "    </tr>\n",
              "    <tr>\n",
              "      <th>1052</th>\n",
              "      <td>1052</td>\n",
              "      <td>1052</td>\n",
              "      <td>💻</td>\n",
              "      <td>Laptop</td>\n",
              "      <td>U+1F4BB</td>\n",
              "      <td>A laptop personal computer. Depicted as a blac...</td>\n",
              "      <td>Objects</td>\n",
              "      <td>5</td>\n",
              "    </tr>\n",
              "    <tr>\n",
              "      <th>954</th>\n",
              "      <td>954</td>\n",
              "      <td>954</td>\n",
              "      <td>⚓</td>\n",
              "      <td>Anchor</td>\n",
              "      <td>U+2693</td>\n",
              "      <td>A metal device, dropped out of a boat to preve...</td>\n",
              "      <td>Travel &amp; Places</td>\n",
              "      <td>10</td>\n",
              "    </tr>\n",
              "  </tbody>\n",
              "</table>\n",
              "</div>"
            ],
            "text/plain": [
              "      Unnamed: 0  Unnamed: 0.1  ...       label_name label_num\n",
              "189          189           189  ...  Person-activity         6\n",
              "1052        1052          1052  ...          Objects         5\n",
              "954          954           954  ...  Travel & Places        10\n",
              "\n",
              "[3 rows x 8 columns]"
            ]
          },
          "metadata": {
            "tags": []
          },
          "execution_count": 4
        }
      ]
    },
    {
      "cell_type": "markdown",
      "metadata": {
        "id": "Tzk_5lSOq6_D",
        "colab_type": "text"
      },
      "source": [
        "#### Class distribution"
      ]
    },
    {
      "cell_type": "code",
      "metadata": {
        "id": "FWueR9k5EaMS",
        "colab_type": "code",
        "colab": {}
      },
      "source": [
        "base_color = sb.color_palette()[0]"
      ],
      "execution_count": 5,
      "outputs": []
    },
    {
      "cell_type": "code",
      "metadata": {
        "id": "S5bbzbCnD2M3",
        "colab_type": "code",
        "colab": {
          "base_uri": "https://localhost:8080/",
          "height": 414
        },
        "outputId": "d673e5a4-82d0-4b56-b156-44b090644a36"
      },
      "source": [
        "plt.figure(figsize = [10,5])\n",
        "sb.countplot(data=improved_clusters_df,x='label_name',order=improved_clusters_df.label_name.value_counts().index,\n",
        "            color=base_color)\n",
        "plt.xticks(rotation=45)\n",
        "plt.title('Cluster distribution in emojipedia regrouped');"
      ],
      "execution_count": 6,
      "outputs": [
        {
          "output_type": "display_data",
          "data": {
            "image/png": "[encoded data removed]",
            "text/plain": [
              "<Figure size 720x360 with 1 Axes>"
            ]
          },
          "metadata": {
            "tags": [],
            "needs_background": "light"
          }
        }
      ]
    },
    {
      "cell_type": "markdown",
      "metadata": {
        "id": "XRHGtLWQrTe1",
        "colab_type": "text"
      },
      "source": [
        "#### Dictionnary label_num to label_name"
      ]
    },
    {
      "cell_type": "code",
      "metadata": {
        "id": "NJkwE9qRevQB",
        "colab_type": "code",
        "colab": {}
      },
      "source": [
        "# Building a dictionnary label_num to label_name\n",
        "num_2_name = improved_clusters_df[['label_num', 'label_name']].copy()"
      ],
      "execution_count": 195,
      "outputs": []
    },
    {
      "cell_type": "code",
      "metadata": {
        "id": "8X_qUKtDevUg",
        "colab_type": "code",
        "colab": {}
      },
      "source": [
        "num2name = num_2_name.groupby(by='label_name').first()"
      ],
      "execution_count": 196,
      "outputs": []
    },
    {
      "cell_type": "code",
      "metadata": {
        "id": "Yg3K47qFsy1g",
        "colab_type": "code",
        "colab": {
          "base_uri": "https://localhost:8080/",
          "height": 452
        },
        "outputId": "3178b5f4-0409-4ceb-8936-b9230b202717"
      },
      "source": [
        "num2name"
      ],
      "execution_count": 197,
      "outputs": [
        {
          "output_type": "execute_result",
          "data": {
            "text/html": [
              "<div>\n",
              "<style scoped>\n",
              "    .dataframe tbody tr th:only-of-type {\n",
              "        vertical-align: middle;\n",
              "    }\n",
              "\n",
              "    .dataframe tbody tr th {\n",
              "        vertical-align: top;\n",
              "    }\n",
              "\n",
              "    .dataframe thead th {\n",
              "        text-align: right;\n",
              "    }\n",
              "</style>\n",
              "<table border=\"1\" class=\"dataframe\">\n",
              "  <thead>\n",
              "    <tr style=\"text-align: right;\">\n",
              "      <th></th>\n",
              "      <th>label_num</th>\n",
              "    </tr>\n",
              "    <tr>\n",
              "      <th>label_name</th>\n",
              "      <th></th>\n",
              "    </tr>\n",
              "  </thead>\n",
              "  <tbody>\n",
              "    <tr>\n",
              "      <th>Activities</th>\n",
              "      <td>0</td>\n",
              "    </tr>\n",
              "    <tr>\n",
              "      <th>Animals &amp; Nature</th>\n",
              "      <td>1</td>\n",
              "    </tr>\n",
              "    <tr>\n",
              "      <th>Body_parts</th>\n",
              "      <td>2</td>\n",
              "    </tr>\n",
              "    <tr>\n",
              "      <th>Flags</th>\n",
              "      <td>3</td>\n",
              "    </tr>\n",
              "    <tr>\n",
              "      <th>Food &amp; Drink</th>\n",
              "      <td>4</td>\n",
              "    </tr>\n",
              "    <tr>\n",
              "      <th>Objects</th>\n",
              "      <td>5</td>\n",
              "    </tr>\n",
              "    <tr>\n",
              "      <th>Person-activity</th>\n",
              "      <td>6</td>\n",
              "    </tr>\n",
              "    <tr>\n",
              "      <th>Person_or_family</th>\n",
              "      <td>7</td>\n",
              "    </tr>\n",
              "    <tr>\n",
              "      <th>Smileys &amp; Emotion</th>\n",
              "      <td>8</td>\n",
              "    </tr>\n",
              "    <tr>\n",
              "      <th>Symbols</th>\n",
              "      <td>9</td>\n",
              "    </tr>\n",
              "    <tr>\n",
              "      <th>Travel &amp; Places</th>\n",
              "      <td>10</td>\n",
              "    </tr>\n",
              "    <tr>\n",
              "      <th>person-role</th>\n",
              "      <td>11</td>\n",
              "    </tr>\n",
              "  </tbody>\n",
              "</table>\n",
              "</div>"
            ],
            "text/plain": [
              "                   label_num\n",
              "label_name                  \n",
              "Activities                 0\n",
              "Animals & Nature           1\n",
              "Body_parts                 2\n",
              "Flags                      3\n",
              "Food & Drink               4\n",
              "Objects                    5\n",
              "Person-activity            6\n",
              "Person_or_family           7\n",
              "Smileys & Emotion          8\n",
              "Symbols                    9\n",
              "Travel & Places           10\n",
              "person-role               11"
            ]
          },
          "metadata": {
            "tags": []
          },
          "execution_count": 197
        }
      ]
    },
    {
      "cell_type": "code",
      "metadata": {
        "id": "mLZnsUAggZal",
        "colab_type": "code",
        "colab": {}
      },
      "source": [
        "num_2_name_lookup = dict(zip(list(num2name.label_num),list(num2name.index)))"
      ],
      "execution_count": 198,
      "outputs": []
    },
    {
      "cell_type": "code",
      "metadata": {
        "id": "eVeEJj4JtcJe",
        "colab_type": "code",
        "colab": {}
      },
      "source": [
        "df = improved_clusters_df[[\"emoji_description\", \"label_num\"]].copy()"
      ],
      "execution_count": 199,
      "outputs": []
    },
    {
      "cell_type": "code",
      "metadata": {
        "id": "tu1d6jkcy7Ja",
        "colab_type": "code",
        "colab": {
          "base_uri": "https://localhost:8080/",
          "height": 142
        },
        "outputId": "589dff02-68d1-478a-9286-386a569f2764"
      },
      "source": [
        "df.sample(3, random_state=123)"
      ],
      "execution_count": 200,
      "outputs": [
        {
          "output_type": "execute_result",
          "data": {
            "text/html": [
              "<div>\n",
              "<style scoped>\n",
              "    .dataframe tbody tr th:only-of-type {\n",
              "        vertical-align: middle;\n",
              "    }\n",
              "\n",
              "    .dataframe tbody tr th {\n",
              "        vertical-align: top;\n",
              "    }\n",
              "\n",
              "    .dataframe thead th {\n",
              "        text-align: right;\n",
              "    }\n",
              "</style>\n",
              "<table border=\"1\" class=\"dataframe\">\n",
              "  <thead>\n",
              "    <tr style=\"text-align: right;\">\n",
              "      <th></th>\n",
              "      <th>emoji_description</th>\n",
              "      <th>label_num</th>\n",
              "    </tr>\n",
              "  </thead>\n",
              "  <tbody>\n",
              "    <tr>\n",
              "      <th>189</th>\n",
              "      <td>A person with a serious expression,showing mil...</td>\n",
              "      <td>6</td>\n",
              "    </tr>\n",
              "    <tr>\n",
              "      <th>1052</th>\n",
              "      <td>A laptop personal computer. Depicted as a blac...</td>\n",
              "      <td>5</td>\n",
              "    </tr>\n",
              "    <tr>\n",
              "      <th>954</th>\n",
              "      <td>A metal device, dropped out of a boat to preve...</td>\n",
              "      <td>10</td>\n",
              "    </tr>\n",
              "  </tbody>\n",
              "</table>\n",
              "</div>"
            ],
            "text/plain": [
              "                                      emoji_description  label_num\n",
              "189   A person with a serious expression,showing mil...          6\n",
              "1052  A laptop personal computer. Depicted as a blac...          5\n",
              "954   A metal device, dropped out of a boat to preve...         10"
            ]
          },
          "metadata": {
            "tags": []
          },
          "execution_count": 200
        }
      ]
    },
    {
      "cell_type": "code",
      "metadata": {
        "id": "Nt5wo2so3rj6",
        "colab_type": "code",
        "colab": {}
      },
      "source": [
        "# Taking a copy of the dataframe\n",
        "dataframe = improved_clusters_df[[\"emoji_description\", \"label_num\"]].copy()"
      ],
      "execution_count": 201,
      "outputs": []
    },
    {
      "cell_type": "code",
      "metadata": {
        "id": "y1STZAsyXcY-",
        "colab_type": "code",
        "colab": {
          "base_uri": "https://localhost:8080/",
          "height": 34
        },
        "outputId": "fc7fefe5-a10a-416c-b3fd-903299260be5"
      },
      "source": [
        "dataframe.label_num.nunique()"
      ],
      "execution_count": 202,
      "outputs": [
        {
          "output_type": "execute_result",
          "data": {
            "text/plain": [
              "12"
            ]
          },
          "metadata": {
            "tags": []
          },
          "execution_count": 202
        }
      ]
    },
    {
      "cell_type": "markdown",
      "metadata": {
        "id": "MINj9KSAcQfr",
        "colab_type": "text"
      },
      "source": [
        "## 1B. Data Augmentation"
      ]
    },
    {
      "cell_type": "markdown",
      "metadata": {
        "id": "2QmZ2CdVYogx",
        "colab_type": "text"
      },
      "source": [
        "###  Using TextBlob"
      ]
    },
    {
      "cell_type": "code",
      "metadata": {
        "id": "mzSUuprrX6D2",
        "colab_type": "code",
        "colab": {
          "base_uri": "https://localhost:8080/",
          "height": 68
        },
        "outputId": "8bcdfa47-5dd8-441c-aeaa-186d2b161488"
      },
      "source": [
        "!pip install -U textblob"
      ],
      "execution_count": 203,
      "outputs": [
        {
          "output_type": "stream",
          "text": [
            "Requirement already up-to-date: textblob in /usr/local/lib/python3.6/dist-packages (0.15.3)\n",
            "Requirement already satisfied, skipping upgrade: nltk>=3.1 in /usr/local/lib/python3.6/dist-packages (from textblob) (3.2.5)\n",
            "Requirement already satisfied, skipping upgrade: six in /usr/local/lib/python3.6/dist-packages (from nltk>=3.1->textblob) (1.15.0)\n"
          ],
          "name": "stdout"
        }
      ]
    },
    {
      "cell_type": "code",
      "metadata": {
        "id": "b_UtNp_OX6rR",
        "colab_type": "code",
        "colab": {
          "base_uri": "https://localhost:8080/",
          "height": 272
        },
        "outputId": "3a31ff2d-e065-4a67-bb16-7483bacb693f"
      },
      "source": [
        "!python -m textblob.download_corpora"
      ],
      "execution_count": 204,
      "outputs": [
        {
          "output_type": "stream",
          "text": [
            "[nltk_data] Downloading package brown to /root/nltk_data...\n",
            "[nltk_data]   Package brown is already up-to-date!\n",
            "[nltk_data] Downloading package punkt to /root/nltk_data...\n",
            "[nltk_data]   Package punkt is already up-to-date!\n",
            "[nltk_data] Downloading package wordnet to /root/nltk_data...\n",
            "[nltk_data]   Package wordnet is already up-to-date!\n",
            "[nltk_data] Downloading package averaged_perceptron_tagger to\n",
            "[nltk_data]     /root/nltk_data...\n",
            "[nltk_data]   Package averaged_perceptron_tagger is already up-to-\n",
            "[nltk_data]       date!\n",
            "[nltk_data] Downloading package conll2000 to /root/nltk_data...\n",
            "[nltk_data]   Package conll2000 is already up-to-date!\n",
            "[nltk_data] Downloading package movie_reviews to /root/nltk_data...\n",
            "[nltk_data]   Package movie_reviews is already up-to-date!\n",
            "Finished.\n"
          ],
          "name": "stdout"
        }
      ]
    },
    {
      "cell_type": "code",
      "metadata": {
        "id": "V0KTc8pbX6oK",
        "colab_type": "code",
        "colab": {}
      },
      "source": [
        "from textblob import TextBlob\n",
        "from textblob.translate import NotTranslated"
      ],
      "execution_count": 205,
      "outputs": []
    },
    {
      "cell_type": "code",
      "metadata": {
        "id": "DOnAr3fndZlG",
        "colab_type": "code",
        "colab": {}
      },
      "source": [
        "def textblob_dataugm(df,name_text_col='features',name_label_col='target'):\n",
        "  # Extracting a list with all the descriptions and one with the related emojis\n",
        "  descr_list = list(df[name_text_col])\n",
        "  label_list = list(df[name_label_col])\n",
        "\n",
        "  corr_desc = []\n",
        "  updated_label = [] # In case a NotTransalted Error would be raisen\n",
        "  for i, descr in enumerate(descr_list):\n",
        "    print(f'Augmenting description job: {math.ceil(((i+1)/len(label_list))*100)}%')\n",
        "    clear_output(wait=True)\n",
        "    blob_descr = TextBlob(descr)\n",
        "    try:\n",
        "        fr_descr = blob_descr.correct().translate(from_lang='en', to ='fr')\n",
        "    except NotTranslated:\n",
        "        print('Error with ', blob_descr)\n",
        "    \n",
        "    try:\n",
        "        en_descr = fr_descr.translate(from_lang='fr', to='en')\n",
        "        updated_label.append(label_list[i]) # Only keeping emoji if no NotTranslatedError\n",
        "        corr_desc.append(str(en_descr).replace(\"Embolism\",\"emoji\").replace(\"embolism\",\"emoji\"))\n",
        "    except NotTranslated:\n",
        "        pass\n",
        "  \n",
        "  assert len(corr_desc) == len(updated_label)\n",
        "    \n",
        "  \n",
        "  # adding old and new lists together\n",
        "  new_desc_list = descr_list + corr_desc\n",
        "  new_label_list = label_list + updated_label\n",
        "\n",
        "  help_dict = {\"features\": new_desc_list, \"target\": new_label_list}\n",
        "  new_df = pd.DataFrame(help_dict)\n",
        "\n",
        "  return new_df"
      ],
      "execution_count": 19,
      "outputs": []
    },
    {
      "cell_type": "markdown",
      "metadata": {
        "id": "ksZvd7Pn4ahg",
        "colab_type": "text"
      },
      "source": [
        "## 2. Dataset prepa"
      ]
    },
    {
      "cell_type": "markdown",
      "metadata": {
        "id": "gIP0uo2U3OpK",
        "colab_type": "text"
      },
      "source": [
        "#### Creating a train and test dataset from a Pandas DataFrame\n",
        "\n",
        "source : https://www.tensorflow.org/tutorials/structured_data/feature_columns\n",
        "\n",
        " >  Next, we will wrap the dataframes with tf.data. This will enable us to use feature columns as a bridge to map from the columns in the Pandas dataframe to features used to train the model. If we were working with a very large CSV file (so large that it does not fit into memory), we would use tf.data to read it from disk directly."
      ]
    },
    {
      "cell_type": "code",
      "metadata": {
        "id": "sj541B8D162B",
        "colab_type": "code",
        "colab": {
          "base_uri": "https://localhost:8080/",
          "height": 142
        },
        "outputId": "5f0cada7-611b-457d-c7d4-3d1925f5d7bc"
      },
      "source": [
        "dataframe.sample(3)"
      ],
      "execution_count": 206,
      "outputs": [
        {
          "output_type": "execute_result",
          "data": {
            "text/html": [
              "<div>\n",
              "<style scoped>\n",
              "    .dataframe tbody tr th:only-of-type {\n",
              "        vertical-align: middle;\n",
              "    }\n",
              "\n",
              "    .dataframe tbody tr th {\n",
              "        vertical-align: top;\n",
              "    }\n",
              "\n",
              "    .dataframe thead th {\n",
              "        text-align: right;\n",
              "    }\n",
              "</style>\n",
              "<table border=\"1\" class=\"dataframe\">\n",
              "  <thead>\n",
              "    <tr style=\"text-align: right;\">\n",
              "      <th></th>\n",
              "      <th>emoji_description</th>\n",
              "      <th>label_num</th>\n",
              "    </tr>\n",
              "  </thead>\n",
              "  <tbody>\n",
              "    <tr>\n",
              "      <th>260</th>\n",
              "      <td>A femaleastronaut or cosmonaut shown wearing a...</td>\n",
              "      <td>11</td>\n",
              "    </tr>\n",
              "    <tr>\n",
              "      <th>227</th>\n",
              "      <td>The Woman Judge emoji is aZWJ sequencecombinin...</td>\n",
              "      <td>11</td>\n",
              "    </tr>\n",
              "    <tr>\n",
              "      <th>507</th>\n",
              "      <td>A skunk, a bushy-tailed mammal that sprays a f...</td>\n",
              "      <td>1</td>\n",
              "    </tr>\n",
              "  </tbody>\n",
              "</table>\n",
              "</div>"
            ],
            "text/plain": [
              "                                     emoji_description  label_num\n",
              "260  A femaleastronaut or cosmonaut shown wearing a...         11\n",
              "227  The Woman Judge emoji is aZWJ sequencecombinin...         11\n",
              "507  A skunk, a bushy-tailed mammal that sprays a f...          1"
            ]
          },
          "metadata": {
            "tags": []
          },
          "execution_count": 206
        }
      ]
    },
    {
      "cell_type": "code",
      "metadata": {
        "id": "ymEFxAAR6Rmc",
        "colab_type": "code",
        "colab": {}
      },
      "source": [
        "# Updating the names of the columns\n",
        "dataframe.columns = ['features','target']"
      ],
      "execution_count": 207,
      "outputs": []
    },
    {
      "cell_type": "code",
      "metadata": {
        "id": "SDXc7PDv6ctb",
        "colab_type": "code",
        "colab": {
          "base_uri": "https://localhost:8080/",
          "height": 80
        },
        "outputId": "ef0e628c-4cc6-4566-8d1a-f29021d37a3b"
      },
      "source": [
        "dataframe.head(1)"
      ],
      "execution_count": 208,
      "outputs": [
        {
          "output_type": "execute_result",
          "data": {
            "text/html": [
              "<div>\n",
              "<style scoped>\n",
              "    .dataframe tbody tr th:only-of-type {\n",
              "        vertical-align: middle;\n",
              "    }\n",
              "\n",
              "    .dataframe tbody tr th {\n",
              "        vertical-align: top;\n",
              "    }\n",
              "\n",
              "    .dataframe thead th {\n",
              "        text-align: right;\n",
              "    }\n",
              "</style>\n",
              "<table border=\"1\" class=\"dataframe\">\n",
              "  <thead>\n",
              "    <tr style=\"text-align: right;\">\n",
              "      <th></th>\n",
              "      <th>features</th>\n",
              "      <th>target</th>\n",
              "    </tr>\n",
              "  </thead>\n",
              "  <tbody>\n",
              "    <tr>\n",
              "      <th>0</th>\n",
              "      <td>A yellow face with simple, open eyes and a bro...</td>\n",
              "      <td>8</td>\n",
              "    </tr>\n",
              "  </tbody>\n",
              "</table>\n",
              "</div>"
            ],
            "text/plain": [
              "                                            features  target\n",
              "0  A yellow face with simple, open eyes and a bro...       8"
            ]
          },
          "metadata": {
            "tags": []
          },
          "execution_count": 208
        }
      ]
    },
    {
      "cell_type": "markdown",
      "metadata": {
        "id": "AQndQTGIZntn",
        "colab_type": "text"
      },
      "source": [
        "#### Dividing in Train and Test Set\n",
        "\n",
        "\n",
        "\n",
        "\n",
        "\n",
        "\n"
      ]
    },
    {
      "cell_type": "code",
      "metadata": {
        "id": "sKnhZAXD17Fe",
        "colab_type": "code",
        "colab": {
          "base_uri": "https://localhost:8080/",
          "height": 51
        },
        "outputId": "f029ab72-ed78-40eb-b08c-1a91ed24ceff"
      },
      "source": [
        "# Dividing in train and test set WITHOUT DATA AUGMENTATION\n",
        "from sklearn.model_selection import train_test_split\n",
        "train, test = train_test_split(dataframe, test_size=0.2,random_state=123)\n",
        "\n",
        "print(len(train), 'train examples')\n",
        "print(len(test), 'test examples')"
      ],
      "execution_count": 209,
      "outputs": [
        {
          "output_type": "stream",
          "text": [
            "1401 train examples\n",
            "351 test examples\n"
          ],
          "name": "stdout"
        }
      ]
    },
    {
      "cell_type": "markdown",
      "metadata": {
        "id": "obQeMgtN0sT8",
        "colab_type": "text"
      },
      "source": [
        "#### Divinding in Train and Test Set in case of Data Augmentation\n",
        "\n",
        "> As the data augmentation, will happen on the train set, here we take a test set that's a bit bigger "
      ]
    },
    {
      "cell_type": "code",
      "metadata": {
        "id": "9iadMkcoBzHT",
        "colab_type": "code",
        "colab": {
          "base_uri": "https://localhost:8080/",
          "height": 51
        },
        "outputId": "43626d30-0261-47b2-f266-28b6a3021369"
      },
      "source": [
        "# Dividing in train and test set (Not EXECUTING IF LOADING THE DATA)\n",
        "#train_augm, test_30pct = train_test_split(dataframe, test_size=0.3,random_state=123) # Taking this time a bigger Test Set\n",
        "\n",
        "#print(len(train_augm), 'train examples')\n",
        "#print(len(test_30pct), 'test examples')"
      ],
      "execution_count": 23,
      "outputs": [
        {
          "output_type": "stream",
          "text": [
            "1226 train examples\n",
            "526 test examples\n"
          ],
          "name": "stdout"
        }
      ]
    },
    {
      "cell_type": "code",
      "metadata": {
        "id": "MjN6Gi2a0qGM",
        "colab_type": "code",
        "colab": {
          "base_uri": "https://localhost:8080/",
          "height": 34
        },
        "outputId": "3858cf61-70a9-4340-b7bf-b5ef23707301"
      },
      "source": [
        "# DUBBLE THE TRAIN SET BY ADDING TRANSLATION EN-FR-EN\n",
        "#train_augm = textblob_dataugm(train_augm)   # You can run it in case not possible to load the "
      ],
      "execution_count": null,
      "outputs": [
        {
          "output_type": "stream",
          "text": [
            "Augmenting description job: 100%\n"
          ],
          "name": "stdout"
        }
      ]
    },
    {
      "cell_type": "code",
      "metadata": {
        "id": "7nIjF9ht01aL",
        "colab_type": "code",
        "colab": {
          "base_uri": "https://localhost:8080/",
          "height": 17
        },
        "outputId": "03f608fa-44b2-4c4c-bd71-21b4be8f5cb9"
      },
      "source": [
        "# Downloading the dataframe locally (Only first time to keep the data locally )\n",
        "#from google.colab import files\n",
        "#train_augm.to_csv('train_augm.csv') \n",
        "#test_30pct.to_csv('test_30pct.csv')\n",
        "#files.download('train_augm.csv')\n",
        "#files.download('test_30pct.csv')"
      ],
      "execution_count": null,
      "outputs": [
        {
          "output_type": "display_data",
          "data": {
            "application/javascript": [
              "\n",
              "    async function download(id, filename, size) {\n",
              "      if (!google.colab.kernel.accessAllowed) {\n",
              "        return;\n",
              "      }\n",
              "      const div = document.createElement('div');\n",
              "      const label = document.createElement('label');\n",
              "      label.textContent = `Downloading \"${filename}\": `;\n",
              "      div.appendChild(label);\n",
              "      const progress = document.createElement('progress');\n",
              "      progress.max = size;\n",
              "      div.appendChild(progress);\n",
              "      document.body.appendChild(div);\n",
              "\n",
              "      const buffers = [];\n",
              "      let downloaded = 0;\n",
              "\n",
              "      const channel = await google.colab.kernel.comms.open(id);\n",
              "      // Send a message to notify the kernel that we're ready.\n",
              "      channel.send({})\n",
              "\n",
              "      for await (const message of channel.messages) {\n",
              "        // Send a message to notify the kernel that we're ready.\n",
              "        channel.send({})\n",
              "        if (message.buffers) {\n",
              "          for (const buffer of message.buffers) {\n",
              "            buffers.push(buffer);\n",
              "            downloaded += buffer.byteLength;\n",
              "            progress.value = downloaded;\n",
              "          }\n",
              "        }\n",
              "      }\n",
              "      const blob = new Blob(buffers, {type: 'application/binary'});\n",
              "      const a = document.createElement('a');\n",
              "      a.href = window.URL.createObjectURL(blob);\n",
              "      a.download = filename;\n",
              "      div.appendChild(a);\n",
              "      a.click();\n",
              "      div.remove();\n",
              "    }\n",
              "  "
            ],
            "text/plain": [
              "<IPython.core.display.Javascript object>"
            ]
          },
          "metadata": {
            "tags": []
          }
        },
        {
          "output_type": "display_data",
          "data": {
            "application/javascript": [
              "download(\"download_16949c85-c332-455b-bcb4-f42bc4e15983\", \"train_augm.csv\", 642316)"
            ],
            "text/plain": [
              "<IPython.core.display.Javascript object>"
            ]
          },
          "metadata": {
            "tags": []
          }
        },
        {
          "output_type": "display_data",
          "data": {
            "application/javascript": [
              "\n",
              "    async function download(id, filename, size) {\n",
              "      if (!google.colab.kernel.accessAllowed) {\n",
              "        return;\n",
              "      }\n",
              "      const div = document.createElement('div');\n",
              "      const label = document.createElement('label');\n",
              "      label.textContent = `Downloading \"${filename}\": `;\n",
              "      div.appendChild(label);\n",
              "      const progress = document.createElement('progress');\n",
              "      progress.max = size;\n",
              "      div.appendChild(progress);\n",
              "      document.body.appendChild(div);\n",
              "\n",
              "      const buffers = [];\n",
              "      let downloaded = 0;\n",
              "\n",
              "      const channel = await google.colab.kernel.comms.open(id);\n",
              "      // Send a message to notify the kernel that we're ready.\n",
              "      channel.send({})\n",
              "\n",
              "      for await (const message of channel.messages) {\n",
              "        // Send a message to notify the kernel that we're ready.\n",
              "        channel.send({})\n",
              "        if (message.buffers) {\n",
              "          for (const buffer of message.buffers) {\n",
              "            buffers.push(buffer);\n",
              "            downloaded += buffer.byteLength;\n",
              "            progress.value = downloaded;\n",
              "          }\n",
              "        }\n",
              "      }\n",
              "      const blob = new Blob(buffers, {type: 'application/binary'});\n",
              "      const a = document.createElement('a');\n",
              "      a.href = window.URL.createObjectURL(blob);\n",
              "      a.download = filename;\n",
              "      div.appendChild(a);\n",
              "      a.click();\n",
              "      div.remove();\n",
              "    }\n",
              "  "
            ],
            "text/plain": [
              "<IPython.core.display.Javascript object>"
            ]
          },
          "metadata": {
            "tags": []
          }
        },
        {
          "output_type": "display_data",
          "data": {
            "application/javascript": [
              "download(\"download_77b3fbeb-2fee-491e-a1a3-28ca00a4d1d7\", \"test_30pct.csv\", 142067)"
            ],
            "text/plain": [
              "<IPython.core.display.Javascript object>"
            ]
          },
          "metadata": {
            "tags": []
          }
        }
      ]
    },
    {
      "cell_type": "code",
      "metadata": {
        "id": "VgmNqddNuFpX",
        "colab_type": "code",
        "colab": {
          "resources": {
            "http://localhost:8080/nbextensions/google.colab/files.js": {
              "data": "Ly8gQ29weXJpZ2h0IDIwMTcgR29vZ2xlIExMQwovLwovLyBMaWNlbnNlZCB1bmRlciB0aGUgQXBhY2hlIExpY2Vuc2UsIFZlcnNpb24gMi4wICh0aGUgIkxpY2Vuc2UiKTsKLy8geW91IG1heSBub3QgdXNlIHRoaXMgZmlsZSBleGNlcHQgaW4gY29tcGxpYW5jZSB3aXRoIHRoZSBMaWNlbnNlLgovLyBZb3UgbWF5IG9idGFpbiBhIGNvcHkgb2YgdGhlIExpY2Vuc2UgYXQKLy8KLy8gICAgICBodHRwOi8vd3d3LmFwYWNoZS5vcmcvbGljZW5zZXMvTElDRU5TRS0yLjAKLy8KLy8gVW5sZXNzIHJlcXVpcmVkIGJ5IGFwcGxpY2FibGUgbGF3IG9yIGFncmVlZCB0byBpbiB3cml0aW5nLCBzb2Z0d2FyZQovLyBkaXN0cmlidXRlZCB1bmRlciB0aGUgTGljZW5zZSBpcyBkaXN0cmlidXRlZCBvbiBhbiAiQVMgSVMiIEJBU0lTLAovLyBXSVRIT1VUIFdBUlJBTlRJRVMgT1IgQ09ORElUSU9OUyBPRiBBTlkgS0lORCwgZWl0aGVyIGV4cHJlc3Mgb3IgaW1wbGllZC4KLy8gU2VlIHRoZSBMaWNlbnNlIGZvciB0aGUgc3BlY2lmaWMgbGFuZ3VhZ2UgZ292ZXJuaW5nIHBlcm1pc3Npb25zIGFuZAovLyBsaW1pdGF0aW9ucyB1bmRlciB0aGUgTGljZW5zZS4KCi8qKgogKiBAZmlsZW92ZXJ2aWV3IEhlbHBlcnMgZm9yIGdvb2dsZS5jb2xhYiBQeXRob24gbW9kdWxlLgogKi8KKGZ1bmN0aW9uKHNjb3BlKSB7CmZ1bmN0aW9uIHNwYW4odGV4dCwgc3R5bGVBdHRyaWJ1dGVzID0ge30pIHsKICBjb25zdCBlbGVtZW50ID0gZG9jdW1lbnQuY3JlYXRlRWxlbWVudCgnc3BhbicpOwogIGVsZW1lbnQudGV4dENvbnRlbnQgPSB0ZXh0OwogIGZvciAoY29uc3Qga2V5IG9mIE9iamVjdC5rZXlzKHN0eWxlQXR0cmlidXRlcykpIHsKICAgIGVsZW1lbnQuc3R5bGVba2V5XSA9IHN0eWxlQXR0cmlidXRlc1trZXldOwogIH0KICByZXR1cm4gZWxlbWVudDsKfQoKLy8gTWF4IG51bWJlciBvZiBieXRlcyB3aGljaCB3aWxsIGJlIHVwbG9hZGVkIGF0IGEgdGltZS4KY29uc3QgTUFYX1BBWUxPQURfU0laRSA9IDEwMCAqIDEwMjQ7CgpmdW5jdGlvbiBfdXBsb2FkRmlsZXMoaW5wdXRJZCwgb3V0cHV0SWQpIHsKICBjb25zdCBzdGVwcyA9IHVwbG9hZEZpbGVzU3RlcChpbnB1dElkLCBvdXRwdXRJZCk7CiAgY29uc3Qgb3V0cHV0RWxlbWVudCA9IGRvY3VtZW50LmdldEVsZW1lbnRCeUlkKG91dHB1dElkKTsKICAvLyBDYWNoZSBzdGVwcyBvbiB0aGUgb3V0cHV0RWxlbWVudCB0byBtYWtlIGl0IGF2YWlsYWJsZSBmb3IgdGhlIG5leHQgY2FsbAogIC8vIHRvIHVwbG9hZEZpbGVzQ29udGludWUgZnJvbSBQeXRob24uCiAgb3V0cHV0RWxlbWVudC5zdGVwcyA9IHN0ZXBzOwoKICByZXR1cm4gX3VwbG9hZEZpbGVzQ29udGludWUob3V0cHV0SWQpOwp9CgovLyBUaGlzIGlzIHJvdWdobHkgYW4gYXN5bmMgZ2VuZXJhdG9yIChub3Qgc3VwcG9ydGVkIGluIHRoZSBicm93c2VyIHlldCksCi8vIHdoZXJlIHRoZXJlIGFyZSBtdWx0aXBsZSBhc3luY2hyb25vdXMgc3RlcHMgYW5kIHRoZSBQeXRob24gc2lkZSBpcyBnb2luZwovLyB0byBwb2xsIGZvciBjb21wbGV0aW9uIG9mIGVhY2ggc3RlcC4KLy8gVGhpcyB1c2VzIGEgUHJvbWlzZSB0byBibG9jayB0aGUgcHl0aG9uIHNpZGUgb24gY29tcGxldGlvbiBvZiBlYWNoIHN0ZXAsCi8vIHRoZW4gcGFzc2VzIHRoZSByZXN1bHQgb2YgdGhlIHByZXZpb3VzIHN0ZXAgYXMgdGhlIGlucHV0IHRvIHRoZSBuZXh0IHN0ZXAuCmZ1bmN0aW9uIF91cGxvYWRGaWxlc0NvbnRpbnVlKG91dHB1dElkKSB7CiAgY29uc3Qgb3V0cHV0RWxlbWVudCA9IGRvY3VtZW50LmdldEVsZW1lbnRCeUlkKG91dHB1dElkKTsKICBjb25zdCBzdGVwcyA9IG91dHB1dEVsZW1lbnQuc3RlcHM7CgogIGNvbnN0IG5leHQgPSBzdGVwcy5uZXh0KG91dHB1dEVsZW1lbnQubGFzdFByb21pc2VWYWx1ZSk7CiAgcmV0dXJuIFByb21pc2UucmVzb2x2ZShuZXh0LnZhbHVlLnByb21pc2UpLnRoZW4oKHZhbHVlKSA9PiB7CiAgICAvLyBDYWNoZSB0aGUgbGFzdCBwcm9taXNlIHZhbHVlIHRvIG1ha2UgaXQgYXZhaWxhYmxlIHRvIHRoZSBuZXh0CiAgICAvLyBzdGVwIG9mIHRoZSBnZW5lcmF0b3IuCiAgICBvdXRwdXRFbGVtZW50Lmxhc3RQcm9taXNlVmFsdWUgPSB2YWx1ZTsKICAgIHJldHVybiBuZXh0LnZhbHVlLnJlc3BvbnNlOwogIH0pOwp9CgovKioKICogR2VuZXJhdG9yIGZ1bmN0aW9uIHdoaWNoIGlzIGNhbGxlZCBiZXR3ZWVuIGVhY2ggYXN5bmMgc3RlcCBvZiB0aGUgdXBsb2FkCiAqIHByb2Nlc3MuCiAqIEBwYXJhbSB7c3RyaW5nfSBpbnB1dElkIEVsZW1lbnQgSUQgb2YgdGhlIGlucHV0IGZpbGUgcGlja2VyIGVsZW1lbnQuCiAqIEBwYXJhbSB7c3RyaW5nfSBvdXRwdXRJZCBFbGVtZW50IElEIG9mIHRoZSBvdXRwdXQgZGlzcGxheS4KICogQHJldHVybiB7IUl0ZXJhYmxlPCFPYmplY3Q+fSBJdGVyYWJsZSBvZiBuZXh0IHN0ZXBzLgogKi8KZnVuY3Rpb24qIHVwbG9hZEZpbGVzU3RlcChpbnB1dElkLCBvdXRwdXRJZCkgewogIGNvbnN0IGlucHV0RWxlbWVudCA9IGRvY3VtZW50LmdldEVsZW1lbnRCeUlkKGlucHV0SWQpOwogIGlucHV0RWxlbWVudC5kaXNhYmxlZCA9IGZhbHNlOwoKICBjb25zdCBvdXRwdXRFbGVtZW50ID0gZG9jdW1lbnQuZ2V0RWxlbWVudEJ5SWQob3V0cHV0SWQpOwogIG91dHB1dEVsZW1lbnQuaW5uZXJIVE1MID0gJyc7CgogIGNvbnN0IHBpY2tlZFByb21pc2UgPSBuZXcgUHJvbWlzZSgocmVzb2x2ZSkgPT4gewogICAgaW5wdXRFbGVtZW50LmFkZEV2ZW50TGlzdGVuZXIoJ2NoYW5nZScsIChlKSA9PiB7CiAgICAgIHJlc29sdmUoZS50YXJnZXQuZmlsZXMpOwogICAgfSk7CiAgfSk7CgogIGNvbnN0IGNhbmNlbCA9IGRvY3VtZW50LmNyZWF0ZUVsZW1lbnQoJ2J1dHRvbicpOwogIGlucHV0RWxlbWVudC5wYXJlbnRFbGVtZW50LmFwcGVuZENoaWxkKGNhbmNlbCk7CiAgY2FuY2VsLnRleHRDb250ZW50ID0gJ0NhbmNlbCB1cGxvYWQnOwogIGNvbnN0IGNhbmNlbFByb21pc2UgPSBuZXcgUHJvbWlzZSgocmVzb2x2ZSkgPT4gewogICAgY2FuY2VsLm9uY2xpY2sgPSAoKSA9PiB7CiAgICAgIHJlc29sdmUobnVsbCk7CiAgICB9OwogIH0pOwoKICAvLyBXYWl0IGZvciB0aGUgdXNlciB0byBwaWNrIHRoZSBmaWxlcy4KICBjb25zdCBmaWxlcyA9IHlpZWxkIHsKICAgIHByb21pc2U6IFByb21pc2UucmFjZShbcGlja2VkUHJvbWlzZSwgY2FuY2VsUHJvbWlzZV0pLAogICAgcmVzcG9uc2U6IHsKICAgICAgYWN0aW9uOiAnc3RhcnRpbmcnLAogICAgfQogIH07CgogIGNhbmNlbC5yZW1vdmUoKTsKCiAgLy8gRGlzYWJsZSB0aGUgaW5wdXQgZWxlbWVudCBzaW5jZSBmdXJ0aGVyIHBpY2tzIGFyZSBub3QgYWxsb3dlZC4KICBpbnB1dEVsZW1lbnQuZGlzYWJsZWQgPSB0cnVlOwoKICBpZiAoIWZpbGVzKSB7CiAgICByZXR1cm4gewogICAgICByZXNwb25zZTogewogICAgICAgIGFjdGlvbjogJ2NvbXBsZXRlJywKICAgICAgfQogICAgfTsKICB9CgogIGZvciAoY29uc3QgZmlsZSBvZiBmaWxlcykgewogICAgY29uc3QgbGkgPSBkb2N1bWVudC5jcmVhdGVFbGVtZW50KCdsaScpOwogICAgbGkuYXBwZW5kKHNwYW4oZmlsZS5uYW1lLCB7Zm9udFdlaWdodDogJ2JvbGQnfSkpOwogICAgbGkuYXBwZW5kKHNwYW4oCiAgICAgICAgYCgke2ZpbGUudHlwZSB8fCAnbi9hJ30pIC0gJHtmaWxlLnNpemV9IGJ5dGVzLCBgICsKICAgICAgICBgbGFzdCBtb2RpZmllZDogJHsKICAgICAgICAgICAgZmlsZS5sYXN0TW9kaWZpZWREYXRlID8gZmlsZS5sYXN0TW9kaWZpZWREYXRlLnRvTG9jYWxlRGF0ZVN0cmluZygpIDoKICAgICAgICAgICAgICAgICAgICAgICAgICAgICAgICAgICAgJ24vYSd9IC0gYCkpOwogICAgY29uc3QgcGVyY2VudCA9IHNwYW4oJzAlIGRvbmUnKTsKICAgIGxpLmFwcGVuZENoaWxkKHBlcmNlbnQpOwoKICAgIG91dHB1dEVsZW1lbnQuYXBwZW5kQ2hpbGQobGkpOwoKICAgIGNvbnN0IGZpbGVEYXRhUHJvbWlzZSA9IG5ldyBQcm9taXNlKChyZXNvbHZlKSA9PiB7CiAgICAgIGNvbnN0IHJlYWRlciA9IG5ldyBGaWxlUmVhZGVyKCk7CiAgICAgIHJlYWRlci5vbmxvYWQgPSAoZSkgPT4gewogICAgICAgIHJlc29sdmUoZS50YXJnZXQucmVzdWx0KTsKICAgICAgfTsKICAgICAgcmVhZGVyLnJlYWRBc0FycmF5QnVmZmVyKGZpbGUpOwogICAgfSk7CiAgICAvLyBXYWl0IGZvciB0aGUgZGF0YSB0byBiZSByZWFkeS4KICAgIGxldCBmaWxlRGF0YSA9IHlpZWxkIHsKICAgICAgcHJvbWlzZTogZmlsZURhdGFQcm9taXNlLAogICAgICByZXNwb25zZTogewogICAgICAgIGFjdGlvbjogJ2NvbnRpbnVlJywKICAgICAgfQogICAgfTsKCiAgICAvLyBVc2UgYSBjaHVua2VkIHNlbmRpbmcgdG8gYXZvaWQgbWVzc2FnZSBzaXplIGxpbWl0cy4gU2VlIGIvNjIxMTU2NjAuCiAgICBsZXQgcG9zaXRpb24gPSAwOwogICAgd2hpbGUgKHBvc2l0aW9uIDwgZmlsZURhdGEuYnl0ZUxlbmd0aCkgewogICAgICBjb25zdCBsZW5ndGggPSBNYXRoLm1pbihmaWxlRGF0YS5ieXRlTGVuZ3RoIC0gcG9zaXRpb24sIE1BWF9QQVlMT0FEX1NJWkUpOwogICAgICBjb25zdCBjaHVuayA9IG5ldyBVaW50OEFycmF5KGZpbGVEYXRhLCBwb3NpdGlvbiwgbGVuZ3RoKTsKICAgICAgcG9zaXRpb24gKz0gbGVuZ3RoOwoKICAgICAgY29uc3QgYmFzZTY0ID0gYnRvYShTdHJpbmcuZnJvbUNoYXJDb2RlLmFwcGx5KG51bGwsIGNodW5rKSk7CiAgICAgIHlpZWxkIHsKICAgICAgICByZXNwb25zZTogewogICAgICAgICAgYWN0aW9uOiAnYXBwZW5kJywKICAgICAgICAgIGZpbGU6IGZpbGUubmFtZSwKICAgICAgICAgIGRhdGE6IGJhc2U2NCwKICAgICAgICB9LAogICAgICB9OwogICAgICBwZXJjZW50LnRleHRDb250ZW50ID0KICAgICAgICAgIGAke01hdGgucm91bmQoKHBvc2l0aW9uIC8gZmlsZURhdGEuYnl0ZUxlbmd0aCkgKiAxMDApfSUgZG9uZWA7CiAgICB9CiAgfQoKICAvLyBBbGwgZG9uZS4KICB5aWVsZCB7CiAgICByZXNwb25zZTogewogICAgICBhY3Rpb246ICdjb21wbGV0ZScsCiAgICB9CiAgfTsKfQoKc2NvcGUuZ29vZ2xlID0gc2NvcGUuZ29vZ2xlIHx8IHt9OwpzY29wZS5nb29nbGUuY29sYWIgPSBzY29wZS5nb29nbGUuY29sYWIgfHwge307CnNjb3BlLmdvb2dsZS5jb2xhYi5fZmlsZXMgPSB7CiAgX3VwbG9hZEZpbGVzLAogIF91cGxvYWRGaWxlc0NvbnRpbnVlLAp9Owp9KShzZWxmKTsK",
              "ok": true,
              "headers": [
                [
                  "content-type",
                  "application/javascript"
                ]
              ],
              "status": 200,
              "status_text": ""
            }
          },
          "base_uri": "https://localhost:8080/",
          "height": 72
        },
        "outputId": "41513e54-ba91-4c3d-aee3-51a675a262e4"
      },
      "source": [
        "upload_train = files.upload()"
      ],
      "execution_count": 217,
      "outputs": [
        {
          "output_type": "display_data",
          "data": {
            "text/html": [
              "\n",
              "     <input type=\"file\" id=\"files-86d070c8-f0f5-4732-91ae-750a42e93535\" name=\"files[]\" multiple disabled\n",
              "        style=\"border:none\" />\n",
              "     <output id=\"result-86d070c8-f0f5-4732-91ae-750a42e93535\">\n",
              "      Upload widget is only available when the cell has been executed in the\n",
              "      current browser session. Please rerun this cell to enable.\n",
              "      </output>\n",
              "      <script src=\"/nbextensions/google.colab/files.js\"></script> "
            ],
            "text/plain": [
              "<IPython.core.display.HTML object>"
            ]
          },
          "metadata": {
            "tags": []
          }
        },
        {
          "output_type": "stream",
          "text": [
            "Saving train_augm.csv to train_augm (4).csv\n"
          ],
          "name": "stdout"
        }
      ]
    },
    {
      "cell_type": "code",
      "metadata": {
        "id": "HxccsSLhuG7U",
        "colab_type": "code",
        "colab": {}
      },
      "source": [
        "train_augm = pd.read_csv(io.BytesIO(upload_train['train_augm.csv']))"
      ],
      "execution_count": 218,
      "outputs": []
    },
    {
      "cell_type": "code",
      "metadata": {
        "id": "7GhSfax_vnaN",
        "colab_type": "code",
        "colab": {
          "resources": {
            "http://localhost:8080/nbextensions/google.colab/files.js": {
              "data": "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",
              "ok": true,
              "headers": [
                [
                  "content-type",
                  "application/javascript"
                ]
              ],
              "status": 200,
              "status_text": ""
            }
          },
          "base_uri": "https://localhost:8080/",
          "height": 72
        },
        "outputId": "ec70ce56-49d2-4bcb-cfe5-15b7ef292652"
      },
      "source": [
        "upload_test = files.upload()"
      ],
      "execution_count": 219,
      "outputs": [
        {
          "output_type": "display_data",
          "data": {
            "text/html": [
              "\n",
              "     <input type=\"file\" id=\"files-e50279ee-1e38-47d7-9242-25c1cc486613\" name=\"files[]\" multiple disabled\n",
              "        style=\"border:none\" />\n",
              "     <output id=\"result-e50279ee-1e38-47d7-9242-25c1cc486613\">\n",
              "      Upload widget is only available when the cell has been executed in the\n",
              "      current browser session. Please rerun this cell to enable.\n",
              "      </output>\n",
              "      <script src=\"/nbextensions/google.colab/files.js\"></script> "
            ],
            "text/plain": [
              "<IPython.core.display.HTML object>"
            ]
          },
          "metadata": {
            "tags": []
          }
        },
        {
          "output_type": "stream",
          "text": [
            "Saving test_30pct.csv to test_30pct (4).csv\n"
          ],
          "name": "stdout"
        }
      ]
    },
    {
      "cell_type": "code",
      "metadata": {
        "id": "W0DBbaCOvtQV",
        "colab_type": "code",
        "colab": {}
      },
      "source": [
        "test_30pct = pd.read_csv(io.BytesIO(upload_test['test_30pct.csv']))"
      ],
      "execution_count": 220,
      "outputs": []
    },
    {
      "cell_type": "code",
      "metadata": {
        "id": "LlXUsq-2zj0E",
        "colab_type": "code",
        "colab": {}
      },
      "source": [
        "# Removing first column\n",
        "train_augm.drop(columns=['Unnamed: 0'],inplace=True)\n",
        "test_30pct.drop(columns=['Unnamed: 0'],inplace=True)"
      ],
      "execution_count": 222,
      "outputs": []
    },
    {
      "cell_type": "code",
      "metadata": {
        "id": "4K6C8lMY1QuA",
        "colab_type": "code",
        "colab": {
          "base_uri": "https://localhost:8080/",
          "height": 376
        },
        "outputId": "13a82538-358c-4a74-92ae-0f1fda118035"
      },
      "source": [
        "print(train_augm.shape)\n",
        "\n",
        "train_augm.sample(10,random_state=123)"
      ],
      "execution_count": 223,
      "outputs": [
        {
          "output_type": "stream",
          "text": [
            "(2452, 2)\n"
          ],
          "name": "stdout"
        },
        {
          "output_type": "execute_result",
          "data": {
            "text/html": [
              "<div>\n",
              "<style scoped>\n",
              "    .dataframe tbody tr th:only-of-type {\n",
              "        vertical-align: middle;\n",
              "    }\n",
              "\n",
              "    .dataframe tbody tr th {\n",
              "        vertical-align: top;\n",
              "    }\n",
              "\n",
              "    .dataframe thead th {\n",
              "        text-align: right;\n",
              "    }\n",
              "</style>\n",
              "<table border=\"1\" class=\"dataframe\">\n",
              "  <thead>\n",
              "    <tr style=\"text-align: right;\">\n",
              "      <th></th>\n",
              "      <th>features</th>\n",
              "      <th>target</th>\n",
              "    </tr>\n",
              "  </thead>\n",
              "  <tbody>\n",
              "    <tr>\n",
              "      <th>638</th>\n",
              "      <td>The Woman Standing emoji is aZWJ sequencecombi...</td>\n",
              "      <td>6</td>\n",
              "    </tr>\n",
              "    <tr>\n",
              "      <th>1195</th>\n",
              "      <td>The Man in Manual Wheelchair emoji is aZWJ seq...</td>\n",
              "      <td>6</td>\n",
              "    </tr>\n",
              "    <tr>\n",
              "      <th>556</th>\n",
              "      <td>TheAries astrological sign in the Zodiac. This...</td>\n",
              "      <td>9</td>\n",
              "    </tr>\n",
              "    <tr>\n",
              "      <th>1998</th>\n",
              "      <td>A ball of yarn, used to knit a scarf. Color va...</td>\n",
              "      <td>0</td>\n",
              "    </tr>\n",
              "    <tr>\n",
              "      <th>1059</th>\n",
              "      <td>Apoodle, a popular dog breed with curly hair, ...</td>\n",
              "      <td>1</td>\n",
              "    </tr>\n",
              "    <tr>\n",
              "      <th>1205</th>\n",
              "      <td>CJK Ideographs are characters used in Chinese,...</td>\n",
              "      <td>9</td>\n",
              "    </tr>\n",
              "    <tr>\n",
              "      <th>45</th>\n",
              "      <td>The flag forMarshall Islands, which may show a...</td>\n",
              "      <td>3</td>\n",
              "    </tr>\n",
              "    <tr>\n",
              "      <th>993</th>\n",
              "      <td>A hunk of unspecified meat on a white bone, as...</td>\n",
              "      <td>4</td>\n",
              "    </tr>\n",
              "    <tr>\n",
              "      <th>1689</th>\n",
              "      <td>Dark cross button</td>\n",
              "      <td>9</td>\n",
              "    </tr>\n",
              "    <tr>\n",
              "      <th>2311</th>\n",
              "      <td>A magnetic compass, used for navigation. Usual...</td>\n",
              "      <td>10</td>\n",
              "    </tr>\n",
              "  </tbody>\n",
              "</table>\n",
              "</div>"
            ],
            "text/plain": [
              "                                               features  target\n",
              "638   The Woman Standing emoji is aZWJ sequencecombi...       6\n",
              "1195  The Man in Manual Wheelchair emoji is aZWJ seq...       6\n",
              "556   TheAries astrological sign in the Zodiac. This...       9\n",
              "1998  A ball of yarn, used to knit a scarf. Color va...       0\n",
              "1059  Apoodle, a popular dog breed with curly hair, ...       1\n",
              "1205  CJK Ideographs are characters used in Chinese,...       9\n",
              "45    The flag forMarshall Islands, which may show a...       3\n",
              "993   A hunk of unspecified meat on a white bone, as...       4\n",
              "1689                                  Dark cross button       9\n",
              "2311  A magnetic compass, used for navigation. Usual...      10"
            ]
          },
          "metadata": {
            "tags": []
          },
          "execution_count": 223
        }
      ]
    },
    {
      "cell_type": "markdown",
      "metadata": {
        "id": "pqxUAbnn4yKi",
        "colab_type": "text"
      },
      "source": [
        "#### Creating an input pipeline using tf.data \n",
        "\n",
        "> Next, we will wrap the dataframes with tf.data. This will enable us to use feature columns as a bridge to map from the columns in the Pandas dataframe to features used to train the model. If we were working with a very large CSV file (so large that it does not fit into memory), we would use tf.data to read it from disk directly. That is not covered in this tutorial."
      ]
    },
    {
      "cell_type": "code",
      "metadata": {
        "id": "9om3boJz4ytc",
        "colab_type": "code",
        "colab": {}
      },
      "source": [
        "# A utility method to create a tf.data dataset from a Pandas Dataframe\n",
        "def df_to_dataset(dataframe, shuffle=True, batching = True, batch_size=32):\n",
        "  dataframe = dataframe.copy()\n",
        "  labels = dataframe.pop('target')\n",
        "  ds = tf.data.Dataset.from_tensor_slices((dataframe.squeeze(), labels.squeeze()))\n",
        "  print(dataframe.squeeze().shape,labels.shape) # Here important to Squeez() to get t he same Size as expected\n",
        "  if shuffle:\n",
        "    ds = ds.shuffle(buffer_size=len(dataframe))\n",
        "  \n",
        "  if batching:\n",
        "    ds = ds.batch(batch_size)\n",
        "  return ds"
      ],
      "execution_count": 29,
      "outputs": []
    },
    {
      "cell_type": "markdown",
      "metadata": {
        "id": "cDP5vvGp1pHM",
        "colab_type": "text"
      },
      "source": [
        "#### DATASETS ACTUALLY USED IN THE DIFFERENT MODELS HEREUNDER"
      ]
    },
    {
      "cell_type": "code",
      "metadata": {
        "id": "XqvSRr2BGw3Y",
        "colab_type": "code",
        "colab": {
          "base_uri": "https://localhost:8080/",
          "height": 51
        },
        "outputId": "6eaee754-1d2c-4062-a484-01995fe6a8de"
      },
      "source": [
        "# Test without the Batch => THAT WILL BE USED AS INPUT FOR THE DL MODEL (Here WITHOUT DATA AUGMENTATION)\n",
        "train_ds_nbatch = df_to_dataset(train, batching=False)\n",
        "test_ds_nbatch = df_to_dataset(test, batching=False)"
      ],
      "execution_count": 224,
      "outputs": [
        {
          "output_type": "stream",
          "text": [
            "(1401,) (1401,)\n",
            "(351,) (351,)\n"
          ],
          "name": "stdout"
        }
      ]
    },
    {
      "cell_type": "code",
      "metadata": {
        "id": "YQhSLY6neLan",
        "colab_type": "code",
        "colab": {
          "base_uri": "https://localhost:8080/",
          "height": 51
        },
        "outputId": "8f3d8a54-6692-4783-8cc0-abcf5e49f367"
      },
      "source": [
        "# Test without the Batch => THAT WILL BE USED AS INPUT FOR THE DL MODEL (Here WITH DATA AUGMENTATION)\n",
        "train_ds_nbatch_dAug = df_to_dataset(train_augm, batching=False)\n",
        "test_ds_nbatch_dAug = df_to_dataset(test_30pct, batching=False)"
      ],
      "execution_count": 225,
      "outputs": [
        {
          "output_type": "stream",
          "text": [
            "(2452,) (2452,)\n",
            "(526,) (526,)\n"
          ],
          "name": "stdout"
        }
      ]
    },
    {
      "cell_type": "markdown",
      "metadata": {
        "id": "oU8ge-LSuGWM",
        "colab_type": "text"
      },
      "source": [
        "## 3. Tensorflow Hub"
      ]
    },
    {
      "cell_type": "markdown",
      "metadata": {
        "id": "m9NxystJ8VzE",
        "colab_type": "text"
      },
      "source": [
        "source : https://www.tensorflow.org/tutorials/keras/text_classification_with_hub\n",
        "\n",
        "\n",
        "\n"
      ]
    },
    {
      "cell_type": "code",
      "metadata": {
        "id": "NTxfVoYyHZAm",
        "colab_type": "code",
        "colab": {
          "base_uri": "https://localhost:8080/",
          "height": 105
        },
        "outputId": "d53318aa-9f48-4531-c3d6-78576051a7ce"
      },
      "source": [
        "import tensorflow_hub as hub\n",
        "\n",
        "# 20 dimension embedding\n",
        "embedding = \"https://tfhub.dev/google/tf2-preview/gnews-swivel-20dim/1\"\n",
        "embedding_layer = hub.KerasLayer(\n",
        "    embedding,\n",
        "    input_shape=[],\n",
        "    dtype=tf.string,\n",
        "    trainable=True\n",
        ")"
      ],
      "execution_count": 226,
      "outputs": [
        {
          "output_type": "stream",
          "text": [
            "WARNING:tensorflow:7 out of the last 7 calls to <function recreate_function.<locals>.restored_function_body at 0x7f9ff75e58c8> triggered tf.function retracing. Tracing is expensive and the excessive number of tracings could be due to (1) creating @tf.function repeatedly in a loop, (2) passing tensors with different shapes, (3) passing Python objects instead of tensors. For (1), please define your @tf.function outside of the loop. For (2), @tf.function has experimental_relax_shapes=True option that relaxes argument shapes that can avoid unnecessary retracing. For (3), please refer to https://www.tensorflow.org/tutorials/customization/performance#python_or_tensor_args and https://www.tensorflow.org/api_docs/python/tf/function for  more details.\n"
          ],
          "name": "stdout"
        },
        {
          "output_type": "stream",
          "text": [
            "WARNING:tensorflow:7 out of the last 7 calls to <function recreate_function.<locals>.restored_function_body at 0x7f9ff75e58c8> triggered tf.function retracing. Tracing is expensive and the excessive number of tracings could be due to (1) creating @tf.function repeatedly in a loop, (2) passing tensors with different shapes, (3) passing Python objects instead of tensors. For (1), please define your @tf.function outside of the loop. For (2), @tf.function has experimental_relax_shapes=True option that relaxes argument shapes that can avoid unnecessary retracing. For (3), please refer to https://www.tensorflow.org/tutorials/customization/performance#python_or_tensor_args and https://www.tensorflow.org/api_docs/python/tf/function for  more details.\n"
          ],
          "name": "stderr"
        },
        {
          "output_type": "stream",
          "text": [
            "WARNING:tensorflow:8 out of the last 8 calls to <function recreate_function.<locals>.restored_function_body at 0x7f9ff75e5d90> triggered tf.function retracing. Tracing is expensive and the excessive number of tracings could be due to (1) creating @tf.function repeatedly in a loop, (2) passing tensors with different shapes, (3) passing Python objects instead of tensors. For (1), please define your @tf.function outside of the loop. For (2), @tf.function has experimental_relax_shapes=True option that relaxes argument shapes that can avoid unnecessary retracing. For (3), please refer to https://www.tensorflow.org/tutorials/customization/performance#python_or_tensor_args and https://www.tensorflow.org/api_docs/python/tf/function for  more details.\n"
          ],
          "name": "stdout"
        },
        {
          "output_type": "stream",
          "text": [
            "WARNING:tensorflow:8 out of the last 8 calls to <function recreate_function.<locals>.restored_function_body at 0x7f9ff75e5d90> triggered tf.function retracing. Tracing is expensive and the excessive number of tracings could be due to (1) creating @tf.function repeatedly in a loop, (2) passing tensors with different shapes, (3) passing Python objects instead of tensors. For (1), please define your @tf.function outside of the loop. For (2), @tf.function has experimental_relax_shapes=True option that relaxes argument shapes that can avoid unnecessary retracing. For (3), please refer to https://www.tensorflow.org/tutorials/customization/performance#python_or_tensor_args and https://www.tensorflow.org/api_docs/python/tf/function for  more details.\n"
          ],
          "name": "stderr"
        }
      ]
    },
    {
      "cell_type": "code",
      "metadata": {
        "id": "CkUY2Lil39Iq",
        "colab_type": "code",
        "colab": {
          "base_uri": "https://localhost:8080/",
          "height": 105
        },
        "outputId": "b55a19ff-dee6-47bb-c074-2abbb9e00660"
      },
      "source": [
        "# 128 dimensions embedding\n",
        "embedding_128D = \"https://tfhub.dev/google/tf2-preview/nnlm-en-dim128/1\"\n",
        "embedding_layer_128D = hub.KerasLayer(\n",
        "    embedding_128D,\n",
        "    input_shape=[],\n",
        "    dtype=tf.string,\n",
        "    trainable=True\n",
        ")"
      ],
      "execution_count": 227,
      "outputs": [
        {
          "output_type": "stream",
          "text": [
            "WARNING:tensorflow:9 out of the last 9 calls to <function recreate_function.<locals>.restored_function_body at 0x7f9ff759c9d8> triggered tf.function retracing. Tracing is expensive and the excessive number of tracings could be due to (1) creating @tf.function repeatedly in a loop, (2) passing tensors with different shapes, (3) passing Python objects instead of tensors. For (1), please define your @tf.function outside of the loop. For (2), @tf.function has experimental_relax_shapes=True option that relaxes argument shapes that can avoid unnecessary retracing. For (3), please refer to https://www.tensorflow.org/tutorials/customization/performance#python_or_tensor_args and https://www.tensorflow.org/api_docs/python/tf/function for  more details.\n"
          ],
          "name": "stdout"
        },
        {
          "output_type": "stream",
          "text": [
            "WARNING:tensorflow:9 out of the last 9 calls to <function recreate_function.<locals>.restored_function_body at 0x7f9ff759c9d8> triggered tf.function retracing. Tracing is expensive and the excessive number of tracings could be due to (1) creating @tf.function repeatedly in a loop, (2) passing tensors with different shapes, (3) passing Python objects instead of tensors. For (1), please define your @tf.function outside of the loop. For (2), @tf.function has experimental_relax_shapes=True option that relaxes argument shapes that can avoid unnecessary retracing. For (3), please refer to https://www.tensorflow.org/tutorials/customization/performance#python_or_tensor_args and https://www.tensorflow.org/api_docs/python/tf/function for  more details.\n"
          ],
          "name": "stderr"
        },
        {
          "output_type": "stream",
          "text": [
            "WARNING:tensorflow:10 out of the last 10 calls to <function recreate_function.<locals>.restored_function_body at 0x7f9ff759c048> triggered tf.function retracing. Tracing is expensive and the excessive number of tracings could be due to (1) creating @tf.function repeatedly in a loop, (2) passing tensors with different shapes, (3) passing Python objects instead of tensors. For (1), please define your @tf.function outside of the loop. For (2), @tf.function has experimental_relax_shapes=True option that relaxes argument shapes that can avoid unnecessary retracing. For (3), please refer to https://www.tensorflow.org/tutorials/customization/performance#python_or_tensor_args and https://www.tensorflow.org/api_docs/python/tf/function for  more details.\n"
          ],
          "name": "stdout"
        },
        {
          "output_type": "stream",
          "text": [
            "WARNING:tensorflow:10 out of the last 10 calls to <function recreate_function.<locals>.restored_function_body at 0x7f9ff759c048> triggered tf.function retracing. Tracing is expensive and the excessive number of tracings could be due to (1) creating @tf.function repeatedly in a loop, (2) passing tensors with different shapes, (3) passing Python objects instead of tensors. For (1), please define your @tf.function outside of the loop. For (2), @tf.function has experimental_relax_shapes=True option that relaxes argument shapes that can avoid unnecessary retracing. For (3), please refer to https://www.tensorflow.org/tutorials/customization/performance#python_or_tensor_args and https://www.tensorflow.org/api_docs/python/tf/function for  more details.\n"
          ],
          "name": "stderr"
        }
      ]
    },
    {
      "cell_type": "code",
      "metadata": {
        "id": "vde01PAeMaKt",
        "colab_type": "code",
        "colab": {}
      },
      "source": [
        "train_batch, labels_batch = next(iter(train_ds_nbatch.batch(1)))"
      ],
      "execution_count": 228,
      "outputs": []
    },
    {
      "cell_type": "code",
      "metadata": {
        "id": "RPgkyrRFQg3l",
        "colab_type": "code",
        "colab": {
          "base_uri": "https://localhost:8080/",
          "height": 88
        },
        "outputId": "9b32b8f8-0c5d-4d0d-b7e0-0cd5d06241ad"
      },
      "source": [
        "train_batch"
      ],
      "execution_count": 229,
      "outputs": [
        {
          "output_type": "execute_result",
          "data": {
            "text/plain": [
              "<tf.Tensor: shape=(1,), dtype=string, numpy=\n",
              "array([b'Ahuman mouth which isgenerally displayed as a pair oflips and a top row of teeth, instead of the inside of themouth.May be used to indicate the spoken wordor as an alternative toKiss Mark.'],\n",
              "      dtype=object)>"
            ]
          },
          "metadata": {
            "tags": []
          },
          "execution_count": 229
        }
      ]
    },
    {
      "cell_type": "code",
      "metadata": {
        "id": "bCMuFv3y-9uR",
        "colab_type": "code",
        "colab": {
          "base_uri": "https://localhost:8080/",
          "height": 173
        },
        "outputId": "69029056-1522-4dec-9cb7-1e7f18b77653"
      },
      "source": [
        "# Example applying the sentence embedding  (20 dimensions)\n",
        "embedding_layer(train_batch)"
      ],
      "execution_count": 230,
      "outputs": [
        {
          "output_type": "stream",
          "text": [
            "WARNING:tensorflow:11 out of the last 11 calls to <function recreate_function.<locals>.restored_function_body at 0x7f9ff90d5e18> triggered tf.function retracing. Tracing is expensive and the excessive number of tracings could be due to (1) creating @tf.function repeatedly in a loop, (2) passing tensors with different shapes, (3) passing Python objects instead of tensors. For (1), please define your @tf.function outside of the loop. For (2), @tf.function has experimental_relax_shapes=True option that relaxes argument shapes that can avoid unnecessary retracing. For (3), please refer to https://www.tensorflow.org/tutorials/customization/performance#python_or_tensor_args and https://www.tensorflow.org/api_docs/python/tf/function for  more details.\n"
          ],
          "name": "stdout"
        },
        {
          "output_type": "stream",
          "text": [
            "WARNING:tensorflow:11 out of the last 11 calls to <function recreate_function.<locals>.restored_function_body at 0x7f9ff90d5e18> triggered tf.function retracing. Tracing is expensive and the excessive number of tracings could be due to (1) creating @tf.function repeatedly in a loop, (2) passing tensors with different shapes, (3) passing Python objects instead of tensors. For (1), please define your @tf.function outside of the loop. For (2), @tf.function has experimental_relax_shapes=True option that relaxes argument shapes that can avoid unnecessary retracing. For (3), please refer to https://www.tensorflow.org/tutorials/customization/performance#python_or_tensor_args and https://www.tensorflow.org/api_docs/python/tf/function for  more details.\n"
          ],
          "name": "stderr"
        },
        {
          "output_type": "execute_result",
          "data": {
            "text/plain": [
              "<tf.Tensor: shape=(1, 20), dtype=float32, numpy=\n",
              "array([[ 1.2022382 , -0.39622316,  0.03302818,  0.53134656,  0.12631948,\n",
              "        -0.00242946,  0.1361941 ,  0.4674096 ,  0.8984725 , -1.0131329 ,\n",
              "        -0.5506793 ,  1.2297844 , -1.3453991 , -0.6293668 , -0.3692836 ,\n",
              "         0.6206563 ,  0.47048008, -1.1795105 , -1.7920686 , -0.08249285]],\n",
              "      dtype=float32)>"
            ]
          },
          "metadata": {
            "tags": []
          },
          "execution_count": 230
        }
      ]
    },
    {
      "cell_type": "code",
      "metadata": {
        "id": "5KK6v1hn5MqU",
        "colab_type": "code",
        "colab": {
          "base_uri": "https://localhost:8080/",
          "height": 819
        },
        "outputId": "9963dfac-94ec-426c-ae45-b637d603c745"
      },
      "source": [
        "# Example of applying the the sentence embedding (128 dimensions)\n",
        "embedding_layer_128D(train_batch)"
      ],
      "execution_count": 231,
      "outputs": [
        {
          "output_type": "stream",
          "text": [
            "WARNING:tensorflow:11 out of the last 11 calls to <function recreate_function.<locals>.restored_function_body at 0x7f9ff7590598> triggered tf.function retracing. Tracing is expensive and the excessive number of tracings could be due to (1) creating @tf.function repeatedly in a loop, (2) passing tensors with different shapes, (3) passing Python objects instead of tensors. For (1), please define your @tf.function outside of the loop. For (2), @tf.function has experimental_relax_shapes=True option that relaxes argument shapes that can avoid unnecessary retracing. For (3), please refer to https://www.tensorflow.org/tutorials/customization/performance#python_or_tensor_args and https://www.tensorflow.org/api_docs/python/tf/function for  more details.\n"
          ],
          "name": "stdout"
        },
        {
          "output_type": "stream",
          "text": [
            "WARNING:tensorflow:11 out of the last 11 calls to <function recreate_function.<locals>.restored_function_body at 0x7f9ff7590598> triggered tf.function retracing. Tracing is expensive and the excessive number of tracings could be due to (1) creating @tf.function repeatedly in a loop, (2) passing tensors with different shapes, (3) passing Python objects instead of tensors. For (1), please define your @tf.function outside of the loop. For (2), @tf.function has experimental_relax_shapes=True option that relaxes argument shapes that can avoid unnecessary retracing. For (3), please refer to https://www.tensorflow.org/tutorials/customization/performance#python_or_tensor_args and https://www.tensorflow.org/api_docs/python/tf/function for  more details.\n"
          ],
          "name": "stderr"
        },
        {
          "output_type": "execute_result",
          "data": {
            "text/plain": [
              "<tf.Tensor: shape=(1, 128), dtype=float32, numpy=\n",
              "array([[ 5.01222014e-01, -8.29601735e-02,  7.09252805e-02,\n",
              "         1.39705643e-01,  2.46646744e-03,  3.86876240e-02,\n",
              "        -3.59195136e-02,  9.23631713e-02, -1.00288928e-01,\n",
              "         6.77320659e-02,  7.32084885e-02, -1.20992856e-02,\n",
              "         6.06046617e-02,  5.77672236e-02, -5.51513694e-02,\n",
              "         5.19365370e-02, -1.08482480e-01, -1.82524491e-02,\n",
              "         6.39941022e-02,  4.14254755e-01,  6.05822615e-02,\n",
              "         1.12661913e-01,  1.30420983e-01, -2.01475583e-02,\n",
              "         4.38275887e-03, -1.37194186e-01, -1.24933958e-01,\n",
              "        -4.59575541e-02, -7.21913800e-02, -6.33793175e-02,\n",
              "         2.68938899e-01,  5.46931960e-02,  1.19517855e-01,\n",
              "        -7.82397464e-02,  3.92896645e-02,  8.75655264e-02,\n",
              "        -5.48676215e-02, -1.88796688e-02, -4.13855240e-02,\n",
              "         1.92473128e-01,  2.29309164e-02,  5.44424094e-02,\n",
              "        -6.23777919e-02,  5.63733988e-02,  9.77052078e-02,\n",
              "         2.28913482e-02, -3.27063762e-02,  6.48936704e-02,\n",
              "        -1.17603958e-01, -9.43924114e-02,  4.35087495e-02,\n",
              "         3.06222076e-03,  3.48431394e-02,  8.05110782e-02,\n",
              "        -1.19908564e-01,  3.38498466e-02,  1.27725810e-01,\n",
              "        -8.90063345e-02, -3.55968960e-02,  5.99483550e-02,\n",
              "         3.99826989e-02,  1.24239109e-01,  6.88477680e-02,\n",
              "        -5.74909970e-02,  2.25120727e-02, -1.88958138e-01,\n",
              "        -9.35381576e-02,  4.37824689e-02,  9.85449739e-03,\n",
              "         1.32291779e-01, -1.89318825e-02,  2.73346025e-02,\n",
              "         6.93790838e-02,  4.03465964e-02, -6.76578730e-02,\n",
              "        -6.03010245e-02, -1.23172745e-01, -2.32298031e-01,\n",
              "        -2.70796387e-04,  1.14587776e-01, -3.82461809e-02,\n",
              "        -5.56064099e-02, -1.21491514e-01,  1.91438347e-02,\n",
              "         7.90574551e-02,  3.98981273e-02, -1.24528013e-01,\n",
              "         1.29612446e-01,  1.13569096e-01,  1.76359534e-01,\n",
              "        -5.50624616e-02,  9.50990394e-02,  6.72108829e-02,\n",
              "        -1.20371163e-01, -1.42004713e-02, -5.65795638e-02,\n",
              "        -3.49980518e-02, -5.99733815e-02,  9.85061824e-02,\n",
              "         2.74937749e-01, -3.22136246e-02,  3.01878024e-02,\n",
              "         1.78541422e-01,  2.44350523e-01,  1.56181427e-02,\n",
              "         1.07098132e-01,  4.40902971e-02, -2.41057500e-01,\n",
              "         4.17252518e-02, -6.80293515e-02, -6.17814958e-02,\n",
              "         9.59846079e-02, -2.93469522e-02, -1.05335489e-01,\n",
              "        -3.11649926e-02, -4.14655060e-02, -6.87821582e-02,\n",
              "        -1.57368407e-02,  9.22593474e-03, -1.27873138e-01,\n",
              "         9.38441530e-02, -5.72306998e-02,  7.36421421e-02,\n",
              "        -1.05983719e-01, -9.14274529e-02, -4.19356152e-02,\n",
              "         1.06064364e-01,  2.59343162e-02]], dtype=float32)>"
            ]
          },
          "metadata": {
            "tags": []
          },
          "execution_count": 231
        }
      ]
    },
    {
      "cell_type": "markdown",
      "metadata": {
        "id": "uRDwjjTMUoZ7",
        "colab_type": "text"
      },
      "source": [
        "### Building the Multi-class classification Model"
      ]
    },
    {
      "cell_type": "markdown",
      "metadata": {
        "id": "KZwifPjU7eBM",
        "colab_type": "text"
      },
      "source": [
        "#### Data Variables"
      ]
    },
    {
      "cell_type": "code",
      "metadata": {
        "id": "PffdQvyd64Go",
        "colab_type": "code",
        "colab": {}
      },
      "source": [
        "# Data WITOUT DATA AUGMENTATION\n",
        "train_data = train_ds_nbatch\n",
        "test_data = test_ds_nbatch"
      ],
      "execution_count": 232,
      "outputs": []
    },
    {
      "cell_type": "code",
      "metadata": {
        "id": "84jg4p_niFhZ",
        "colab_type": "code",
        "colab": {}
      },
      "source": [
        "# Data WITH DATA AUGMENTATION\n",
        "train_data_augm = train_ds_nbatch_dAug\n",
        "test_data_augm = test_ds_nbatch_dAug"
      ],
      "execution_count": 233,
      "outputs": []
    },
    {
      "cell_type": "code",
      "metadata": {
        "id": "h-G4GLclN8l6",
        "colab_type": "code",
        "colab": {}
      },
      "source": [
        "# To be used to build the confusion matrix\n",
        "test_conf, test_labels_conf = next(iter(test_ds_nbatch.batch(351)))"
      ],
      "execution_count": 234,
      "outputs": []
    },
    {
      "cell_type": "code",
      "metadata": {
        "id": "mymqHAHVXIZf",
        "colab_type": "code",
        "colab": {}
      },
      "source": [
        "# To be used to build the confusion matrix\n",
        "test_conf_augm, test_labels_conf_augm = next(iter(test_data_augm.batch(526)))"
      ],
      "execution_count": 235,
      "outputs": []
    },
    {
      "cell_type": "markdown",
      "metadata": {
        "id": "OpTwsHWv7gzk",
        "colab_type": "text"
      },
      "source": [
        "#### Prepa data \n"
      ]
    },
    {
      "cell_type": "code",
      "metadata": {
        "id": "EUxRn51z7mv5",
        "colab_type": "code",
        "colab": {}
      },
      "source": [
        "# A utility method to create a tf.data dataset from a Pandas Dataframe\n",
        "def df_to_dataset(dataframe, shuffle=True, batching = True, batch_size=32):\n",
        "  dataframe = dataframe.copy()\n",
        "  labels = dataframe.pop('target')\n",
        "  ds = tf.data.Dataset.from_tensor_slices((dataframe.squeeze(), labels.squeeze()))\n",
        "  print(dataframe.squeeze().shape,labels.shape) # Here important to Squeez() to get the same Size as expected\n",
        "  if shuffle:\n",
        "    ds = ds.shuffle(buffer_size=len(dataframe))\n",
        "  \n",
        "  if batching:\n",
        "    ds = ds.batch(batch_size)\n",
        "  return ds"
      ],
      "execution_count": 236,
      "outputs": []
    },
    {
      "cell_type": "code",
      "metadata": {
        "id": "I258XTOw7nZD",
        "colab_type": "code",
        "colab": {}
      },
      "source": [
        "def sentence_to_dataset(sentence):\n",
        "  # Creating a DataFrame\n",
        "  list_sentences = [sentence]\n",
        "  df = pd.DataFrame(list_sentences, columns=['sentence'])\n",
        "  ds = tf.data.Dataset.from_tensor_slices(df)\n",
        "\n",
        "  return ds\n"
      ],
      "execution_count": 237,
      "outputs": []
    },
    {
      "cell_type": "code",
      "metadata": {
        "id": "-dox-4GMAQvU",
        "colab_type": "code",
        "colab": {}
      },
      "source": [
        "def predict4_one_sentence(sentence, model):\n",
        "  ds = sentence_to_dataset(sentence)\n",
        "  pred = model.predict(ds)\n",
        "  cat_num = np.argmax(pred)\n",
        "  pred_cluster = num_2_name_lookup[cat_num]\n",
        "  \n",
        "  return pred_cluster"
      ],
      "execution_count": 238,
      "outputs": []
    },
    {
      "cell_type": "code",
      "metadata": {
        "id": "C5VG5vj88h0L",
        "colab_type": "code",
        "colab": {}
      },
      "source": [
        "def predict4_tfdataset(test_features, test_labels, model):\n",
        "  # making the predictions on the given dataset\n",
        "  predictions = model.predict(test_features)\n",
        "  # converting the feateres and test_labels dataset to a numpy array\n",
        "  features_2_numpy = tfds.as_numpy(test_features, graph=None)\n",
        "  labels_2_numpy = tfds.as_numpy(test_labels, graph=None)\n",
        "\n",
        "  # Looping over the predictions and real labels\n",
        "  for i,pred in enumerate(predictions):\n",
        "    # finding back the category\n",
        "    pred_cluster = num_2_name_lookup[np.argmax(pred)]\n",
        "    real_cluster = num_2_name_lookup[labels_2_numpy[i]]\n",
        "    print(f'The sentence is : {features_2_numpy[i]}')\n",
        "    print(f'The REAL CATEGORY is : {real_cluster} versus the PREDICTED CATEGORY : {pred_cluster}')\n",
        "    print(\"\")\n",
        "\n"
      ],
      "execution_count": 239,
      "outputs": []
    },
    {
      "cell_type": "code",
      "metadata": {
        "id": "v3qZqe6DMso_",
        "colab_type": "code",
        "colab": {}
      },
      "source": [
        "# confusion matrix\n",
        "from sklearn.metrics import confusion_matrix\n",
        "\n",
        "def multiclass_confusion_mat(test_features, test_labels, model):\n",
        "  # making the predictions on the given dataset\n",
        "  pred_proba = model.predict(test_features)\n",
        "  predictions = np.argmax(pred_proba, axis=1) # prediction = arg of max proba\n",
        "\n",
        "  # converting the test_labels dataset to a numpy array\n",
        "  labels_2_numpy = tfds.as_numpy(test_labels, graph=None)\n",
        "\n",
        "  plt.figure(figsize = [10,10])\n",
        "  cf_matrix = confusion_matrix(labels_2_numpy, predictions)\n",
        "  sb.heatmap(cf_matrix/np.sum(cf_matrix), annot=True, fmt='.2%', cmap='Blues')\n",
        "  plt.xlabel(\"Predicted Labels\")\n",
        "  plt.ylabel(\"Real Labels\")"
      ],
      "execution_count": 240,
      "outputs": []
    },
    {
      "cell_type": "code",
      "metadata": {
        "id": "VIMqRL83LGQx",
        "colab_type": "code",
        "colab": {}
      },
      "source": [
        "def plot_history(history):\n",
        "  plt.plot(history.history[\"loss\"], label=\"loss\")\n",
        "  plt.plot(history.history[\"val_loss\"], label=\"val_loss\")\n",
        "  plt.legend()\n",
        "  plt.show()\n",
        "  plt.close()\n",
        "\n",
        "  plt.plot(history.history[\"accuracy\"], label=\"accuracy\")\n",
        "  plt.plot(history.history[\"val_accuracy\"], label=\"val_accuracy\")\n",
        "  plt.legend()\n",
        "  plt.show()\n",
        "  plt.close()"
      ],
      "execution_count": 241,
      "outputs": []
    },
    {
      "cell_type": "code",
      "metadata": {
        "id": "5fKLh56z8go_",
        "colab_type": "code",
        "colab": {}
      },
      "source": [
        "test"
      ],
      "execution_count": null,
      "outputs": []
    },
    {
      "cell_type": "markdown",
      "metadata": {
        "id": "-0TTNo28657O",
        "colab_type": "text"
      },
      "source": [
        "#### A. Base Model\n"
      ]
    },
    {
      "cell_type": "code",
      "metadata": {
        "id": "i2VRpmON1trX",
        "colab_type": "code",
        "colab": {}
      },
      "source": [
        "# Setting up Early Stopping\n",
        "from tensorflow.keras.callbacks import EarlyStopping\n",
        "\n",
        "# Creating an early stopping object early_stopping \n",
        "custom_early_stopping = EarlyStopping(\n",
        "    monitor='val_accuracy', \n",
        "    patience=5, \n",
        "    min_delta=0.001, \n",
        "    mode='auto'\n",
        ")"
      ],
      "execution_count": 242,
      "outputs": []
    },
    {
      "cell_type": "markdown",
      "metadata": {
        "id": "RzIL9XEKQoTB",
        "colab_type": "text"
      },
      "source": [
        "**EarlyStopping() has a few options and by default:**\n",
        "> - _monitor='val_loss':_ \n",
        "> \n",
        ">> to use validation loss as performance measure to terminate the training.\n",
        "> - _patience=0:_ \n",
        "> \n",
        ">> is the number of epochs with no improvement. The value 0 means the training is terminated as soon as the performance measure gets worse from one epoch to the next.\n",
        "> \n",
        "> - _min_delta:_ \n",
        ">\n",
        ">> Minimum change in the monitored quantity to qualify as an improvement, i.e. an absolute change of less than min_delta, will count as no improvement.\n",
        "> \n",
        ">-  _mode='auto':_\n",
        "> \n",
        ">> Should be one of auto, min or max. In 'min' mode, training will stop when the quantity monitored has stopped decreasing; in 'max' mode it will stop when the quantity monitored has stopped increasing; in 'auto' mode, the direction is automatically inferred from the name of the monitored quantity."
      ]
    },
    {
      "cell_type": "markdown",
      "metadata": {
        "id": "ThWabBREgbhl",
        "colab_type": "text"
      },
      "source": [
        "##### I. WITHOUT DATA AUGMENTATION"
      ]
    },
    {
      "cell_type": "code",
      "metadata": {
        "id": "YIJPL5-v-ZwC",
        "colab_type": "code",
        "colab": {}
      },
      "source": [
        "base_model = models.Sequential()\n",
        "base_model.add(embedding_layer)\n",
        "base_model.add(layers.Dense(100, activation=\"relu\"))\n",
        "base_model.add(layers.Dense(12, activation=\"softmax\"))\n",
        "base_model.summary()\n",
        "\n",
        "base_model.compile(\n",
        "    optimizer=\"adam\", \n",
        "    loss='sparse_categorical_crossentropy',\n",
        "    metrics=[\"accuracy\"])"
      ],
      "execution_count": null,
      "outputs": []
    },
    {
      "cell_type": "code",
      "metadata": {
        "id": "_MFaeCePhwM4",
        "colab_type": "code",
        "colab": {
          "base_uri": "https://localhost:8080/",
          "height": 1000
        },
        "outputId": "f7387c92-c883-4314-8d6e-c44b968b60f7"
      },
      "source": [
        "base_history = base_model.fit(\n",
        "    train_data.cache().batch(32),\n",
        "    epochs=50,\n",
        "    validation_data=test_data.batch(32),\n",
        "    callbacks=[custom_early_stopping]\n",
        ")"
      ],
      "execution_count": 244,
      "outputs": [
        {
          "output_type": "stream",
          "text": [
            "Epoch 1/50\n",
            "44/44 [==============================] - 1s 12ms/step - loss: 2.1861 - accuracy: 0.2719 - val_loss: 1.7895 - val_accuracy: 0.4416\n",
            "Epoch 2/50\n",
            "44/44 [==============================] - 0s 9ms/step - loss: 1.6643 - accuracy: 0.4640 - val_loss: 1.4819 - val_accuracy: 0.5271\n",
            "Epoch 3/50\n",
            "44/44 [==============================] - 0s 9ms/step - loss: 1.4078 - accuracy: 0.5382 - val_loss: 1.2977 - val_accuracy: 0.5641\n",
            "Epoch 4/50\n",
            "44/44 [==============================] - 0s 9ms/step - loss: 1.2239 - accuracy: 0.6103 - val_loss: 1.1645 - val_accuracy: 0.6154\n",
            "Epoch 5/50\n",
            "44/44 [==============================] - 0s 8ms/step - loss: 1.0761 - accuracy: 0.6681 - val_loss: 1.0671 - val_accuracy: 0.6524\n",
            "Epoch 6/50\n",
            "44/44 [==============================] - 0s 9ms/step - loss: 0.9526 - accuracy: 0.7159 - val_loss: 0.9925 - val_accuracy: 0.6809\n",
            "Epoch 7/50\n",
            "44/44 [==============================] - 0s 10ms/step - loss: 0.8473 - accuracy: 0.7552 - val_loss: 0.9338 - val_accuracy: 0.7009\n",
            "Epoch 8/50\n",
            "44/44 [==============================] - 0s 9ms/step - loss: 0.7564 - accuracy: 0.7780 - val_loss: 0.8875 - val_accuracy: 0.7322\n",
            "Epoch 9/50\n",
            "44/44 [==============================] - 0s 9ms/step - loss: 0.6764 - accuracy: 0.8073 - val_loss: 0.8495 - val_accuracy: 0.7464\n",
            "Epoch 10/50\n",
            "44/44 [==============================] - 0s 9ms/step - loss: 0.6057 - accuracy: 0.8337 - val_loss: 0.8175 - val_accuracy: 0.7521\n",
            "Epoch 11/50\n",
            "44/44 [==============================] - 0s 10ms/step - loss: 0.5425 - accuracy: 0.8530 - val_loss: 0.7909 - val_accuracy: 0.7607\n",
            "Epoch 12/50\n",
            "44/44 [==============================] - 0s 10ms/step - loss: 0.4860 - accuracy: 0.8722 - val_loss: 0.7677 - val_accuracy: 0.7721\n",
            "Epoch 13/50\n",
            "44/44 [==============================] - 0s 9ms/step - loss: 0.4356 - accuracy: 0.8872 - val_loss: 0.7474 - val_accuracy: 0.7749\n",
            "Epoch 14/50\n",
            "44/44 [==============================] - 0s 9ms/step - loss: 0.3903 - accuracy: 0.9015 - val_loss: 0.7299 - val_accuracy: 0.7806\n",
            "Epoch 15/50\n",
            "44/44 [==============================] - 0s 9ms/step - loss: 0.3504 - accuracy: 0.9122 - val_loss: 0.7146 - val_accuracy: 0.7835\n",
            "Epoch 16/50\n",
            "44/44 [==============================] - 0s 9ms/step - loss: 0.3149 - accuracy: 0.9251 - val_loss: 0.7016 - val_accuracy: 0.7835\n",
            "Epoch 17/50\n",
            "44/44 [==============================] - 0s 9ms/step - loss: 0.2837 - accuracy: 0.9329 - val_loss: 0.6911 - val_accuracy: 0.7892\n",
            "Epoch 18/50\n",
            "44/44 [==============================] - 0s 9ms/step - loss: 0.2563 - accuracy: 0.9415 - val_loss: 0.6819 - val_accuracy: 0.7920\n",
            "Epoch 19/50\n",
            "44/44 [==============================] - 0s 9ms/step - loss: 0.2322 - accuracy: 0.9472 - val_loss: 0.6756 - val_accuracy: 0.7863\n",
            "Epoch 20/50\n",
            "44/44 [==============================] - 0s 9ms/step - loss: 0.2109 - accuracy: 0.9522 - val_loss: 0.6711 - val_accuracy: 0.7863\n",
            "Epoch 21/50\n",
            "44/44 [==============================] - 0s 9ms/step - loss: 0.1919 - accuracy: 0.9529 - val_loss: 0.6683 - val_accuracy: 0.7863\n",
            "Epoch 22/50\n",
            "44/44 [==============================] - 0s 8ms/step - loss: 0.1753 - accuracy: 0.9557 - val_loss: 0.6668 - val_accuracy: 0.7920\n",
            "Epoch 23/50\n",
            "44/44 [==============================] - 0s 9ms/step - loss: 0.1606 - accuracy: 0.9615 - val_loss: 0.6660 - val_accuracy: 0.8006\n",
            "Epoch 24/50\n",
            "44/44 [==============================] - 0s 9ms/step - loss: 0.1478 - accuracy: 0.9650 - val_loss: 0.6665 - val_accuracy: 0.8006\n",
            "Epoch 25/50\n",
            "44/44 [==============================] - 0s 8ms/step - loss: 0.1365 - accuracy: 0.9672 - val_loss: 0.6672 - val_accuracy: 0.7977\n",
            "Epoch 26/50\n",
            "44/44 [==============================] - 0s 9ms/step - loss: 0.1267 - accuracy: 0.9693 - val_loss: 0.6696 - val_accuracy: 0.8006\n",
            "Epoch 27/50\n",
            "44/44 [==============================] - 0s 9ms/step - loss: 0.1180 - accuracy: 0.9714 - val_loss: 0.6715 - val_accuracy: 0.8006\n",
            "Epoch 28/50\n",
            "44/44 [==============================] - 0s 10ms/step - loss: 0.1104 - accuracy: 0.9743 - val_loss: 0.6738 - val_accuracy: 0.8034\n",
            "Epoch 29/50\n",
            "44/44 [==============================] - 0s 9ms/step - loss: 0.1037 - accuracy: 0.9757 - val_loss: 0.6765 - val_accuracy: 0.8034\n",
            "Epoch 30/50\n",
            "44/44 [==============================] - 0s 9ms/step - loss: 0.0977 - accuracy: 0.9764 - val_loss: 0.6799 - val_accuracy: 0.8034\n",
            "Epoch 31/50\n",
            "44/44 [==============================] - 0s 11ms/step - loss: 0.0924 - accuracy: 0.9786 - val_loss: 0.6829 - val_accuracy: 0.8034\n",
            "Epoch 32/50\n",
            "44/44 [==============================] - 0s 9ms/step - loss: 0.0877 - accuracy: 0.9786 - val_loss: 0.6863 - val_accuracy: 0.8063\n",
            "Epoch 33/50\n",
            "44/44 [==============================] - 0s 9ms/step - loss: 0.0836 - accuracy: 0.9793 - val_loss: 0.6894 - val_accuracy: 0.8063\n",
            "Epoch 34/50\n",
            "44/44 [==============================] - 0s 8ms/step - loss: 0.0799 - accuracy: 0.9800 - val_loss: 0.6931 - val_accuracy: 0.8063\n",
            "Epoch 35/50\n",
            "44/44 [==============================] - 0s 9ms/step - loss: 0.0766 - accuracy: 0.9807 - val_loss: 0.6966 - val_accuracy: 0.8063\n",
            "Epoch 36/50\n",
            "44/44 [==============================] - 0s 9ms/step - loss: 0.0737 - accuracy: 0.9814 - val_loss: 0.7000 - val_accuracy: 0.8063\n",
            "Epoch 37/50\n",
            "44/44 [==============================] - 0s 9ms/step - loss: 0.0710 - accuracy: 0.9822 - val_loss: 0.7035 - val_accuracy: 0.8063\n"
          ],
          "name": "stdout"
        }
      ]
    },
    {
      "cell_type": "code",
      "metadata": {
        "id": "tYuNPW9_LgkD",
        "colab_type": "code",
        "colab": {
          "base_uri": "https://localhost:8080/",
          "height": 513
        },
        "outputId": "20cf1673-f228-4678-ed42-34ea5c615d7d"
      },
      "source": [
        "plot_history(base_history)"
      ],
      "execution_count": 245,
      "outputs": [
        {
          "output_type": "display_data",
          "data": {
            "image/png": "[encoded data removed]",
            "text/plain": [
              "<Figure size 432x288 with 1 Axes>"
            ]
          },
          "metadata": {
            "tags": [],
            "needs_background": "light"
          }
        },
        {
          "output_type": "display_data",
          "data": {
            "image/png": "[encoded data removed]",
            "text/plain": [
              "<Figure size 432x288 with 1 Axes>"
            ]
          },
          "metadata": {
            "tags": [],
            "needs_background": "light"
          }
        }
      ]
    },
    {
      "cell_type": "code",
      "metadata": {
        "id": "-M8T3d4-N1wP",
        "colab_type": "code",
        "colab": {
          "base_uri": "https://localhost:8080/",
          "height": 606
        },
        "outputId": "6d505c58-f594-4769-e50f-e60b915a861f"
      },
      "source": [
        "multiclass_confusion_mat(test_conf, test_labels_conf, base_model)"
      ],
      "execution_count": 68,
      "outputs": [
        {
          "output_type": "display_data",
          "data": {
            "image/png": "[encoded data removed]",
            "text/plain": [
              "<Figure size 720x720 with 2 Axes>"
            ]
          },
          "metadata": {
            "tags": [],
            "needs_background": "light"
          }
        }
      ]
    },
    {
      "cell_type": "code",
      "metadata": {
        "id": "3Skcp3AwXL5v",
        "colab_type": "code",
        "colab": {}
      },
      "source": [
        "# TAKING A BATCH of the TEST DATA\n",
        "test_batch, test_labels_batch = next(iter(test_ds_nbatch.batch(10)))"
      ],
      "execution_count": 69,
      "outputs": []
    },
    {
      "cell_type": "code",
      "metadata": {
        "id": "5mR5VnA2Ap-y",
        "colab_type": "code",
        "colab": {
          "base_uri": "https://localhost:8080/",
          "height": 547
        },
        "outputId": "c101b182-ca69-4945-ef88-ac41ec94667b"
      },
      "source": [
        "predict4_tfdataset(test_batch, test_labels_batch, base_model)"
      ],
      "execution_count": 91,
      "outputs": [
        {
          "output_type": "stream",
          "text": [
            "The sentence is : b'The flag forR\\xc3\\xa9union, which may show as the lettersREon some platforms.Shown as either theVolcano + Sunbeamsflag proposal by theVexillological Association of R\\xc3\\xa9union, or theblue, white, red stripes + four colored quadrantsproposal by theAssociation for the R\\xc3\\xa9union Flag.TheFlag For Franceis the official flag of R\\xc3\\xa9union. All local flags used are unofficial.The Flag: R\\xc3\\xa9union emoji is aflag sequencecombining\\xf0\\x9f\\x87\\xb7Regional Indicator Symbol Letter Rand\\xf0\\x9f\\x87\\xaaRegional Indicator Symbol Letter E.\\nThese display as a single emoji on supported platforms.'\n",
            "The REAL CATEGORY is : Flags versus the PREDICTED CATEGORY : Flags\n",
            "\n",
            "The sentence is : b'A closed, orange, hardcover book\\xe2\\x80\\x94similar to the Emojipedia logo\\xf0\\x9f\\x93\\x99\\xf0\\x9f\\x98\\x83.Commonly used for various content concerning reading, writing, learning, and schooling. May also be used as an orange accent color.Apple\\xe2\\x80\\x99s cover features the easter eggVol. 4 byJohn Appleseed. It waspreviously purpleand the thirdvolume. Samsung\\xe2\\x80\\x99s cover readsOrange Book.'\n",
            "The REAL CATEGORY is : Objects versus the PREDICTED CATEGORY : Objects\n",
            "\n",
            "The sentence is : b'Purple Circlewas approved as part ofUnicode 12.0in 2019\\nunder the name \\xe2\\x80\\x9cLarge Purple Circle\\xe2\\x80\\x9d\\nand added toEmoji 12.0in 2019.'\n",
            "The REAL CATEGORY is : Symbols versus the PREDICTED CATEGORY : Symbols\n",
            "\n",
            "The sentence is : b'A symbol for exchanging of two currencies. Most commonly displayed as adollar symbol, with arrows to and from ayen symbol.Some platformsinstead showbanknotes and coinsinyen,dollars,eurosandpounds.'\n",
            "The REAL CATEGORY is : Symbols versus the PREDICTED CATEGORY : Symbols\n",
            "\n",
            "The sentence is : b'The flag forChile, which may show as the lettersCLon some platforms.The Flag: Chile emoji is aflag sequencecombining\\xf0\\x9f\\x87\\xa8Regional Indicator Symbol Letter Cand\\xf0\\x9f\\x87\\xb1Regional Indicator Symbol Letter L.\\nThese display as a single emoji on supported platforms.'\n",
            "The REAL CATEGORY is : Flags versus the PREDICTED CATEGORY : Flags\n",
            "\n",
            "The sentence is : b'A classic smiley.A yellow face with a modest smile, rosy cheeks, and soft, closed eyes. Many platforms, including Apple, feature relaxed eyebrows. Conveys a wide range of warm, positive feelings, including love, happiness, and gratitude.Similar to\\xf0\\x9f\\x98\\x8aSmiling Face With Smiling Eyes,which has a broader smile, no eyebrows, and smiling eyes.This smiley predates Unicode emoji support. In its Unicode name ofWhite Smiling Face,whitedoesnotrefer to skin tone or ethnicity.See the glossary for thetermwhitein Unicode character names.'\n",
            "The REAL CATEGORY is : Smileys & Emotion versus the PREDICTED CATEGORY : Smileys & Emotion\n",
            "\n",
            "The sentence is : b'The flag forMauritius, which may show as the lettersMUon some platforms.The Flag: Mauritius emoji is aflag sequencecombining\\xf0\\x9f\\x87\\xb2Regional Indicator Symbol Letter Mand\\xf0\\x9f\\x87\\xbaRegional Indicator Symbol Letter U.\\nThese display as a single emoji on supported platforms.'\n",
            "The REAL CATEGORY is : Flags versus the PREDICTED CATEGORY : Flags\n",
            "\n",
            "The sentence is : b'The Man Mechanic emoji is aZWJ sequencecombining\\xf0\\x9f\\x91\\xa8Man,\\xe2\\x80\\x8dZero Width Joinerand\\xf0\\x9f\\x94\\xa7Wrench.\\nThese display as a single emoji on supported platforms.'\n",
            "The REAL CATEGORY is : person-role versus the PREDICTED CATEGORY : person-role\n",
            "\n",
            "The sentence is : b\"A keyboard, as used to type on acomputer. Generally depicted as a gray device with white or black keys. Used for various content concerning computers, typing, and writing.Apple\\xe2\\x80\\x99s design resembles the company\\xe2\\x80\\x99sMagic Keyboard. Microsoft's design is blue.Not to be confused with\\xf0\\x9f\\x8e\\xb9 Musical Keyboard.\"\n",
            "The REAL CATEGORY is : Objects versus the PREDICTED CATEGORY : Objects\n",
            "\n",
            "The sentence is : b'A single finger pointing upward,which could be used to represent the number one, or toask a question.'\n",
            "The REAL CATEGORY is : Body_parts versus the PREDICTED CATEGORY : Body_parts\n",
            "\n"
          ],
          "name": "stdout"
        }
      ]
    },
    {
      "cell_type": "markdown",
      "metadata": {
        "id": "3T5upvbLgogv",
        "colab_type": "text"
      },
      "source": [
        "##### II. WITH DATA AUGMENTATION"
      ]
    },
    {
      "cell_type": "code",
      "metadata": {
        "id": "skq4s5oUvNbm",
        "colab_type": "code",
        "colab": {
          "base_uri": "https://localhost:8080/",
          "height": 255
        },
        "outputId": "724c4f23-8e52-450e-ded7-ae045780e62f"
      },
      "source": [
        "base_model_augm = models.Sequential()\n",
        "base_model_augm.add(embedding_layer)\n",
        "base_model_augm.add(layers.Dense(100, activation=\"relu\"))\n",
        "base_model_augm.add(layers.Dense(12, activation=\"softmax\"))\n",
        "base_model_augm.summary()\n",
        "\n",
        "base_model_augm.compile(\n",
        "    optimizer=\"adam\", \n",
        "    loss='sparse_categorical_crossentropy',\n",
        "    metrics=[\"accuracy\"])"
      ],
      "execution_count": 78,
      "outputs": [
        {
          "output_type": "stream",
          "text": [
            "Model: \"sequential_1\"\n",
            "_________________________________________________________________\n",
            "Layer (type)                 Output Shape              Param #   \n",
            "=================================================================\n",
            "keras_layer (KerasLayer)     (None, 20)                400020    \n",
            "_________________________________________________________________\n",
            "dense_2 (Dense)              (None, 100)               2100      \n",
            "_________________________________________________________________\n",
            "dense_3 (Dense)              (None, 12)                1212      \n",
            "=================================================================\n",
            "Total params: 403,332\n",
            "Trainable params: 403,332\n",
            "Non-trainable params: 0\n",
            "_________________________________________________________________\n"
          ],
          "name": "stdout"
        }
      ]
    },
    {
      "cell_type": "code",
      "metadata": {
        "id": "jbsaR_9Kg8wV",
        "colab_type": "code",
        "colab": {
          "base_uri": "https://localhost:8080/",
          "height": 561
        },
        "outputId": "38a363fe-6d43-4200-8fd0-7eeb27af92e8"
      },
      "source": [
        "base_history_augm = base_model_augm.fit(\n",
        "    train_data_augm.cache().batch(32),\n",
        "    epochs=50,\n",
        "    validation_data=test_data_augm.batch(32),\n",
        "    callbacks=[custom_early_stopping]\n",
        ")"
      ],
      "execution_count": 79,
      "outputs": [
        {
          "output_type": "stream",
          "text": [
            "Epoch 1/50\n",
            "77/77 [==============================] - 1s 11ms/step - loss: 1.6500 - accuracy: 0.4918 - val_loss: 1.1584 - val_accuracy: 0.6882\n",
            "Epoch 2/50\n",
            "77/77 [==============================] - 1s 8ms/step - loss: 0.8316 - accuracy: 0.8087 - val_loss: 0.7554 - val_accuracy: 0.7947\n",
            "Epoch 3/50\n",
            "77/77 [==============================] - 1s 9ms/step - loss: 0.4955 - accuracy: 0.9001 - val_loss: 0.5930 - val_accuracy: 0.8403\n",
            "Epoch 4/50\n",
            "77/77 [==============================] - 1s 9ms/step - loss: 0.3427 - accuracy: 0.9299 - val_loss: 0.5204 - val_accuracy: 0.8498\n",
            "Epoch 5/50\n",
            "77/77 [==============================] - 1s 9ms/step - loss: 0.2608 - accuracy: 0.9494 - val_loss: 0.4832 - val_accuracy: 0.8593\n",
            "Epoch 6/50\n",
            "77/77 [==============================] - 1s 8ms/step - loss: 0.2099 - accuracy: 0.9572 - val_loss: 0.4623 - val_accuracy: 0.8612\n",
            "Epoch 7/50\n",
            "77/77 [==============================] - 1s 8ms/step - loss: 0.1753 - accuracy: 0.9608 - val_loss: 0.4504 - val_accuracy: 0.8612\n",
            "Epoch 8/50\n",
            "77/77 [==============================] - 1s 9ms/step - loss: 0.1504 - accuracy: 0.9682 - val_loss: 0.4434 - val_accuracy: 0.8631\n",
            "Epoch 9/50\n",
            "77/77 [==============================] - 1s 8ms/step - loss: 0.1317 - accuracy: 0.9719 - val_loss: 0.4396 - val_accuracy: 0.8688\n",
            "Epoch 10/50\n",
            "77/77 [==============================] - 1s 10ms/step - loss: 0.1172 - accuracy: 0.9751 - val_loss: 0.4379 - val_accuracy: 0.8707\n",
            "Epoch 11/50\n",
            "77/77 [==============================] - 1s 10ms/step - loss: 0.1056 - accuracy: 0.9772 - val_loss: 0.4376 - val_accuracy: 0.8726\n",
            "Epoch 12/50\n",
            "77/77 [==============================] - 1s 10ms/step - loss: 0.0961 - accuracy: 0.9772 - val_loss: 0.4383 - val_accuracy: 0.8726\n",
            "Epoch 13/50\n",
            "77/77 [==============================] - 1s 9ms/step - loss: 0.0883 - accuracy: 0.9776 - val_loss: 0.4398 - val_accuracy: 0.8688\n",
            "Epoch 14/50\n",
            "77/77 [==============================] - 1s 9ms/step - loss: 0.0816 - accuracy: 0.9784 - val_loss: 0.4418 - val_accuracy: 0.8669\n",
            "Epoch 15/50\n",
            "77/77 [==============================] - 1s 10ms/step - loss: 0.0758 - accuracy: 0.9800 - val_loss: 0.4446 - val_accuracy: 0.8650\n",
            "Epoch 16/50\n",
            "77/77 [==============================] - 1s 9ms/step - loss: 0.0708 - accuracy: 0.9800 - val_loss: 0.4472 - val_accuracy: 0.8631\n"
          ],
          "name": "stdout"
        }
      ]
    },
    {
      "cell_type": "code",
      "metadata": {
        "id": "D5KcAB2bg80i",
        "colab_type": "code",
        "colab": {
          "base_uri": "https://localhost:8080/",
          "height": 516
        },
        "outputId": "f6d586f8-359b-4c08-b134-66b50d34afc4"
      },
      "source": [
        "plot_history(base_history_augm)"
      ],
      "execution_count": 80,
      "outputs": [
        {
          "output_type": "display_data",
          "data": {
            "image/png": "[encoded data removed]",
            "text/plain": [
              "<Figure size 432x288 with 1 Axes>"
            ]
          },
          "metadata": {
            "tags": [],
            "needs_background": "light"
          }
        },
        {
          "output_type": "display_data",
          "data": {
            "image/png": "[encoded data removed]",
            "text/plain": [
              "<Figure size 432x288 with 1 Axes>"
            ]
          },
          "metadata": {
            "tags": [],
            "needs_background": "light"
          }
        }
      ]
    },
    {
      "cell_type": "code",
      "metadata": {
        "id": "K3ZLHPkLg85B",
        "colab_type": "code",
        "colab": {
          "base_uri": "https://localhost:8080/",
          "height": 606
        },
        "outputId": "115ffcb3-06da-4760-8068-919fd2e69c89"
      },
      "source": [
        "multiclass_confusion_mat(test_conf_augm, test_labels_conf_augm, base_model_augm)"
      ],
      "execution_count": 81,
      "outputs": [
        {
          "output_type": "display_data",
          "data": {
            "image/png": "[encoded data removed]",
            "text/plain": [
              "<Figure size 720x720 with 2 Axes>"
            ]
          },
          "metadata": {
            "tags": [],
            "needs_background": "light"
          }
        }
      ]
    },
    {
      "cell_type": "code",
      "metadata": {
        "id": "0qx--fsPYUA9",
        "colab_type": "code",
        "colab": {}
      },
      "source": [
        "# TAKING A BATCH of the TEST DATA\n",
        "test_batch_augm, test_labels_batch_augm = next(iter(test_ds_nbatch_dAug.shuffle(300).batch(10)))"
      ],
      "execution_count": 93,
      "outputs": []
    },
    {
      "cell_type": "code",
      "metadata": {
        "id": "ick9W7TDg9Zz",
        "colab_type": "code",
        "colab": {
          "base_uri": "https://localhost:8080/",
          "height": 547
        },
        "outputId": "df5afe36-34dc-41cd-d772-df663cddb7c4"
      },
      "source": [
        "predict4_tfdataset(test_batch_augm, test_labels_batch_augm, base_model_augm)"
      ],
      "execution_count": 94,
      "outputs": [
        {
          "output_type": "stream",
          "text": [
            "The sentence is : b'Male royalty, intended as a gender pair for theprincess emoji. Shown as amanwith a crown.Not a reference to the musicianPrince, however theman singer emoji on WhatsAppdoes show a character that bears a heavy resemblance to this artist.'\n",
            "The REAL CATEGORY is : person-role versus the PREDICTED CATEGORY : Person_or_family\n",
            "\n",
            "The sentence is : b'The edible fungus of the mushroom, depicted as a toadstool with a white-spotted red cap and stem.'\n",
            "The REAL CATEGORY is : Food & Drink versus the PREDICTED CATEGORY : Food & Drink\n",
            "\n",
            "The sentence is : b'Ding! A call bell, as pressed at a frontdesk or receptionto alert staff for service, such as from aconciergeor bellhop (porter) to carryluggageat ahotel. Generally depicted as a goldenbellon a wooden stand.Commonly represents alerts or notifications to bring attention to important content. May also be used of various content concerning the hospitality and service industries.Microsoft\\xe2\\x80\\x99s design features a silver bell radiating yellow rays, as if ringing.'\n",
            "The REAL CATEGORY is : Travel & Places versus the PREDICTED CATEGORY : Objects\n",
            "\n",
            "The sentence is : b\"A flower that has blossomed. Depicted as a flower with white or yellow petals, as a daisy, with a golden center.Commonly used forValentine\\xe2\\x80\\x99s Day,Mother\\xe2\\x80\\x99s Day, and other special occasions. May be more generally used to convey such ideasas love, appreciation, and happiness. Also used as a yellow or white accent color.Not to be confused with\\xf0\\x9f\\x8c\\xbb Sunfloweror\\xf0\\x9f\\x8c\\xb8 Cherry Blossom, though their applications may overlap.Google's flower wasoncepink.Microsoft'swas previously yellow,Samsung'swhite.\"\n",
            "The REAL CATEGORY is : Animals & Nature versus the PREDICTED CATEGORY : Animals & Nature\n",
            "\n",
            "The sentence is : b'Lacrosse'\n",
            "The REAL CATEGORY is : Activities versus the PREDICTED CATEGORY : Symbols\n",
            "\n",
            "The sentence is : b\"A pensive, remorseful face. Saddened by life. Quietly considering where things all went wrong.Depicted as a yellow face with sad, closed eyes, furrowed eyebrows, and a slight, flat mouth.May convey a variety of sad emotions, including feeling disappointed, hurt, or lonely. Less intense than other sad emojis like\\xf0\\x9f\\x98\\xadLoudly Crying Faceand more introspective.Microsoft's designpreviously featureda more neutral, bored expression. Samsung\\xe2\\x80\\x99s designpreviously lookedmore guilty or worried.Not to be confused with\\xf0\\x9f\\x98\\x8cRelieved Face, which has similarly shaped eyes but in a happier expression.\"\n",
            "The REAL CATEGORY is : Smileys & Emotion versus the PREDICTED CATEGORY : Smileys & Emotion\n",
            "\n",
            "The sentence is : b'A roll of paper, as toilet paper (toilet tissue). May also be a roll of kitchen/paper towels. Depicted at various angles, with a sheet unfurling.Commonly used for toilet paper but may also be used for various content concerningtoilets, going to the bathroom, bathrooms, cleaning, or paper more generally.'\n",
            "The REAL CATEGORY is : Objects versus the PREDICTED CATEGORY : Objects\n",
            "\n",
            "The sentence is : b'The Flag: St. Kitts & Nevis emoji is aflag sequencecombining\\xf0\\x9f\\x87\\xb0Regional Indicator Symbol Letter Kand\\xf0\\x9f\\x87\\xb3Regional Indicator Symbol Letter N.\\nThese display as a single emoji on supported platforms.'\n",
            "The REAL CATEGORY is : Flags versus the PREDICTED CATEGORY : Flags\n",
            "\n",
            "The sentence is : b'The Flag: South Georgia & South Sandwich Islands emoji is aflag sequencecombining\\xf0\\x9f\\x87\\xacRegional Indicator Symbol Letter Gand\\xf0\\x9f\\x87\\xb8Regional Indicator Symbol Letter S.\\nThese display as a single emoji on supported platforms.'\n",
            "The REAL CATEGORY is : Flags versus the PREDICTED CATEGORY : Flags\n",
            "\n",
            "The sentence is : b'A banded stack of yen banknotes, the paper currency ofJapan. Color and detail vary across platforms, but usually shown in green, yellow, or pink with the yen symbol, \\xc2\\xa5. Commonly used for various content concerning money and wealth, not restricted to Japan.Apple and WhatsApp\\xe2\\x80\\x99s designs depict the \\xc2\\xa51,000 banknote, Facebook\\xe2\\x80\\x99s features a Japanese character foryen(\\xe5\\x86\\x86) and acherry blossom.'\n",
            "The REAL CATEGORY is : Objects versus the PREDICTED CATEGORY : Objects\n",
            "\n"
          ],
          "name": "stdout"
        }
      ]
    },
    {
      "cell_type": "markdown",
      "metadata": {
        "id": "EjW_C-Ud57X-",
        "colab_type": "text"
      },
      "source": [
        "#### B. BASE_MODEL but with EMBEDDINLAYER Dimension 128D"
      ]
    },
    {
      "cell_type": "markdown",
      "metadata": {
        "id": "C7l40r2mKfjy",
        "colab_type": "text"
      },
      "source": [
        "##### I. Without Regularization"
      ]
    },
    {
      "cell_type": "code",
      "metadata": {
        "id": "7xsfH4ll56Fj",
        "colab_type": "code",
        "colab": {
          "base_uri": "https://localhost:8080/",
          "height": 629
        },
        "outputId": "f5fffb9d-95e1-433c-e6fd-7c796a4d1c28"
      },
      "source": [
        "base_model_128D = models.Sequential()\n",
        "base_model_128D.add(embedding_layer_128D)\n",
        "base_model_128D.add(layers.Dense(100, activation=\"relu\"))\n",
        "base_model_128D.add(layers.Dense(12, activation=\"softmax\"))\n",
        "base_model_128D.summary()\n",
        "\n",
        "base_model_128D.compile(\n",
        "    optimizer=\"adam\", \n",
        "    loss='sparse_categorical_crossentropy',\n",
        "    metrics=[\"accuracy\"])\n",
        "\n",
        "base_history_128D = base_model_128D.fit(\n",
        "    train_data.cache().batch(32),\n",
        "    epochs=15,\n",
        "    validation_data=test_data.batch(32),\n",
        "    callbacks=[custom_early_stopping]\n",
        ")\n"
      ],
      "execution_count": 95,
      "outputs": [
        {
          "output_type": "stream",
          "text": [
            "Model: \"sequential_2\"\n",
            "_________________________________________________________________\n",
            "Layer (type)                 Output Shape              Param #   \n",
            "=================================================================\n",
            "keras_layer_1 (KerasLayer)   (None, 128)               124642688 \n",
            "_________________________________________________________________\n",
            "dense_4 (Dense)              (None, 100)               12900     \n",
            "_________________________________________________________________\n",
            "dense_5 (Dense)              (None, 12)                1212      \n",
            "=================================================================\n",
            "Total params: 124,656,800\n",
            "Trainable params: 124,656,800\n",
            "Non-trainable params: 0\n",
            "_________________________________________________________________\n",
            "Epoch 1/15\n",
            "44/44 [==============================] - 62s 1s/step - loss: 2.1061 - accuracy: 0.4026 - val_loss: 1.6830 - val_accuracy: 0.5356\n",
            "Epoch 2/15\n",
            "44/44 [==============================] - 61s 1s/step - loss: 1.3436 - accuracy: 0.6817 - val_loss: 1.1631 - val_accuracy: 0.6781\n",
            "Epoch 3/15\n",
            "44/44 [==============================] - 61s 1s/step - loss: 0.7338 - accuracy: 0.8351 - val_loss: 0.8541 - val_accuracy: 0.7664\n",
            "Epoch 4/15\n",
            "44/44 [==============================] - 61s 1s/step - loss: 0.3647 - accuracy: 0.9350 - val_loss: 0.6909 - val_accuracy: 0.8177\n",
            "Epoch 5/15\n",
            "44/44 [==============================] - 61s 1s/step - loss: 0.1833 - accuracy: 0.9779 - val_loss: 0.6047 - val_accuracy: 0.8376\n",
            "Epoch 6/15\n",
            "44/44 [==============================] - 60s 1s/step - loss: 0.0980 - accuracy: 0.9921 - val_loss: 0.5573 - val_accuracy: 0.8490\n",
            "Epoch 7/15\n",
            "44/44 [==============================] - 60s 1s/step - loss: 0.0580 - accuracy: 0.9957 - val_loss: 0.5305 - val_accuracy: 0.8490\n",
            "Epoch 8/15\n",
            "44/44 [==============================] - 61s 1s/step - loss: 0.0380 - accuracy: 0.9971 - val_loss: 0.5141 - val_accuracy: 0.8433\n",
            "Epoch 9/15\n",
            "44/44 [==============================] - 61s 1s/step - loss: 0.0268 - accuracy: 0.9971 - val_loss: 0.5031 - val_accuracy: 0.8433\n",
            "Epoch 10/15\n",
            "44/44 [==============================] - 62s 1s/step - loss: 0.0199 - accuracy: 0.9986 - val_loss: 0.4949 - val_accuracy: 0.8433\n",
            "Epoch 11/15\n",
            "44/44 [==============================] - 61s 1s/step - loss: 0.0152 - accuracy: 0.9986 - val_loss: 0.4888 - val_accuracy: 0.8462\n"
          ],
          "name": "stdout"
        }
      ]
    },
    {
      "cell_type": "code",
      "metadata": {
        "id": "sZ2makbd56ap",
        "colab_type": "code",
        "colab": {
          "base_uri": "https://localhost:8080/",
          "height": 513
        },
        "outputId": "0731e92c-6354-4ee7-97e9-6e387711d2e3"
      },
      "source": [
        "plot_history(base_history_128D)"
      ],
      "execution_count": 96,
      "outputs": [
        {
          "output_type": "display_data",
          "data": {
            "image/png": "[encoded data removed]",
            "text/plain": [
              "<Figure size 432x288 with 1 Axes>"
            ]
          },
          "metadata": {
            "tags": [],
            "needs_background": "light"
          }
        },
        {
          "output_type": "display_data",
          "data": {
            "image/png": "[encoded data removed]",
            "text/plain": [
              "<Figure size 432x288 with 1 Axes>"
            ]
          },
          "metadata": {
            "tags": [],
            "needs_background": "light"
          }
        }
      ]
    },
    {
      "cell_type": "code",
      "metadata": {
        "id": "fdhrGYZF56nH",
        "colab_type": "code",
        "colab": {
          "base_uri": "https://localhost:8080/",
          "height": 606
        },
        "outputId": "e350a85a-ba05-4b60-f0af-cbb3d3e4eaf9"
      },
      "source": [
        "multiclass_confusion_mat(test_conf, test_labels_conf, base_model_128D)"
      ],
      "execution_count": 97,
      "outputs": [
        {
          "output_type": "display_data",
          "data": {
            "image/png": "[encoded data removed]",
            "text/plain": [
              "<Figure size 720x720 with 2 Axes>"
            ]
          },
          "metadata": {
            "tags": [],
            "needs_background": "light"
          }
        }
      ]
    },
    {
      "cell_type": "code",
      "metadata": {
        "id": "PkKCc6PY56jA",
        "colab_type": "code",
        "colab": {}
      },
      "source": [
        "# TAKING A BATCH of the TEST DATA\n",
        "test_batch, test_labels_batch = next(iter(test_ds_nbatch.batch(10)))"
      ],
      "execution_count": 104,
      "outputs": []
    },
    {
      "cell_type": "code",
      "metadata": {
        "id": "FW619ZFQ56lj",
        "colab_type": "code",
        "colab": {
          "base_uri": "https://localhost:8080/",
          "height": 547
        },
        "outputId": "bd50af54-d65f-4d44-874a-386a6facabb2"
      },
      "source": [
        "predict4_tfdataset(test_batch, test_labels_batch, base_model_128D)"
      ],
      "execution_count": 105,
      "outputs": [
        {
          "output_type": "stream",
          "text": [
            "The sentence is : b'The male version of the\\xf0\\x9f\\x99\\x86Face With OK Gestureemoji.The Man Gesturing OK emoji is aZWJ sequencecombining\\xf0\\x9f\\x99\\x86Person Gesturing OK,\\xe2\\x80\\x8dZero Width Joinerand\\xe2\\x99\\x82Male Sign.\\nThese display as a single emoji on supported platforms.'\n",
            "The REAL CATEGORY is : Person-activity versus the PREDICTED CATEGORY : Person-activity\n",
            "\n",
            "The sentence is : b'A globe, showing the continents of Europe and Africa in green against blue ocean.May be used to represent various content concerning the European, African, and Atlantic regions. May also be used to represent Earth and internationalaffairs more generally.See also\\xf0\\x9f\\x8c\\x8e Globe Showing Americasand\\xf0\\x9f\\x8c\\x8f Globe Showing Asia-Australia.'\n",
            "The REAL CATEGORY is : Travel & Places versus the PREDICTED CATEGORY : Travel & Places\n",
            "\n",
            "The sentence is : b'Prescription glasses, shown with a variety of frames, depending on platform.'\n",
            "The REAL CATEGORY is : Objects versus the PREDICTED CATEGORY : Travel & Places\n",
            "\n",
            "The sentence is : b'AMexicanor Tex-Mex burrito, featuring a wrapped flour tortilla filled with such ingredients asbeef,rice, beans,cheese,tomato,lettuce, and sour cream. Served in foil on several major platforms,suggesting aMissionburritoassociated with San Francisco. Not to be confused with theStuffed Flatbread.'\n",
            "The REAL CATEGORY is : Food & Drink versus the PREDICTED CATEGORY : Food & Drink\n",
            "\n",
            "The sentence is : b'A butterfly, a beautiful winged insect whose larva is acaterpillar. Depicted with its wings outspread, as a blue-and-blackmorpho butterflyor orange-and-blackmonarch butterfly.May be used to represent a moth and ideas of beauty and happiness.Samsung\\xe2\\x80\\x99s butterflypreviouslyresembled a monarch.'\n",
            "The REAL CATEGORY is : Animals & Nature versus the PREDICTED CATEGORY : Animals & Nature\n",
            "\n",
            "The sentence is : b'An icon of a outlined sun, used when increasingthe brightness of a screen. Appears larger than theLow Brightness Symbol.'\n",
            "The REAL CATEGORY is : Symbols versus the PREDICTED CATEGORY : Symbols\n",
            "\n",
            "The sentence is : b'A postbox (mailbox, letterbox) with aletterin its slot for collection. Generally depicted in red with a white envelope, styled afterpublic postboxes in Japan. May also evokepostboxes in the United Kingdom.Used for various content concerning postal deliveries andemail. Microsoft\\xe2\\x80\\x99s design is blue, after U.S. mail collection boxes.'\n",
            "The REAL CATEGORY is : Objects versus the PREDICTED CATEGORY : Objects\n",
            "\n",
            "The sentence is : b'A golden-brown, crescent-shaped, vanilla-flavored fortune cookie. Usually depicted with a strip of paper\\xe2\\x80\\x94on which a wise saying, lucky numbers, orChinesevocabulary is written\\xe2\\x80\\x94peaking out of its hollow shell. Given at the end of meals at Chinese restaurants in the West.'\n",
            "The REAL CATEGORY is : Food & Drink versus the PREDICTED CATEGORY : Food & Drink\n",
            "\n",
            "The sentence is : b'A symbol often used in relation to the religionofJudaism. Not to be confused with theSix Pointed Star With Middle Dot emoji.'\n",
            "The REAL CATEGORY is : Symbols versus the PREDICTED CATEGORY : Symbols\n",
            "\n",
            "The sentence is : b'A femaleastronaut or cosmonaut shown wearing aspace suit and helmet.The Woman Astronaut emoji is aZWJ sequencecombining\\xf0\\x9f\\x91\\xa9Woman,\\xe2\\x80\\x8dZero Width Joinerand\\xf0\\x9f\\x9a\\x80Rocket.\\nThese display as a single emoji on supported platforms.'\n",
            "The REAL CATEGORY is : person-role versus the PREDICTED CATEGORY : person-role\n",
            "\n"
          ],
          "name": "stdout"
        }
      ]
    },
    {
      "cell_type": "markdown",
      "metadata": {
        "id": "x6EJYD0-K-KU",
        "colab_type": "text"
      },
      "source": [
        "II. With Regularization"
      ]
    },
    {
      "cell_type": "code",
      "metadata": {
        "id": "P21CJoLnN2He",
        "colab_type": "code",
        "colab": {}
      },
      "source": [
        "# hyperparameters:\n",
        "factor = 0.001\n",
        "rate =  0.3"
      ],
      "execution_count": 106,
      "outputs": []
    },
    {
      "cell_type": "markdown",
      "metadata": {
        "id": "R377r5f_OZly",
        "colab_type": "text"
      },
      "source": [
        "##### 1. Only L2 Regularization"
      ]
    },
    {
      "cell_type": "code",
      "metadata": {
        "id": "II9A6-Or56Pa",
        "colab_type": "code",
        "colab": {
          "base_uri": "https://localhost:8080/",
          "height": 68
        },
        "outputId": "697768ba-eece-47b6-a189-2611176179b6"
      },
      "source": [
        "base_model_128D_l2 = models.Sequential()\n",
        "base_model_128D_l2.add(embedding_layer_128D)\n",
        "base_model_128D_l2.add(layers.Dense(100,kernel_regularizer=l2(factor) ,activation=\"relu\"))\n",
        "base_model_128D_l2.add(layers.Dense(12,kernel_regularizer=l2(factor) ,activation=\"softmax\"))\n",
        "base_model_128D_l2.summary()\n",
        "\n",
        "base_model_128D_l2.compile(\n",
        "    optimizer=\"adam\", \n",
        "    loss='sparse_categorical_crossentropy',\n",
        "    metrics=[\"accuracy\"])\n",
        "\n",
        "base_history_128D_l2 = base_model_128D_l2.fit(\n",
        "    train_data.cache().batch(32),\n",
        "    epochs=12,\n",
        "    validation_data=test_data.batch(32),\n",
        "    callbacks=[custom_early_stopping]\n",
        ")\n"
      ],
      "execution_count": 107,
      "outputs": [
        {
          "output_type": "stream",
          "text": [
            "44/44 [==============================] - 61s 1s/step - loss: 0.1815 - accuracy: 0.9993 - val_loss: 0.6841 - val_accuracy: 0.8433\n",
            "Epoch 9/12\n",
            "44/44 [==============================] - 61s 1s/step - loss: 0.1716 - accuracy: 0.9993 - val_loss: 0.6734 - val_accuracy: 0.8462\n"
          ],
          "name": "stdout"
        }
      ]
    },
    {
      "cell_type": "code",
      "metadata": {
        "id": "loydGetdLEad",
        "colab_type": "code",
        "colab": {
          "base_uri": "https://localhost:8080/",
          "height": 513
        },
        "outputId": "be5874ec-0d97-4ab5-ff0a-19a521194843"
      },
      "source": [
        "plot_history(base_history_128D_l2)"
      ],
      "execution_count": 108,
      "outputs": [
        {
          "output_type": "display_data",
          "data": {
            "image/png": "[encoded data removed]",
            "text/plain": [
              "<Figure size 432x288 with 1 Axes>"
            ]
          },
          "metadata": {
            "tags": [],
            "needs_background": "light"
          }
        },
        {
          "output_type": "display_data",
          "data": {
            "image/png": "[encoded data removed]",
            "text/plain": [
              "<Figure size 432x288 with 1 Axes>"
            ]
          },
          "metadata": {
            "tags": [],
            "needs_background": "light"
          }
        }
      ]
    },
    {
      "cell_type": "code",
      "metadata": {
        "id": "IeJF7GG1bL9C",
        "colab_type": "code",
        "colab": {
          "base_uri": "https://localhost:8080/",
          "height": 606
        },
        "outputId": "c3e5816e-c5b0-450b-b367-1968fefda3c8"
      },
      "source": [
        "multiclass_confusion_mat(test_conf, test_labels_conf, base_model_128D_l2)"
      ],
      "execution_count": 109,
      "outputs": [
        {
          "output_type": "display_data",
          "data": {
            "image/png": "[encoded data removed]",
            "text/plain": [
              "<Figure size 720x720 with 2 Axes>"
            ]
          },
          "metadata": {
            "tags": [],
            "needs_background": "light"
          }
        }
      ]
    },
    {
      "cell_type": "code",
      "metadata": {
        "id": "J0Fn6q2GLGsz",
        "colab_type": "code",
        "colab": {}
      },
      "source": [
        "# TAKING A BATCH of the TEST DATA\n",
        "test_batch, test_labels_batch = next(iter(test_ds_nbatch.batch(10)))"
      ],
      "execution_count": 110,
      "outputs": []
    },
    {
      "cell_type": "code",
      "metadata": {
        "id": "zZqWOxdw56Nr",
        "colab_type": "code",
        "colab": {
          "base_uri": "https://localhost:8080/",
          "height": 547
        },
        "outputId": "74857fa3-b754-4841-b8da-9ee498789ba5"
      },
      "source": [
        "predict4_tfdataset(test_batch, test_labels_batch, base_model_128D_l2)"
      ],
      "execution_count": 111,
      "outputs": [
        {
          "output_type": "stream",
          "text": [
            "The sentence is : b'Two hands clapping emoji, which when used multiple times can be usedas a round of applause.'\n",
            "The REAL CATEGORY is : Body_parts versus the PREDICTED CATEGORY : Body_parts\n",
            "\n",
            "The sentence is : b'Thewordfree, shown enclosedin a square.'\n",
            "The REAL CATEGORY is : Symbols versus the PREDICTED CATEGORY : Symbols\n",
            "\n",
            "The sentence is : b'The Keycap Digit Nine emoji is akeycap sequencecombining9Digit Nineand\\xe2\\x83\\xa3Combining Enclosing Keycap.\\nThese display as a single emoji on supported platforms.'\n",
            "The REAL CATEGORY is : Symbols versus the PREDICTED CATEGORY : Symbols\n",
            "\n",
            "The sentence is : b'Creatures with pointed ears and human-like faces.Femaleandmaleelves are available.Elfwas approved as part ofUnicode 10.0in 2017\\nand added toEmoji 5.0in 2017.'\n",
            "The REAL CATEGORY is : Person-activity versus the PREDICTED CATEGORY : Person-activity\n",
            "\n",
            "The sentence is : b'A classic telephone, as a landline home phone. Most platforms depict a red, push-button phone with thehandseton the base.Used for various content concerning literal and figurative phone-calling. Also used as an icon before a phone number.Google and Samsung\\xe2\\x80\\x99s designs feature rotary dials.See the glossary for the termblackin Unicode character names.'\n",
            "The REAL CATEGORY is : Objects versus the PREDICTED CATEGORY : Objects\n",
            "\n",
            "The sentence is : b'A chocolate-glazed donut (or doughnut) withrainbowsprinkles. WhatsApp features a pink glaze associated withThe Simpsons. May resemble theBagelat small sizes.'\n",
            "The REAL CATEGORY is : Food & Drink versus the PREDICTED CATEGORY : Food & Drink\n",
            "\n",
            "The sentence is : b'The male version of the\\xf0\\x9f\\x8f\\x83Runneremoji.Currently identical in appearance to the non-gendered base emoji.The Man Running emoji is aZWJ sequencecombining\\xf0\\x9f\\x8f\\x83Person Running,\\xe2\\x80\\x8dZero Width Joinerand\\xe2\\x99\\x82Male Sign.\\nThese display as a single emoji on supported platforms.'\n",
            "The REAL CATEGORY is : Person-activity versus the PREDICTED CATEGORY : Person-activity\n",
            "\n",
            "The sentence is : b'Lacrosse'\n",
            "The REAL CATEGORY is : Activities versus the PREDICTED CATEGORY : Activities\n",
            "\n",
            "The sentence is : b'A new moon with a smiling face, as theMan in the Moon. Generally depicts the moon as a dark disc with a slightly smiling human face and nose.See also\\xf0\\x9f\\x8c\\x91New Moon.May be used to represent the moon more generally. Popularly perceived ascreepy, used tothrow shade(express disapproval), or convey various suggestive or ironic sentiments.Apple and WhatsApp\\xe2\\x80\\x99s eyes are looking left, as if giving theside-eye. Samsung and Facebook\\xe2\\x80\\x99s faces are looking straight ahead. Google\\xe2\\x80\\x99s facial expression resembles\\xf0\\x9f\\x98\\x8fSmirking Face, Twitter\\xe2\\x80\\x99s\\xf0\\x9f\\x99\\x82Slightly Smiling Face.Google\\xe2\\x80\\x99sface previously evokedLenny Face,Microsoft\\xe2\\x80\\x99seyes appeared closed, andFacebook\\xe2\\x80\\x99sface was a simple smiley.'\n",
            "The REAL CATEGORY is : Travel & Places versus the PREDICTED CATEGORY : Smileys & Emotion\n",
            "\n",
            "The sentence is : b'Yo-Yowas approved as part ofUnicode 12.0in 2019\\nand added toEmoji 12.0in 2019.'\n",
            "The REAL CATEGORY is : Activities versus the PREDICTED CATEGORY : Objects\n",
            "\n"
          ],
          "name": "stdout"
        }
      ]
    },
    {
      "cell_type": "markdown",
      "metadata": {
        "id": "xPeOEa41O8iM",
        "colab_type": "text"
      },
      "source": [
        "#### 2. L2 and Dropout with EarlyStopping"
      ]
    },
    {
      "cell_type": "code",
      "metadata": {
        "id": "no-JpEIhLHps",
        "colab_type": "code",
        "colab": {
          "base_uri": "https://localhost:8080/",
          "height": 323
        },
        "outputId": "fc4bc07c-05da-43e7-b9d8-6a9c0bf5b7bd"
      },
      "source": [
        "base_model_128D_reg = models.Sequential()\n",
        "base_model_128D_reg.add(embedding_layer_128D)\n",
        "base_model_128D_reg.add(layers.Dropout(rate))\n",
        "base_model_128D_reg.add(layers.Dense(100,kernel_regularizer=l2(factor) ,activation=\"relu\"))\n",
        "base_model_128D_reg.add(layers.Dropout(rate))\n",
        "base_model_128D_reg.add(layers.Dense(12,kernel_regularizer=l2(factor) ,activation=\"softmax\"))\n",
        "base_model_128D_reg.summary()\n",
        "\n",
        "base_model_128D_reg.compile(\n",
        "    optimizer=\"adam\", \n",
        "    loss='sparse_categorical_crossentropy',\n",
        "    metrics=[\"accuracy\"])\n",
        "\n"
      ],
      "execution_count": 112,
      "outputs": [
        {
          "output_type": "stream",
          "text": [
            "Model: \"sequential_4\"\n",
            "_________________________________________________________________\n",
            "Layer (type)                 Output Shape              Param #   \n",
            "=================================================================\n",
            "keras_layer_1 (KerasLayer)   (None, 128)               124642688 \n",
            "_________________________________________________________________\n",
            "dropout (Dropout)            (None, 128)               0         \n",
            "_________________________________________________________________\n",
            "dense_8 (Dense)              (None, 100)               12900     \n",
            "_________________________________________________________________\n",
            "dropout_1 (Dropout)          (None, 100)               0         \n",
            "_________________________________________________________________\n",
            "dense_9 (Dense)              (None, 12)                1212      \n",
            "=================================================================\n",
            "Total params: 124,656,800\n",
            "Trainable params: 124,656,800\n",
            "Non-trainable params: 0\n",
            "_________________________________________________________________\n"
          ],
          "name": "stdout"
        }
      ]
    },
    {
      "cell_type": "code",
      "metadata": {
        "id": "Tk-f7YRlltvo",
        "colab_type": "code",
        "colab": {
          "base_uri": "https://localhost:8080/",
          "height": 459
        },
        "outputId": "c8ee9d87-5958-4ed4-adbc-66e984a69cb8"
      },
      "source": [
        "# Applying Early Stopping\n",
        "base_history_128D_reg = base_model_128D_reg.fit(\n",
        "    train_data.cache().batch(32),\n",
        "    epochs=30,\n",
        "    validation_data=test_data.batch(32),\n",
        "    callbacks=[custom_early_stopping]\n",
        ")"
      ],
      "execution_count": 113,
      "outputs": [
        {
          "output_type": "stream",
          "text": [
            "Epoch 1/30\n",
            "44/44 [==============================] - 62s 1s/step - loss: 1.9295 - accuracy: 0.5353 - val_loss: 1.4604 - val_accuracy: 0.7208\n",
            "Epoch 2/30\n",
            "44/44 [==============================] - 61s 1s/step - loss: 0.8827 - accuracy: 0.8944 - val_loss: 0.9842 - val_accuracy: 0.8148\n",
            "Epoch 3/30\n",
            "44/44 [==============================] - 61s 1s/step - loss: 0.4527 - accuracy: 0.9736 - val_loss: 0.8216 - val_accuracy: 0.8348\n",
            "Epoch 4/30\n",
            "44/44 [==============================] - 64s 1s/step - loss: 0.3128 - accuracy: 0.9893 - val_loss: 0.7498 - val_accuracy: 0.8433\n",
            "Epoch 5/30\n",
            "44/44 [==============================] - 63s 1s/step - loss: 0.2641 - accuracy: 0.9921 - val_loss: 0.7173 - val_accuracy: 0.8376\n",
            "Epoch 6/30\n",
            "44/44 [==============================] - 61s 1s/step - loss: 0.2419 - accuracy: 0.9936 - val_loss: 0.6914 - val_accuracy: 0.8433\n",
            "Epoch 7/30\n",
            "44/44 [==============================] - 61s 1s/step - loss: 0.2189 - accuracy: 0.9971 - val_loss: 0.6831 - val_accuracy: 0.8462\n",
            "Epoch 8/30\n",
            "44/44 [==============================] - 61s 1s/step - loss: 0.2023 - accuracy: 0.9957 - val_loss: 0.6728 - val_accuracy: 0.8490\n",
            "Epoch 9/30\n",
            "44/44 [==============================] - 62s 1s/step - loss: 0.1925 - accuracy: 0.9993 - val_loss: 0.6616 - val_accuracy: 0.8462\n",
            "Epoch 10/30\n",
            "44/44 [==============================] - 63s 1s/step - loss: 0.1846 - accuracy: 0.9986 - val_loss: 0.6480 - val_accuracy: 0.8433\n",
            "Epoch 11/30\n",
            "44/44 [==============================] - 62s 1s/step - loss: 0.1786 - accuracy: 0.9979 - val_loss: 0.6460 - val_accuracy: 0.8462\n",
            "Epoch 12/30\n",
            "44/44 [==============================] - 62s 1s/step - loss: 0.1717 - accuracy: 0.9986 - val_loss: 0.6394 - val_accuracy: 0.8376\n",
            "Epoch 13/30\n",
            "44/44 [==============================] - 61s 1s/step - loss: 0.1658 - accuracy: 0.9993 - val_loss: 0.6277 - val_accuracy: 0.8462\n"
          ],
          "name": "stdout"
        }
      ]
    },
    {
      "cell_type": "code",
      "metadata": {
        "id": "5LyZufHOPFAL",
        "colab_type": "code",
        "colab": {
          "base_uri": "https://localhost:8080/",
          "height": 515
        },
        "outputId": "2ce46e6a-7a1f-4285-b3d5-8949ad9a7014"
      },
      "source": [
        "plot_history(base_history_128D_reg)"
      ],
      "execution_count": 161,
      "outputs": [
        {
          "output_type": "display_data",
          "data": {
            "image/png": "[encoded data removed]",
            "text/plain": [
              "<Figure size 432x288 with 1 Axes>"
            ]
          },
          "metadata": {
            "tags": [],
            "needs_background": "light"
          }
        },
        {
          "output_type": "display_data",
          "data": {
            "image/png": "[encoded data removed]",
            "text/plain": [
              "<Figure size 432x288 with 1 Axes>"
            ]
          },
          "metadata": {
            "tags": [],
            "needs_background": "light"
          }
        }
      ]
    },
    {
      "cell_type": "code",
      "metadata": {
        "id": "adZ2BrNFKwXT",
        "colab_type": "code",
        "colab": {
          "base_uri": "https://localhost:8080/",
          "height": 606
        },
        "outputId": "a9a79b36-b5a1-4de4-f106-6f6b5aa55cc5"
      },
      "source": [
        "multiclass_confusion_mat(test_conf, test_labels_conf, base_model_128D_reg)"
      ],
      "execution_count": 162,
      "outputs": [
        {
          "output_type": "display_data",
          "data": {
            "image/png": "[encoded data removed]",
            "text/plain": [
              "<Figure size 720x720 with 2 Axes>"
            ]
          },
          "metadata": {
            "tags": [],
            "needs_background": "light"
          }
        }
      ]
    },
    {
      "cell_type": "code",
      "metadata": {
        "id": "orD4yUzFPEb3",
        "colab_type": "code",
        "colab": {
          "base_uri": "https://localhost:8080/",
          "height": 547
        },
        "outputId": "f4e4d964-38c8-4fef-a25f-5142ad1a56b2"
      },
      "source": [
        "predict4_tfdataset(test_batch, test_labels_batch, base_model_128D_reg)"
      ],
      "execution_count": 163,
      "outputs": [
        {
          "output_type": "stream",
          "text": [
            "The sentence is : b'Two hands clapping emoji, which when used multiple times can be usedas a round of applause.'\n",
            "The REAL CATEGORY is : Body_parts versus the PREDICTED CATEGORY : Body_parts\n",
            "\n",
            "The sentence is : b'Thewordfree, shown enclosedin a square.'\n",
            "The REAL CATEGORY is : Symbols versus the PREDICTED CATEGORY : Symbols\n",
            "\n",
            "The sentence is : b'The Keycap Digit Nine emoji is akeycap sequencecombining9Digit Nineand\\xe2\\x83\\xa3Combining Enclosing Keycap.\\nThese display as a single emoji on supported platforms.'\n",
            "The REAL CATEGORY is : Symbols versus the PREDICTED CATEGORY : Symbols\n",
            "\n",
            "The sentence is : b'Creatures with pointed ears and human-like faces.Femaleandmaleelves are available.Elfwas approved as part ofUnicode 10.0in 2017\\nand added toEmoji 5.0in 2017.'\n",
            "The REAL CATEGORY is : Person-activity versus the PREDICTED CATEGORY : Person-activity\n",
            "\n",
            "The sentence is : b'A classic telephone, as a landline home phone. Most platforms depict a red, push-button phone with thehandseton the base.Used for various content concerning literal and figurative phone-calling. Also used as an icon before a phone number.Google and Samsung\\xe2\\x80\\x99s designs feature rotary dials.See the glossary for the termblackin Unicode character names.'\n",
            "The REAL CATEGORY is : Objects versus the PREDICTED CATEGORY : Objects\n",
            "\n",
            "The sentence is : b'A chocolate-glazed donut (or doughnut) withrainbowsprinkles. WhatsApp features a pink glaze associated withThe Simpsons. May resemble theBagelat small sizes.'\n",
            "The REAL CATEGORY is : Food & Drink versus the PREDICTED CATEGORY : Food & Drink\n",
            "\n",
            "The sentence is : b'The male version of the\\xf0\\x9f\\x8f\\x83Runneremoji.Currently identical in appearance to the non-gendered base emoji.The Man Running emoji is aZWJ sequencecombining\\xf0\\x9f\\x8f\\x83Person Running,\\xe2\\x80\\x8dZero Width Joinerand\\xe2\\x99\\x82Male Sign.\\nThese display as a single emoji on supported platforms.'\n",
            "The REAL CATEGORY is : Person-activity versus the PREDICTED CATEGORY : Person-activity\n",
            "\n",
            "The sentence is : b'Lacrosse'\n",
            "The REAL CATEGORY is : Activities versus the PREDICTED CATEGORY : Activities\n",
            "\n",
            "The sentence is : b'A new moon with a smiling face, as theMan in the Moon. Generally depicts the moon as a dark disc with a slightly smiling human face and nose.See also\\xf0\\x9f\\x8c\\x91New Moon.May be used to represent the moon more generally. Popularly perceived ascreepy, used tothrow shade(express disapproval), or convey various suggestive or ironic sentiments.Apple and WhatsApp\\xe2\\x80\\x99s eyes are looking left, as if giving theside-eye. Samsung and Facebook\\xe2\\x80\\x99s faces are looking straight ahead. Google\\xe2\\x80\\x99s facial expression resembles\\xf0\\x9f\\x98\\x8fSmirking Face, Twitter\\xe2\\x80\\x99s\\xf0\\x9f\\x99\\x82Slightly Smiling Face.Google\\xe2\\x80\\x99sface previously evokedLenny Face,Microsoft\\xe2\\x80\\x99seyes appeared closed, andFacebook\\xe2\\x80\\x99sface was a simple smiley.'\n",
            "The REAL CATEGORY is : Travel & Places versus the PREDICTED CATEGORY : Smileys & Emotion\n",
            "\n",
            "The sentence is : b'Yo-Yowas approved as part ofUnicode 12.0in 2019\\nand added toEmoji 12.0in 2019.'\n",
            "The REAL CATEGORY is : Activities versus the PREDICTED CATEGORY : Objects\n",
            "\n"
          ],
          "name": "stdout"
        }
      ]
    },
    {
      "cell_type": "markdown",
      "metadata": {
        "id": "eZ90U7rolibk",
        "colab_type": "text"
      },
      "source": [
        "##### I. WITH DATA AUGMENTATION"
      ]
    },
    {
      "cell_type": "code",
      "metadata": {
        "id": "LgzDu8E-uHOK",
        "colab_type": "code",
        "colab": {
          "base_uri": "https://localhost:8080/",
          "height": 323
        },
        "outputId": "537d1807-ba1e-488f-cb3c-5766bb264973"
      },
      "source": [
        "base_model_128D_reg_augm = models.Sequential()\n",
        "base_model_128D_reg_augm.add(embedding_layer_128D)\n",
        "base_model_128D_reg_augm.add(layers.Dropout(rate))\n",
        "base_model_128D_reg_augm.add(layers.Dense(100,kernel_regularizer=l2(factor) ,activation=\"relu\"))\n",
        "base_model_128D_reg_augm.add(layers.Dropout(rate))\n",
        "base_model_128D_reg_augm.add(layers.Dense(12,kernel_regularizer=l2(factor) ,activation=\"softmax\"))\n",
        "base_model_128D_reg_augm.summary()\n",
        "\n",
        "base_model_128D_reg_augm.compile(\n",
        "    optimizer=\"adam\", \n",
        "    loss='sparse_categorical_crossentropy',\n",
        "    metrics=[\"accuracy\"])\n"
      ],
      "execution_count": 164,
      "outputs": [
        {
          "output_type": "stream",
          "text": [
            "Model: \"sequential_5\"\n",
            "_________________________________________________________________\n",
            "Layer (type)                 Output Shape              Param #   \n",
            "=================================================================\n",
            "keras_layer_1 (KerasLayer)   (None, 128)               124642688 \n",
            "_________________________________________________________________\n",
            "dropout_2 (Dropout)          (None, 128)               0         \n",
            "_________________________________________________________________\n",
            "dense_10 (Dense)             (None, 100)               12900     \n",
            "_________________________________________________________________\n",
            "dropout_3 (Dropout)          (None, 100)               0         \n",
            "_________________________________________________________________\n",
            "dense_11 (Dense)             (None, 12)                1212      \n",
            "=================================================================\n",
            "Total params: 124,656,800\n",
            "Trainable params: 124,656,800\n",
            "Non-trainable params: 0\n",
            "_________________________________________________________________\n"
          ],
          "name": "stdout"
        }
      ]
    },
    {
      "cell_type": "code",
      "metadata": {
        "id": "foxqnI7elazJ",
        "colab_type": "code",
        "colab": {
          "base_uri": "https://localhost:8080/",
          "height": 527
        },
        "outputId": "64d359ad-d503-4b90-8c24-2026f1bd6bb3"
      },
      "source": [
        "# Applying Early Stopping\n",
        "base_history_128D_reg_augm = base_model_128D_reg_augm.fit(\n",
        "    train_data_augm.cache().batch(32),\n",
        "    epochs=30,\n",
        "    validation_data=test_data_augm.batch(32),\n",
        "    callbacks=[custom_early_stopping]\n",
        ")"
      ],
      "execution_count": 165,
      "outputs": [
        {
          "output_type": "stream",
          "text": [
            "Epoch 1/30\n",
            "77/77 [==============================] - 105s 1s/step - loss: 1.5616 - accuracy: 0.6570 - val_loss: 0.8381 - val_accuracy: 0.8384\n",
            "Epoch 2/30\n",
            "77/77 [==============================] - 105s 1s/step - loss: 0.5557 - accuracy: 0.9331 - val_loss: 0.5768 - val_accuracy: 0.8859\n",
            "Epoch 3/30\n",
            "77/77 [==============================] - 105s 1s/step - loss: 0.3565 - accuracy: 0.9674 - val_loss: 0.5228 - val_accuracy: 0.8897\n",
            "Epoch 4/30\n",
            "77/77 [==============================] - 105s 1s/step - loss: 0.2890 - accuracy: 0.9784 - val_loss: 0.5022 - val_accuracy: 0.8916\n",
            "Epoch 5/30\n",
            "77/77 [==============================] - 105s 1s/step - loss: 0.2588 - accuracy: 0.9841 - val_loss: 0.4897 - val_accuracy: 0.8897\n",
            "Epoch 6/30\n",
            "77/77 [==============================] - 106s 1s/step - loss: 0.2353 - accuracy: 0.9874 - val_loss: 0.4778 - val_accuracy: 0.8897\n",
            "Epoch 7/30\n",
            "77/77 [==============================] - 105s 1s/step - loss: 0.2137 - accuracy: 0.9894 - val_loss: 0.4710 - val_accuracy: 0.8935\n",
            "Epoch 8/30\n",
            "77/77 [==============================] - 106s 1s/step - loss: 0.1975 - accuracy: 0.9910 - val_loss: 0.4599 - val_accuracy: 0.8954\n",
            "Epoch 9/30\n",
            "77/77 [==============================] - 105s 1s/step - loss: 0.1888 - accuracy: 0.9918 - val_loss: 0.4524 - val_accuracy: 0.8954\n",
            "Epoch 10/30\n",
            "77/77 [==============================] - 105s 1s/step - loss: 0.1744 - accuracy: 0.9943 - val_loss: 0.4472 - val_accuracy: 0.9011\n",
            "Epoch 11/30\n",
            "77/77 [==============================] - 104s 1s/step - loss: 0.1647 - accuracy: 0.9943 - val_loss: 0.4410 - val_accuracy: 0.8897\n",
            "Epoch 12/30\n",
            "77/77 [==============================] - 105s 1s/step - loss: 0.1559 - accuracy: 0.9959 - val_loss: 0.4342 - val_accuracy: 0.8897\n",
            "Epoch 13/30\n",
            "77/77 [==============================] - 104s 1s/step - loss: 0.1482 - accuracy: 0.9959 - val_loss: 0.4295 - val_accuracy: 0.8916\n",
            "Epoch 14/30\n",
            "77/77 [==============================] - 104s 1s/step - loss: 0.1439 - accuracy: 0.9955 - val_loss: 0.4266 - val_accuracy: 0.8916\n",
            "Epoch 15/30\n",
            "77/77 [==============================] - 104s 1s/step - loss: 0.1384 - accuracy: 0.9963 - val_loss: 0.4219 - val_accuracy: 0.8916\n"
          ],
          "name": "stdout"
        }
      ]
    },
    {
      "cell_type": "code",
      "metadata": {
        "id": "m9okAAEmlbIM",
        "colab_type": "code",
        "colab": {
          "base_uri": "https://localhost:8080/",
          "height": 513
        },
        "outputId": "0e008f67-e5ab-483f-c295-90f0b298ae87"
      },
      "source": [
        "plot_history(base_history_128D_reg_augm)"
      ],
      "execution_count": 166,
      "outputs": [
        {
          "output_type": "display_data",
          "data": {
            "image/png": "[encoded data removed]",
            "text/plain": [
              "<Figure size 432x288 with 1 Axes>"
            ]
          },
          "metadata": {
            "tags": [],
            "needs_background": "light"
          }
        },
        {
          "output_type": "display_data",
          "data": {
            "image/png": "[encoded data removed]",
            "text/plain": [
              "<Figure size 432x288 with 1 Axes>"
            ]
          },
          "metadata": {
            "tags": [],
            "needs_background": "light"
          }
        }
      ]
    },
    {
      "cell_type": "code",
      "metadata": {
        "id": "RoWSq_-Zla_h",
        "colab_type": "code",
        "colab": {
          "base_uri": "https://localhost:8080/",
          "height": 606
        },
        "outputId": "901745c5-936f-4d91-89b8-249cedb1f3f9"
      },
      "source": [
        "multiclass_confusion_mat(test_conf_augm, test_labels_conf_augm, base_model_128D_reg_augm)"
      ],
      "execution_count": 167,
      "outputs": [
        {
          "output_type": "display_data",
          "data": {
            "image/png": "[encoded data removed]",
            "text/plain": [
              "<Figure size 720x720 with 2 Axes>"
            ]
          },
          "metadata": {
            "tags": [],
            "needs_background": "light"
          }
        }
      ]
    },
    {
      "cell_type": "code",
      "metadata": {
        "id": "RplPaUFElakH",
        "colab_type": "code",
        "colab": {
          "base_uri": "https://localhost:8080/",
          "height": 547
        },
        "outputId": "5715e9df-5edf-48f4-d616-e9f523139b59"
      },
      "source": [
        "predict4_tfdataset(test_batch, test_labels_batch, base_model_128D_reg)"
      ],
      "execution_count": 168,
      "outputs": [
        {
          "output_type": "stream",
          "text": [
            "The sentence is : b'Two hands clapping emoji, which when used multiple times can be usedas a round of applause.'\n",
            "The REAL CATEGORY is : Body_parts versus the PREDICTED CATEGORY : Body_parts\n",
            "\n",
            "The sentence is : b'Thewordfree, shown enclosedin a square.'\n",
            "The REAL CATEGORY is : Symbols versus the PREDICTED CATEGORY : Symbols\n",
            "\n",
            "The sentence is : b'The Keycap Digit Nine emoji is akeycap sequencecombining9Digit Nineand\\xe2\\x83\\xa3Combining Enclosing Keycap.\\nThese display as a single emoji on supported platforms.'\n",
            "The REAL CATEGORY is : Symbols versus the PREDICTED CATEGORY : Symbols\n",
            "\n",
            "The sentence is : b'Creatures with pointed ears and human-like faces.Femaleandmaleelves are available.Elfwas approved as part ofUnicode 10.0in 2017\\nand added toEmoji 5.0in 2017.'\n",
            "The REAL CATEGORY is : Person-activity versus the PREDICTED CATEGORY : Person-activity\n",
            "\n",
            "The sentence is : b'A classic telephone, as a landline home phone. Most platforms depict a red, push-button phone with thehandseton the base.Used for various content concerning literal and figurative phone-calling. Also used as an icon before a phone number.Google and Samsung\\xe2\\x80\\x99s designs feature rotary dials.See the glossary for the termblackin Unicode character names.'\n",
            "The REAL CATEGORY is : Objects versus the PREDICTED CATEGORY : Objects\n",
            "\n",
            "The sentence is : b'A chocolate-glazed donut (or doughnut) withrainbowsprinkles. WhatsApp features a pink glaze associated withThe Simpsons. May resemble theBagelat small sizes.'\n",
            "The REAL CATEGORY is : Food & Drink versus the PREDICTED CATEGORY : Objects\n",
            "\n",
            "The sentence is : b'The male version of the\\xf0\\x9f\\x8f\\x83Runneremoji.Currently identical in appearance to the non-gendered base emoji.The Man Running emoji is aZWJ sequencecombining\\xf0\\x9f\\x8f\\x83Person Running,\\xe2\\x80\\x8dZero Width Joinerand\\xe2\\x99\\x82Male Sign.\\nThese display as a single emoji on supported platforms.'\n",
            "The REAL CATEGORY is : Person-activity versus the PREDICTED CATEGORY : Person-activity\n",
            "\n",
            "The sentence is : b'Lacrosse'\n",
            "The REAL CATEGORY is : Activities versus the PREDICTED CATEGORY : Activities\n",
            "\n",
            "The sentence is : b'A new moon with a smiling face, as theMan in the Moon. Generally depicts the moon as a dark disc with a slightly smiling human face and nose.See also\\xf0\\x9f\\x8c\\x91New Moon.May be used to represent the moon more generally. Popularly perceived ascreepy, used tothrow shade(express disapproval), or convey various suggestive or ironic sentiments.Apple and WhatsApp\\xe2\\x80\\x99s eyes are looking left, as if giving theside-eye. Samsung and Facebook\\xe2\\x80\\x99s faces are looking straight ahead. Google\\xe2\\x80\\x99s facial expression resembles\\xf0\\x9f\\x98\\x8fSmirking Face, Twitter\\xe2\\x80\\x99s\\xf0\\x9f\\x99\\x82Slightly Smiling Face.Google\\xe2\\x80\\x99sface previously evokedLenny Face,Microsoft\\xe2\\x80\\x99seyes appeared closed, andFacebook\\xe2\\x80\\x99sface was a simple smiley.'\n",
            "The REAL CATEGORY is : Travel & Places versus the PREDICTED CATEGORY : Smileys & Emotion\n",
            "\n",
            "The sentence is : b'Yo-Yowas approved as part ofUnicode 12.0in 2019\\nand added toEmoji 12.0in 2019.'\n",
            "The REAL CATEGORY is : Activities versus the PREDICTED CATEGORY : Objects\n",
            "\n"
          ],
          "name": "stdout"
        }
      ]
    },
    {
      "cell_type": "markdown",
      "metadata": {
        "id": "QXX7UTjdlZu6",
        "colab_type": "text"
      },
      "source": [
        ""
      ]
    },
    {
      "cell_type": "markdown",
      "metadata": {
        "id": "eIeuLztGbJ3n",
        "colab_type": "text"
      },
      "source": [
        "#### II. Trying with less units in the Dense Layer as still overfitting"
      ]
    },
    {
      "cell_type": "code",
      "metadata": {
        "id": "RvcC2EqX55-8",
        "colab_type": "code",
        "colab": {
          "base_uri": "https://localhost:8080/",
          "height": 867
        },
        "outputId": "37467748-2d5d-4ba2-94c3-c463730a910d"
      },
      "source": [
        "base_model_128D_reg_less = models.Sequential()\n",
        "base_model_128D_reg_less.add(embedding_layer_128D)\n",
        "base_model_128D_reg_less.add(layers.Dropout(rate))\n",
        "# REDUCING THE AMOUNT OF UNITS IN HIDDEN LAYER\n",
        "base_model_128D_reg_less.add(layers.Dense(40,kernel_regularizer=l2(factor) ,activation=\"relu\"))\n",
        "base_model_128D_reg_less.add(layers.Dropout(rate))\n",
        "base_model_128D_reg_less.add(layers.Dense(12,kernel_regularizer=l2(factor) ,activation=\"softmax\"))\n",
        "base_model_128D_reg_less.summary()\n",
        "\n",
        "base_model_128D_reg_less.compile(\n",
        "    optimizer=\"adam\", \n",
        "    loss='sparse_categorical_crossentropy',\n",
        "    metrics=[\"accuracy\"])\n",
        "\n",
        "# Applying Early Stopping\n",
        "base_history_128D_reg_less = base_model_128D_reg_less.fit(\n",
        "    train_data.cache().batch(32),\n",
        "    epochs=30,\n",
        "    validation_data=test_data.batch(32),\n",
        "    callbacks=[custom_early_stopping]\n",
        ")"
      ],
      "execution_count": 169,
      "outputs": [
        {
          "output_type": "stream",
          "text": [
            "Model: \"sequential_6\"\n",
            "_________________________________________________________________\n",
            "Layer (type)                 Output Shape              Param #   \n",
            "=================================================================\n",
            "keras_layer_1 (KerasLayer)   (None, 128)               124642688 \n",
            "_________________________________________________________________\n",
            "dropout_4 (Dropout)          (None, 128)               0         \n",
            "_________________________________________________________________\n",
            "dense_12 (Dense)             (None, 40)                5160      \n",
            "_________________________________________________________________\n",
            "dropout_5 (Dropout)          (None, 40)                0         \n",
            "_________________________________________________________________\n",
            "dense_13 (Dense)             (None, 12)                492       \n",
            "=================================================================\n",
            "Total params: 124,648,340\n",
            "Trainable params: 124,648,340\n",
            "Non-trainable params: 0\n",
            "_________________________________________________________________\n",
            "Epoch 1/30\n",
            "44/44 [==============================] - 59s 1s/step - loss: 1.9992 - accuracy: 0.3826 - val_loss: 1.5000 - val_accuracy: 0.6439\n",
            "Epoch 2/30\n",
            "44/44 [==============================] - 59s 1s/step - loss: 1.0573 - accuracy: 0.7830 - val_loss: 1.0476 - val_accuracy: 0.7806\n",
            "Epoch 3/30\n",
            "44/44 [==============================] - 59s 1s/step - loss: 0.5970 - accuracy: 0.9236 - val_loss: 0.8376 - val_accuracy: 0.8177\n",
            "Epoch 4/30\n",
            "44/44 [==============================] - 59s 1s/step - loss: 0.3734 - accuracy: 0.9743 - val_loss: 0.7395 - val_accuracy: 0.8205\n",
            "Epoch 5/30\n",
            "44/44 [==============================] - 60s 1s/step - loss: 0.2938 - accuracy: 0.9850 - val_loss: 0.6872 - val_accuracy: 0.8291\n",
            "Epoch 6/30\n",
            "44/44 [==============================] - 59s 1s/step - loss: 0.2304 - accuracy: 0.9872 - val_loss: 0.6567 - val_accuracy: 0.8291\n",
            "Epoch 7/30\n",
            "44/44 [==============================] - 60s 1s/step - loss: 0.2104 - accuracy: 0.9900 - val_loss: 0.6398 - val_accuracy: 0.8319\n",
            "Epoch 8/30\n",
            "44/44 [==============================] - 61s 1s/step - loss: 0.1838 - accuracy: 0.9929 - val_loss: 0.6285 - val_accuracy: 0.8348\n",
            "Epoch 9/30\n",
            "44/44 [==============================] - 59s 1s/step - loss: 0.1839 - accuracy: 0.9936 - val_loss: 0.6219 - val_accuracy: 0.8405\n",
            "Epoch 10/30\n",
            "44/44 [==============================] - 61s 1s/step - loss: 0.1663 - accuracy: 0.9964 - val_loss: 0.6164 - val_accuracy: 0.8405\n",
            "Epoch 11/30\n",
            "44/44 [==============================] - 60s 1s/step - loss: 0.1609 - accuracy: 0.9936 - val_loss: 0.6105 - val_accuracy: 0.8433\n",
            "Epoch 12/30\n",
            "44/44 [==============================] - 60s 1s/step - loss: 0.1537 - accuracy: 0.9971 - val_loss: 0.6024 - val_accuracy: 0.8433\n",
            "Epoch 13/30\n",
            "44/44 [==============================] - 60s 1s/step - loss: 0.1556 - accuracy: 0.9929 - val_loss: 0.5966 - val_accuracy: 0.8433\n",
            "Epoch 14/30\n",
            "44/44 [==============================] - 60s 1s/step - loss: 0.1467 - accuracy: 0.9971 - val_loss: 0.6003 - val_accuracy: 0.8433\n",
            "Epoch 15/30\n",
            "44/44 [==============================] - 61s 1s/step - loss: 0.1428 - accuracy: 0.9986 - val_loss: 0.5970 - val_accuracy: 0.8433\n",
            "Epoch 16/30\n",
            "44/44 [==============================] - 59s 1s/step - loss: 0.1324 - accuracy: 0.9993 - val_loss: 0.5898 - val_accuracy: 0.8433\n"
          ],
          "name": "stdout"
        }
      ]
    },
    {
      "cell_type": "code",
      "metadata": {
        "id": "eFWVqOeXTIr2",
        "colab_type": "code",
        "colab": {
          "base_uri": "https://localhost:8080/",
          "height": 513
        },
        "outputId": "6f8a02d9-86f1-46a4-b167-5ca6ce438962"
      },
      "source": [
        "plot_history(base_history_128D_reg_less)"
      ],
      "execution_count": 172,
      "outputs": [
        {
          "output_type": "display_data",
          "data": {
            "image/png": "[encoded data removed]",
            "text/plain": [
              "<Figure size 432x288 with 1 Axes>"
            ]
          },
          "metadata": {
            "tags": [],
            "needs_background": "light"
          }
        },
        {
          "output_type": "display_data",
          "data": {
            "image/png": "[encoded data removed]",
            "text/plain": [
              "<Figure size 432x288 with 1 Axes>"
            ]
          },
          "metadata": {
            "tags": [],
            "needs_background": "light"
          }
        }
      ]
    },
    {
      "cell_type": "code",
      "metadata": {
        "id": "al2kf_BmbiZe",
        "colab_type": "code",
        "colab": {
          "base_uri": "https://localhost:8080/",
          "height": 547
        },
        "outputId": "732782c0-22b9-483c-c159-7f59256c7503"
      },
      "source": [
        "predict4_tfdataset(test_batch, test_labels_batch, base_model_128D_reg_less)"
      ],
      "execution_count": 187,
      "outputs": [
        {
          "output_type": "stream",
          "text": [
            "The sentence is : b'Two hands clapping emoji, which when used multiple times can be usedas a round of applause.'\n",
            "The REAL CATEGORY is : Body_parts versus the PREDICTED CATEGORY : Activities\n",
            "\n",
            "The sentence is : b'Thewordfree, shown enclosedin a square.'\n",
            "The REAL CATEGORY is : Symbols versus the PREDICTED CATEGORY : Symbols\n",
            "\n",
            "The sentence is : b'The Keycap Digit Nine emoji is akeycap sequencecombining9Digit Nineand\\xe2\\x83\\xa3Combining Enclosing Keycap.\\nThese display as a single emoji on supported platforms.'\n",
            "The REAL CATEGORY is : Symbols versus the PREDICTED CATEGORY : Symbols\n",
            "\n",
            "The sentence is : b'Creatures with pointed ears and human-like faces.Femaleandmaleelves are available.Elfwas approved as part ofUnicode 10.0in 2017\\nand added toEmoji 5.0in 2017.'\n",
            "The REAL CATEGORY is : Person-activity versus the PREDICTED CATEGORY : Person-activity\n",
            "\n",
            "The sentence is : b'A classic telephone, as a landline home phone. Most platforms depict a red, push-button phone with thehandseton the base.Used for various content concerning literal and figurative phone-calling. Also used as an icon before a phone number.Google and Samsung\\xe2\\x80\\x99s designs feature rotary dials.See the glossary for the termblackin Unicode character names.'\n",
            "The REAL CATEGORY is : Objects versus the PREDICTED CATEGORY : Objects\n",
            "\n",
            "The sentence is : b'A chocolate-glazed donut (or doughnut) withrainbowsprinkles. WhatsApp features a pink glaze associated withThe Simpsons. May resemble theBagelat small sizes.'\n",
            "The REAL CATEGORY is : Food & Drink versus the PREDICTED CATEGORY : Objects\n",
            "\n",
            "The sentence is : b'The male version of the\\xf0\\x9f\\x8f\\x83Runneremoji.Currently identical in appearance to the non-gendered base emoji.The Man Running emoji is aZWJ sequencecombining\\xf0\\x9f\\x8f\\x83Person Running,\\xe2\\x80\\x8dZero Width Joinerand\\xe2\\x99\\x82Male Sign.\\nThese display as a single emoji on supported platforms.'\n",
            "The REAL CATEGORY is : Person-activity versus the PREDICTED CATEGORY : Person-activity\n",
            "\n",
            "The sentence is : b'Lacrosse'\n",
            "The REAL CATEGORY is : Activities versus the PREDICTED CATEGORY : Activities\n",
            "\n",
            "The sentence is : b'A new moon with a smiling face, as theMan in the Moon. Generally depicts the moon as a dark disc with a slightly smiling human face and nose.See also\\xf0\\x9f\\x8c\\x91New Moon.May be used to represent the moon more generally. Popularly perceived ascreepy, used tothrow shade(express disapproval), or convey various suggestive or ironic sentiments.Apple and WhatsApp\\xe2\\x80\\x99s eyes are looking left, as if giving theside-eye. Samsung and Facebook\\xe2\\x80\\x99s faces are looking straight ahead. Google\\xe2\\x80\\x99s facial expression resembles\\xf0\\x9f\\x98\\x8fSmirking Face, Twitter\\xe2\\x80\\x99s\\xf0\\x9f\\x99\\x82Slightly Smiling Face.Google\\xe2\\x80\\x99sface previously evokedLenny Face,Microsoft\\xe2\\x80\\x99seyes appeared closed, andFacebook\\xe2\\x80\\x99sface was a simple smiley.'\n",
            "The REAL CATEGORY is : Travel & Places versus the PREDICTED CATEGORY : Smileys & Emotion\n",
            "\n",
            "The sentence is : b'Yo-Yowas approved as part ofUnicode 12.0in 2019\\nand added toEmoji 12.0in 2019.'\n",
            "The REAL CATEGORY is : Activities versus the PREDICTED CATEGORY : Objects\n",
            "\n"
          ],
          "name": "stdout"
        }
      ]
    },
    {
      "cell_type": "code",
      "metadata": {
        "id": "f_PeJBXMGeMK",
        "colab_type": "code",
        "colab": {}
      },
      "source": [
        ""
      ],
      "execution_count": null,
      "outputs": []
    }
  ]
}