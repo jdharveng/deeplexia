{
 "cells": [
  {
   "cell_type": "markdown",
   "metadata": {
    "colab_type": "text",
    "id": "yviKF6xM8dDo"
   },
   "source": [
    "# Learning to use TENSORFLOW HUB - application on DSR Project"
   ]
  },
  {
   "cell_type": "code",
   "execution_count": 1,
   "metadata": {
    "colab": {},
    "colab_type": "code",
    "id": "TVWs5ZPjGt-a"
   },
   "outputs": [
    {
     "ename": "ModuleNotFoundError",
     "evalue": "No module named 'tensorflow_datasets'",
     "output_type": "error",
     "traceback": [
      "\u001b[0;31m---------------------------------------------------------------------------\u001b[0m",
      "\u001b[0;31mModuleNotFoundError\u001b[0m                       Traceback (most recent call last)",
      "\u001b[0;32m<ipython-input-1-6325bd60078e>\u001b[0m in \u001b[0;36m<module>\u001b[0;34m\u001b[0m\n\u001b[1;32m      1\u001b[0m \u001b[0;32mimport\u001b[0m \u001b[0mtensorflow\u001b[0m \u001b[0;32mas\u001b[0m \u001b[0mtf\u001b[0m\u001b[0;34m\u001b[0m\u001b[0;34m\u001b[0m\u001b[0m\n\u001b[0;32m----> 2\u001b[0;31m \u001b[0;32mimport\u001b[0m \u001b[0mtensorflow_datasets\u001b[0m \u001b[0;32mas\u001b[0m \u001b[0mtfds\u001b[0m\u001b[0;34m\u001b[0m\u001b[0;34m\u001b[0m\u001b[0m\n\u001b[0m\u001b[1;32m      3\u001b[0m \u001b[0;32mimport\u001b[0m \u001b[0mnumpy\u001b[0m \u001b[0;32mas\u001b[0m \u001b[0mnp\u001b[0m\u001b[0;34m\u001b[0m\u001b[0;34m\u001b[0m\u001b[0m\n\u001b[1;32m      4\u001b[0m \u001b[0;32mimport\u001b[0m \u001b[0mpandas\u001b[0m \u001b[0;32mas\u001b[0m \u001b[0mpd\u001b[0m\u001b[0;34m\u001b[0m\u001b[0;34m\u001b[0m\u001b[0m\n\u001b[1;32m      5\u001b[0m \u001b[0;32mimport\u001b[0m \u001b[0mmatplotlib\u001b[0m\u001b[0;34m.\u001b[0m\u001b[0mpyplot\u001b[0m \u001b[0;32mas\u001b[0m \u001b[0mplt\u001b[0m\u001b[0;34m\u001b[0m\u001b[0;34m\u001b[0m\u001b[0m\n",
      "\u001b[0;31mModuleNotFoundError\u001b[0m: No module named 'tensorflow_datasets'"
     ]
    }
   ],
   "source": [
    "import tensorflow as tf\n",
    "import tensorflow_datasets as tfds\n",
    "import numpy as np\n",
    "import pandas as pd\n",
    "import matplotlib.pyplot as plt\n",
    "from tensorflow.keras import models, layers\n",
    "import seaborn as sb\n",
    "from tensorflow.keras.layers import Dropout\n",
    "from tensorflow.keras.regularizers import l2\n",
    "from IPython.display import clear_output\n",
    "import math"
   ]
  },
  {
   "cell_type": "markdown",
   "metadata": {
    "colab_type": "text",
    "id": "PrvH63gd_V6X"
   },
   "source": [
    "## 1A. Downloading the Dataset with groups"
   ]
  },
  {
   "cell_type": "code",
   "execution_count": 2,
   "metadata": {
    "colab": {},
    "colab_type": "code",
    "id": "eKNf6_cw-jVc"
   },
   "outputs": [],
   "source": [
    "## Import Emoji description dataset\n",
    "improved_clusters_df = pd.read_csv('file_name.csv')"
   ]
  },
  {
   "cell_type": "code",
   "execution_count": 3,
   "metadata": {
    "colab": {
     "base_uri": "https://localhost:8080/",
     "height": 142
    },
    "colab_type": "code",
    "id": "1WBlzS89y5xP",
    "outputId": "9bc9fe53-2b22-4cc4-8a73-3824956de17e"
   },
   "outputs": [
    {
     "data": {
      "text/html": [
       "<div>\n",
       "<style scoped>\n",
       "    .dataframe tbody tr th:only-of-type {\n",
       "        vertical-align: middle;\n",
       "    }\n",
       "\n",
       "    .dataframe tbody tr th {\n",
       "        vertical-align: top;\n",
       "    }\n",
       "\n",
       "    .dataframe thead th {\n",
       "        text-align: right;\n",
       "    }\n",
       "</style>\n",
       "<table border=\"1\" class=\"dataframe\">\n",
       "  <thead>\n",
       "    <tr style=\"text-align: right;\">\n",
       "      <th></th>\n",
       "      <th>Unnamed: 0</th>\n",
       "      <th>Unnamed: 0.1</th>\n",
       "      <th>emoji_symbol</th>\n",
       "      <th>emoji_name</th>\n",
       "      <th>emoji_code</th>\n",
       "      <th>emoji_description</th>\n",
       "      <th>label_name</th>\n",
       "      <th>label_num</th>\n",
       "    </tr>\n",
       "  </thead>\n",
       "  <tbody>\n",
       "    <tr>\n",
       "      <th>189</th>\n",
       "      <td>189</td>\n",
       "      <td>189</td>\n",
       "      <td>🙎</td>\n",
       "      <td>Person Pouting</td>\n",
       "      <td>U+1F64E</td>\n",
       "      <td>A person with a serious expression,showing mil...</td>\n",
       "      <td>Person-activity</td>\n",
       "      <td>6</td>\n",
       "    </tr>\n",
       "    <tr>\n",
       "      <th>1052</th>\n",
       "      <td>1052</td>\n",
       "      <td>1052</td>\n",
       "      <td>💻</td>\n",
       "      <td>Laptop</td>\n",
       "      <td>U+1F4BB</td>\n",
       "      <td>A laptop personal computer. Depicted as a blac...</td>\n",
       "      <td>Objects</td>\n",
       "      <td>5</td>\n",
       "    </tr>\n",
       "    <tr>\n",
       "      <th>954</th>\n",
       "      <td>954</td>\n",
       "      <td>954</td>\n",
       "      <td>⚓</td>\n",
       "      <td>Anchor</td>\n",
       "      <td>U+2693</td>\n",
       "      <td>A metal device, dropped out of a boat to preve...</td>\n",
       "      <td>Travel &amp; Places</td>\n",
       "      <td>10</td>\n",
       "    </tr>\n",
       "  </tbody>\n",
       "</table>\n",
       "</div>"
      ],
      "text/plain": [
       "      Unnamed: 0  Unnamed: 0.1 emoji_symbol      emoji_name emoji_code  \\\n",
       "189          189           189            🙎  Person Pouting    U+1F64E   \n",
       "1052        1052          1052            💻          Laptop    U+1F4BB   \n",
       "954          954           954            ⚓          Anchor     U+2693   \n",
       "\n",
       "                                      emoji_description       label_name  \\\n",
       "189   A person with a serious expression,showing mil...  Person-activity   \n",
       "1052  A laptop personal computer. Depicted as a blac...          Objects   \n",
       "954   A metal device, dropped out of a boat to preve...  Travel & Places   \n",
       "\n",
       "      label_num  \n",
       "189           6  \n",
       "1052          5  \n",
       "954          10  "
      ]
     },
     "execution_count": 3,
     "metadata": {},
     "output_type": "execute_result"
    }
   ],
   "source": [
    "improved_clusters_df.sample(3, random_state=123)"
   ]
  },
  {
   "cell_type": "markdown",
   "metadata": {
    "colab_type": "text",
    "id": "Tzk_5lSOq6_D"
   },
   "source": [
    "#### Class distribution"
   ]
  },
  {
   "cell_type": "code",
   "execution_count": 4,
   "metadata": {
    "colab": {},
    "colab_type": "code",
    "id": "FWueR9k5EaMS"
   },
   "outputs": [],
   "source": [
    "base_color = sb.color_palette()[0]"
   ]
  },
  {
   "cell_type": "code",
   "execution_count": 5,
   "metadata": {
    "colab": {
     "base_uri": "https://localhost:8080/",
     "height": 414
    },
    "colab_type": "code",
    "id": "S5bbzbCnD2M3",
    "outputId": "d673e5a4-82d0-4b56-b156-44b090644a36"
   },
   "outputs": [
    {
     "data": {
      "image/png": "[encoded data removed]",
      "text/plain": [
       "<Figure size 720x360 with 1 Axes>"
      ]
     },
     "metadata": {
      "needs_background": "light"
     },
     "output_type": "display_data"
    }
   ],
   "source": [
    "plt.figure(figsize = [10,5])\n",
    "sb.countplot(data=improved_clusters_df,x='label_name',order=improved_clusters_df.label_name.value_counts().index,\n",
    "            color=base_color)\n",
    "plt.xticks(rotation=45)\n",
    "plt.title('Cluster distribution in emojipedia regrouped');"
   ]
  },
  {
   "cell_type": "markdown",
   "metadata": {
    "colab_type": "text",
    "id": "XRHGtLWQrTe1"
   },
   "source": [
    "#### Dictionnary label_num to label_name"
   ]
  },
  {
   "cell_type": "code",
   "execution_count": 6,
   "metadata": {
    "colab": {},
    "colab_type": "code",
    "id": "NJkwE9qRevQB"
   },
   "outputs": [],
   "source": [
    "# Building a dictionnary label_num to label_name\n",
    "num_2_name = improved_clusters_df[['label_num', 'label_name']].copy()"
   ]
  },
  {
   "cell_type": "code",
   "execution_count": 7,
   "metadata": {
    "colab": {},
    "colab_type": "code",
    "id": "8X_qUKtDevUg"
   },
   "outputs": [],
   "source": [
    "num2name = num_2_name.groupby(by='label_name').first()"
   ]
  },
  {
   "cell_type": "code",
   "execution_count": 8,
   "metadata": {
    "colab": {
     "base_uri": "https://localhost:8080/",
     "height": 452
    },
    "colab_type": "code",
    "id": "Yg3K47qFsy1g",
    "outputId": "3178b5f4-0409-4ceb-8936-b9230b202717"
   },
   "outputs": [
    {
     "data": {
      "text/html": [
       "<div>\n",
       "<style scoped>\n",
       "    .dataframe tbody tr th:only-of-type {\n",
       "        vertical-align: middle;\n",
       "    }\n",
       "\n",
       "    .dataframe tbody tr th {\n",
       "        vertical-align: top;\n",
       "    }\n",
       "\n",
       "    .dataframe thead th {\n",
       "        text-align: right;\n",
       "    }\n",
       "</style>\n",
       "<table border=\"1\" class=\"dataframe\">\n",
       "  <thead>\n",
       "    <tr style=\"text-align: right;\">\n",
       "      <th></th>\n",
       "      <th>label_num</th>\n",
       "    </tr>\n",
       "    <tr>\n",
       "      <th>label_name</th>\n",
       "      <th></th>\n",
       "    </tr>\n",
       "  </thead>\n",
       "  <tbody>\n",
       "    <tr>\n",
       "      <th>Activities</th>\n",
       "      <td>0</td>\n",
       "    </tr>\n",
       "    <tr>\n",
       "      <th>Animals &amp; Nature</th>\n",
       "      <td>1</td>\n",
       "    </tr>\n",
       "    <tr>\n",
       "      <th>Body_parts</th>\n",
       "      <td>2</td>\n",
       "    </tr>\n",
       "    <tr>\n",
       "      <th>Flags</th>\n",
       "      <td>3</td>\n",
       "    </tr>\n",
       "    <tr>\n",
       "      <th>Food &amp; Drink</th>\n",
       "      <td>4</td>\n",
       "    </tr>\n",
       "    <tr>\n",
       "      <th>Objects</th>\n",
       "      <td>5</td>\n",
       "    </tr>\n",
       "    <tr>\n",
       "      <th>Person-activity</th>\n",
       "      <td>6</td>\n",
       "    </tr>\n",
       "    <tr>\n",
       "      <th>Person_or_family</th>\n",
       "      <td>7</td>\n",
       "    </tr>\n",
       "    <tr>\n",
       "      <th>Smileys &amp; Emotion</th>\n",
       "      <td>8</td>\n",
       "    </tr>\n",
       "    <tr>\n",
       "      <th>Symbols</th>\n",
       "      <td>9</td>\n",
       "    </tr>\n",
       "    <tr>\n",
       "      <th>Travel &amp; Places</th>\n",
       "      <td>10</td>\n",
       "    </tr>\n",
       "    <tr>\n",
       "      <th>person-role</th>\n",
       "      <td>11</td>\n",
       "    </tr>\n",
       "  </tbody>\n",
       "</table>\n",
       "</div>"
      ],
      "text/plain": [
       "                   label_num\n",
       "label_name                  \n",
       "Activities                 0\n",
       "Animals & Nature           1\n",
       "Body_parts                 2\n",
       "Flags                      3\n",
       "Food & Drink               4\n",
       "Objects                    5\n",
       "Person-activity            6\n",
       "Person_or_family           7\n",
       "Smileys & Emotion          8\n",
       "Symbols                    9\n",
       "Travel & Places           10\n",
       "person-role               11"
      ]
     },
     "execution_count": 8,
     "metadata": {},
     "output_type": "execute_result"
    }
   ],
   "source": [
    "num2name"
   ]
  },
  {
   "cell_type": "code",
   "execution_count": 9,
   "metadata": {
    "colab": {},
    "colab_type": "code",
    "id": "mLZnsUAggZal"
   },
   "outputs": [],
   "source": [
    "num_2_name_lookup = dict(zip(list(num2name.label_num),list(num2name.index)))"
   ]
  },
  {
   "cell_type": "code",
   "execution_count": 10,
   "metadata": {
    "colab": {},
    "colab_type": "code",
    "id": "eVeEJj4JtcJe"
   },
   "outputs": [],
   "source": [
    "df = improved_clusters_df[[\"emoji_description\", \"label_num\"]].copy()"
   ]
  },
  {
   "cell_type": "code",
   "execution_count": 11,
   "metadata": {
    "colab": {
     "base_uri": "https://localhost:8080/",
     "height": 142
    },
    "colab_type": "code",
    "id": "tu1d6jkcy7Ja",
    "outputId": "589dff02-68d1-478a-9286-386a569f2764"
   },
   "outputs": [
    {
     "data": {
      "text/html": [
       "<div>\n",
       "<style scoped>\n",
       "    .dataframe tbody tr th:only-of-type {\n",
       "        vertical-align: middle;\n",
       "    }\n",
       "\n",
       "    .dataframe tbody tr th {\n",
       "        vertical-align: top;\n",
       "    }\n",
       "\n",
       "    .dataframe thead th {\n",
       "        text-align: right;\n",
       "    }\n",
       "</style>\n",
       "<table border=\"1\" class=\"dataframe\">\n",
       "  <thead>\n",
       "    <tr style=\"text-align: right;\">\n",
       "      <th></th>\n",
       "      <th>emoji_description</th>\n",
       "      <th>label_num</th>\n",
       "    </tr>\n",
       "  </thead>\n",
       "  <tbody>\n",
       "    <tr>\n",
       "      <th>189</th>\n",
       "      <td>A person with a serious expression,showing mil...</td>\n",
       "      <td>6</td>\n",
       "    </tr>\n",
       "    <tr>\n",
       "      <th>1052</th>\n",
       "      <td>A laptop personal computer. Depicted as a blac...</td>\n",
       "      <td>5</td>\n",
       "    </tr>\n",
       "    <tr>\n",
       "      <th>954</th>\n",
       "      <td>A metal device, dropped out of a boat to preve...</td>\n",
       "      <td>10</td>\n",
       "    </tr>\n",
       "  </tbody>\n",
       "</table>\n",
       "</div>"
      ],
      "text/plain": [
       "                                      emoji_description  label_num\n",
       "189   A person with a serious expression,showing mil...          6\n",
       "1052  A laptop personal computer. Depicted as a blac...          5\n",
       "954   A metal device, dropped out of a boat to preve...         10"
      ]
     },
     "execution_count": 11,
     "metadata": {},
     "output_type": "execute_result"
    }
   ],
   "source": [
    "df.sample(3, random_state=123)"
   ]
  },
  {
   "cell_type": "code",
   "execution_count": 12,
   "metadata": {
    "colab": {},
    "colab_type": "code",
    "id": "Nt5wo2so3rj6"
   },
   "outputs": [],
   "source": [
    "# Taking a copy of the dataframe\n",
    "dataframe = improved_clusters_df[[\"emoji_description\", \"label_num\"]].copy()"
   ]
  },
  {
   "cell_type": "code",
   "execution_count": 13,
   "metadata": {
    "colab": {
     "base_uri": "https://localhost:8080/",
     "height": 34
    },
    "colab_type": "code",
    "id": "y1STZAsyXcY-",
    "outputId": "fc7fefe5-a10a-416c-b3fd-903299260be5"
   },
   "outputs": [
    {
     "data": {
      "text/plain": [
       "12"
      ]
     },
     "execution_count": 13,
     "metadata": {},
     "output_type": "execute_result"
    }
   ],
   "source": [
    "dataframe.label_num.nunique()"
   ]
  },
  {
   "cell_type": "markdown",
   "metadata": {
    "colab_type": "text",
    "id": "MINj9KSAcQfr"
   },
   "source": [
    "## 1B. Data Augmentation"
   ]
  },
  {
   "cell_type": "markdown",
   "metadata": {
    "colab_type": "text",
    "id": "2QmZ2CdVYogx"
   },
   "source": [
    "###  Using TextBlob"
   ]
  },
  {
   "cell_type": "code",
   "execution_count": 15,
   "metadata": {
    "colab": {
     "base_uri": "https://localhost:8080/",
     "height": 272
    },
    "colab_type": "code",
    "id": "b_UtNp_OX6rR",
    "outputId": "3a31ff2d-e065-4a67-bb16-7483bacb693f"
   },
   "outputs": [
    {
     "name": "stdout",
     "output_type": "stream",
     "text": [
      "[nltk_data] Downloading package brown to\n",
      "[nltk_data]     /Users/elenastein/nltk_data...\n",
      "[nltk_data]   Package brown is already up-to-date!\n",
      "[nltk_data] Downloading package punkt to\n",
      "[nltk_data]     /Users/elenastein/nltk_data...\n",
      "[nltk_data]   Package punkt is already up-to-date!\n",
      "[nltk_data] Downloading package wordnet to\n",
      "[nltk_data]     /Users/elenastein/nltk_data...\n",
      "[nltk_data]   Package wordnet is already up-to-date!\n",
      "[nltk_data] Downloading package averaged_perceptron_tagger to\n",
      "[nltk_data]     /Users/elenastein/nltk_data...\n",
      "[nltk_data]   Package averaged_perceptron_tagger is already up-to-\n",
      "[nltk_data]       date!\n",
      "[nltk_data] Downloading package conll2000 to\n",
      "[nltk_data]     /Users/elenastein/nltk_data...\n",
      "[nltk_data]   Package conll2000 is already up-to-date!\n",
      "[nltk_data] Downloading package movie_reviews to\n",
      "[nltk_data]     /Users/elenastein/nltk_data...\n",
      "[nltk_data]   Package movie_reviews is already up-to-date!\n",
      "Finished.\n"
     ]
    }
   ],
   "source": [
    "!python -m textblob.download_corpora"
   ]
  },
  {
   "cell_type": "code",
   "execution_count": 16,
   "metadata": {
    "colab": {},
    "colab_type": "code",
    "id": "V0KTc8pbX6oK"
   },
   "outputs": [],
   "source": [
    "from textblob import TextBlob\n",
    "from textblob.translate import NotTranslated"
   ]
  },
  {
   "cell_type": "code",
   "execution_count": 17,
   "metadata": {
    "colab": {},
    "colab_type": "code",
    "id": "DOnAr3fndZlG"
   },
   "outputs": [],
   "source": [
    "def textblob_dataugm(df,name_text_col='features',name_label_col='target'):\n",
    "  # Extracting a list with all the descriptions and one with the related emojis\n",
    "  descr_list = list(df[name_text_col])\n",
    "  label_list = list(df[name_label_col])\n",
    "\n",
    "  corr_desc = []\n",
    "  updated_label = [] # In case a NotTransalted Error would be raisen\n",
    "  for i, descr in enumerate(descr_list):\n",
    "    print(f'Augmenting description job: {math.ceil(((i+1)/len(label_list))*100)}%')\n",
    "    clear_output(wait=True)\n",
    "    blob_descr = TextBlob(descr)\n",
    "    try:\n",
    "        fr_descr = blob_descr.correct().translate(from_lang='en', to ='fr')\n",
    "    except NotTranslated:\n",
    "        print('Error with ', blob_descr)\n",
    "    \n",
    "    try:\n",
    "        en_descr = fr_descr.translate(from_lang='fr', to='en')\n",
    "        updated_label.append(label_list[i]) # Only keeping emoji if no NotTranslatedError\n",
    "        corr_desc.append(str(en_descr).replace(\"Embolism\",\"emoji\").replace(\"embolism\",\"emoji\"))\n",
    "    except NotTranslated:\n",
    "        pass\n",
    "  \n",
    "  assert len(corr_desc) == len(updated_label)\n",
    "    \n",
    "  \n",
    "  # adding old and new lists together\n",
    "  new_desc_list = descr_list + corr_desc\n",
    "  new_label_list = label_list + updated_label\n",
    "\n",
    "  help_dict = {\"features\": new_desc_list, \"target\": new_label_list}\n",
    "  new_df = pd.DataFrame(help_dict)\n",
    "\n",
    "  return new_df"
   ]
  },
  {
   "cell_type": "markdown",
   "metadata": {
    "colab_type": "text",
    "id": "ksZvd7Pn4ahg"
   },
   "source": [
    "## 2. Dataset prepa"
   ]
  },
  {
   "cell_type": "markdown",
   "metadata": {
    "colab_type": "text",
    "id": "gIP0uo2U3OpK"
   },
   "source": [
    "#### Creating a train and test dataset from a Pandas DataFrame\n",
    "\n",
    "source : https://www.tensorflow.org/tutorials/structured_data/feature_columns\n",
    "\n",
    " >  Next, we will wrap the dataframes with tf.data. This will enable us to use feature columns as a bridge to map from the columns in the Pandas dataframe to features used to train the model. If we were working with a very large CSV file (so large that it does not fit into memory), we would use tf.data to read it from disk directly."
   ]
  },
  {
   "cell_type": "code",
   "execution_count": 18,
   "metadata": {
    "colab": {
     "base_uri": "https://localhost:8080/",
     "height": 142
    },
    "colab_type": "code",
    "id": "sj541B8D162B",
    "outputId": "5f0cada7-611b-457d-c7d4-3d1925f5d7bc"
   },
   "outputs": [
    {
     "data": {
      "text/html": [
       "<div>\n",
       "<style scoped>\n",
       "    .dataframe tbody tr th:only-of-type {\n",
       "        vertical-align: middle;\n",
       "    }\n",
       "\n",
       "    .dataframe tbody tr th {\n",
       "        vertical-align: top;\n",
       "    }\n",
       "\n",
       "    .dataframe thead th {\n",
       "        text-align: right;\n",
       "    }\n",
       "</style>\n",
       "<table border=\"1\" class=\"dataframe\">\n",
       "  <thead>\n",
       "    <tr style=\"text-align: right;\">\n",
       "      <th></th>\n",
       "      <th>emoji_description</th>\n",
       "      <th>label_num</th>\n",
       "    </tr>\n",
       "  </thead>\n",
       "  <tbody>\n",
       "    <tr>\n",
       "      <th>534</th>\n",
       "      <td>A sauropod, amassive, plant-eating dinosaur wi...</td>\n",
       "      <td>1</td>\n",
       "    </tr>\n",
       "    <tr>\n",
       "      <th>1713</th>\n",
       "      <td>The flag forTogo, which may show as the letter...</td>\n",
       "      <td>3</td>\n",
       "    </tr>\n",
       "    <tr>\n",
       "      <th>1547</th>\n",
       "      <td>The flag for Czechia, which may show as the le...</td>\n",
       "      <td>3</td>\n",
       "    </tr>\n",
       "  </tbody>\n",
       "</table>\n",
       "</div>"
      ],
      "text/plain": [
       "                                      emoji_description  label_num\n",
       "534   A sauropod, amassive, plant-eating dinosaur wi...          1\n",
       "1713  The flag forTogo, which may show as the letter...          3\n",
       "1547  The flag for Czechia, which may show as the le...          3"
      ]
     },
     "execution_count": 18,
     "metadata": {},
     "output_type": "execute_result"
    }
   ],
   "source": [
    "dataframe.sample(3)"
   ]
  },
  {
   "cell_type": "code",
   "execution_count": 19,
   "metadata": {
    "colab": {},
    "colab_type": "code",
    "id": "ymEFxAAR6Rmc"
   },
   "outputs": [],
   "source": [
    "# Updating the names of the columns\n",
    "dataframe.columns = ['features','target']"
   ]
  },
  {
   "cell_type": "code",
   "execution_count": 20,
   "metadata": {
    "colab": {
     "base_uri": "https://localhost:8080/",
     "height": 80
    },
    "colab_type": "code",
    "id": "SDXc7PDv6ctb",
    "outputId": "ef0e628c-4cc6-4566-8d1a-f29021d37a3b"
   },
   "outputs": [
    {
     "data": {
      "text/html": [
       "<div>\n",
       "<style scoped>\n",
       "    .dataframe tbody tr th:only-of-type {\n",
       "        vertical-align: middle;\n",
       "    }\n",
       "\n",
       "    .dataframe tbody tr th {\n",
       "        vertical-align: top;\n",
       "    }\n",
       "\n",
       "    .dataframe thead th {\n",
       "        text-align: right;\n",
       "    }\n",
       "</style>\n",
       "<table border=\"1\" class=\"dataframe\">\n",
       "  <thead>\n",
       "    <tr style=\"text-align: right;\">\n",
       "      <th></th>\n",
       "      <th>features</th>\n",
       "      <th>target</th>\n",
       "    </tr>\n",
       "  </thead>\n",
       "  <tbody>\n",
       "    <tr>\n",
       "      <th>0</th>\n",
       "      <td>A yellow face with simple, open eyes and a bro...</td>\n",
       "      <td>8</td>\n",
       "    </tr>\n",
       "  </tbody>\n",
       "</table>\n",
       "</div>"
      ],
      "text/plain": [
       "                                            features  target\n",
       "0  A yellow face with simple, open eyes and a bro...       8"
      ]
     },
     "execution_count": 20,
     "metadata": {},
     "output_type": "execute_result"
    }
   ],
   "source": [
    "dataframe.head(1)"
   ]
  },
  {
   "cell_type": "markdown",
   "metadata": {
    "colab_type": "text",
    "id": "AQndQTGIZntn"
   },
   "source": [
    "#### Dividing in Train and Test Set\n",
    "\n",
    "\n",
    "\n",
    "\n",
    "\n",
    "\n"
   ]
  },
  {
   "cell_type": "code",
   "execution_count": 21,
   "metadata": {
    "colab": {
     "base_uri": "https://localhost:8080/",
     "height": 51
    },
    "colab_type": "code",
    "id": "sKnhZAXD17Fe",
    "outputId": "f029ab72-ed78-40eb-b08c-1a91ed24ceff"
   },
   "outputs": [
    {
     "name": "stdout",
     "output_type": "stream",
     "text": [
      "1401 train examples\n",
      "351 test examples\n"
     ]
    }
   ],
   "source": [
    "# Dividing in train and test set WITHOUT DATA AUGMENTATION\n",
    "from sklearn.model_selection import train_test_split\n",
    "train, test = train_test_split(dataframe, test_size=0.2,random_state=123)\n",
    "\n",
    "print(len(train), 'train examples')\n",
    "print(len(test), 'test examples')"
   ]
  },
  {
   "cell_type": "markdown",
   "metadata": {
    "colab_type": "text",
    "id": "obQeMgtN0sT8"
   },
   "source": [
    "#### Divinding in Train and Test Set in case of Data Augmentation\n",
    "\n",
    "> As the data augmentation, will happen on the train set, here we take a test set that's a bit bigger "
   ]
  },
  {
   "cell_type": "code",
   "execution_count": 22,
   "metadata": {
    "colab": {
     "base_uri": "https://localhost:8080/",
     "height": 51
    },
    "colab_type": "code",
    "id": "9iadMkcoBzHT",
    "outputId": "43626d30-0261-47b2-f266-28b6a3021369"
   },
   "outputs": [],
   "source": [
    "# Dividing in train and test set (Not EXECUTING IF LOADING THE DATA)\n",
    "#train_augm, test_30pct = train_test_split(dataframe, test_size=0.3,random_state=123) # Taking this time a bigger Test Set\n",
    "\n",
    "#print(len(train_augm), 'train examples')\n",
    "#print(len(test_30pct), 'test examples')"
   ]
  },
  {
   "cell_type": "code",
   "execution_count": 23,
   "metadata": {
    "colab": {
     "base_uri": "https://localhost:8080/",
     "height": 34
    },
    "colab_type": "code",
    "id": "MjN6Gi2a0qGM",
    "outputId": "3858cf61-70a9-4340-b7bf-b5ef23707301"
   },
   "outputs": [],
   "source": [
    "# DUBBLE THE TRAIN SET BY ADDING TRANSLATION EN-FR-EN\n",
    "#train_augm = textblob_dataugm(train_augm)   # You can run it in case not possible to load the "
   ]
  },
  {
   "cell_type": "code",
   "execution_count": 24,
   "metadata": {
    "colab": {
     "base_uri": "https://localhost:8080/",
     "height": 17
    },
    "colab_type": "code",
    "id": "7nIjF9ht01aL",
    "outputId": "03f608fa-44b2-4c4c-bd71-21b4be8f5cb9"
   },
   "outputs": [],
   "source": [
    "# Downloading the dataframe locally (Only first time to keep the data locally )\n",
    "#from google.colab import files\n",
    "#train_augm.to_csv('train_augm.csv') \n",
    "#test_30pct.to_csv('test_30pct.csv')\n",
    "#files.download('train_augm.csv')\n",
    "#files.download('test_30pct.csv')"
   ]
  },
  {
   "cell_type": "code",
   "execution_count": 25,
   "metadata": {
    "colab": {},
    "colab_type": "code",
    "id": "HxccsSLhuG7U"
   },
   "outputs": [],
   "source": [
    "train_augm = pd.read_csv('train_augm.csv')"
   ]
  },
  {
   "cell_type": "code",
   "execution_count": 26,
   "metadata": {
    "colab": {},
    "colab_type": "code",
    "id": "W0DBbaCOvtQV"
   },
   "outputs": [],
   "source": [
    "test_30pct = pd.read_csv('test_30pct.csv')"
   ]
  },
  {
   "cell_type": "code",
   "execution_count": 27,
   "metadata": {
    "colab": {},
    "colab_type": "code",
    "id": "LlXUsq-2zj0E"
   },
   "outputs": [],
   "source": [
    "# Removing first column\n",
    "train_augm.drop(columns=['Unnamed: 0'],inplace=True)\n",
    "test_30pct.drop(columns=['Unnamed: 0'],inplace=True)"
   ]
  },
  {
   "cell_type": "code",
   "execution_count": 28,
   "metadata": {
    "colab": {
     "base_uri": "https://localhost:8080/",
     "height": 376
    },
    "colab_type": "code",
    "id": "4K6C8lMY1QuA",
    "outputId": "13a82538-358c-4a74-92ae-0f1fda118035"
   },
   "outputs": [
    {
     "name": "stdout",
     "output_type": "stream",
     "text": [
      "(2452, 2)\n"
     ]
    },
    {
     "data": {
      "text/html": [
       "<div>\n",
       "<style scoped>\n",
       "    .dataframe tbody tr th:only-of-type {\n",
       "        vertical-align: middle;\n",
       "    }\n",
       "\n",
       "    .dataframe tbody tr th {\n",
       "        vertical-align: top;\n",
       "    }\n",
       "\n",
       "    .dataframe thead th {\n",
       "        text-align: right;\n",
       "    }\n",
       "</style>\n",
       "<table border=\"1\" class=\"dataframe\">\n",
       "  <thead>\n",
       "    <tr style=\"text-align: right;\">\n",
       "      <th></th>\n",
       "      <th>features</th>\n",
       "      <th>target</th>\n",
       "    </tr>\n",
       "  </thead>\n",
       "  <tbody>\n",
       "    <tr>\n",
       "      <th>638</th>\n",
       "      <td>The Woman Standing emoji is aZWJ sequencecombi...</td>\n",
       "      <td>6</td>\n",
       "    </tr>\n",
       "    <tr>\n",
       "      <th>1195</th>\n",
       "      <td>The Man in Manual Wheelchair emoji is aZWJ seq...</td>\n",
       "      <td>6</td>\n",
       "    </tr>\n",
       "    <tr>\n",
       "      <th>556</th>\n",
       "      <td>TheAries astrological sign in the Zodiac. This...</td>\n",
       "      <td>9</td>\n",
       "    </tr>\n",
       "    <tr>\n",
       "      <th>1998</th>\n",
       "      <td>A ball of yarn, used to knit a scarf. Color va...</td>\n",
       "      <td>0</td>\n",
       "    </tr>\n",
       "    <tr>\n",
       "      <th>1059</th>\n",
       "      <td>Apoodle, a popular dog breed with curly hair, ...</td>\n",
       "      <td>1</td>\n",
       "    </tr>\n",
       "    <tr>\n",
       "      <th>1205</th>\n",
       "      <td>CJK Ideographs are characters used in Chinese,...</td>\n",
       "      <td>9</td>\n",
       "    </tr>\n",
       "    <tr>\n",
       "      <th>45</th>\n",
       "      <td>The flag forMarshall Islands, which may show a...</td>\n",
       "      <td>3</td>\n",
       "    </tr>\n",
       "    <tr>\n",
       "      <th>993</th>\n",
       "      <td>A hunk of unspecified meat on a white bone, as...</td>\n",
       "      <td>4</td>\n",
       "    </tr>\n",
       "    <tr>\n",
       "      <th>1689</th>\n",
       "      <td>Dark cross button</td>\n",
       "      <td>9</td>\n",
       "    </tr>\n",
       "    <tr>\n",
       "      <th>2311</th>\n",
       "      <td>A magnetic compass, used for navigation. Usual...</td>\n",
       "      <td>10</td>\n",
       "    </tr>\n",
       "  </tbody>\n",
       "</table>\n",
       "</div>"
      ],
      "text/plain": [
       "                                               features  target\n",
       "638   The Woman Standing emoji is aZWJ sequencecombi...       6\n",
       "1195  The Man in Manual Wheelchair emoji is aZWJ seq...       6\n",
       "556   TheAries astrological sign in the Zodiac. This...       9\n",
       "1998  A ball of yarn, used to knit a scarf. Color va...       0\n",
       "1059  Apoodle, a popular dog breed with curly hair, ...       1\n",
       "1205  CJK Ideographs are characters used in Chinese,...       9\n",
       "45    The flag forMarshall Islands, which may show a...       3\n",
       "993   A hunk of unspecified meat on a white bone, as...       4\n",
       "1689                                  Dark cross button       9\n",
       "2311  A magnetic compass, used for navigation. Usual...      10"
      ]
     },
     "execution_count": 28,
     "metadata": {},
     "output_type": "execute_result"
    }
   ],
   "source": [
    "print(train_augm.shape)\n",
    "\n",
    "train_augm.sample(10,random_state=123)"
   ]
  },
  {
   "cell_type": "markdown",
   "metadata": {
    "colab_type": "text",
    "id": "pqxUAbnn4yKi"
   },
   "source": [
    "#### Creating an input pipeline using tf.data \n",
    "\n",
    "> Next, we will wrap the dataframes with tf.data. This will enable us to use feature columns as a bridge to map from the columns in the Pandas dataframe to features used to train the model. If we were working with a very large CSV file (so large that it does not fit into memory), we would use tf.data to read it from disk directly. That is not covered in this tutorial."
   ]
  },
  {
   "cell_type": "code",
   "execution_count": 29,
   "metadata": {
    "colab": {},
    "colab_type": "code",
    "id": "9om3boJz4ytc"
   },
   "outputs": [],
   "source": [
    "# A utility method to create a tf.data dataset from a Pandas Dataframe\n",
    "def df_to_dataset(dataframe, shuffle=True, batching = True, batch_size=32):\n",
    "  dataframe = dataframe.copy()\n",
    "  labels = dataframe.pop('target')\n",
    "  ds = tf.data.Dataset.from_tensor_slices((dataframe.squeeze(), labels.squeeze()))\n",
    "  print(dataframe.squeeze().shape,labels.shape) # Here important to Squeez() to get t he same Size as expected\n",
    "  if shuffle:\n",
    "    ds = ds.shuffle(buffer_size=len(dataframe))\n",
    "  \n",
    "  if batching:\n",
    "    ds = ds.batch(batch_size)\n",
    "  return ds"
   ]
  },
  {
   "cell_type": "markdown",
   "metadata": {
    "colab_type": "text",
    "id": "cDP5vvGp1pHM"
   },
   "source": [
    "#### DATASETS ACTUALLY USED IN THE DIFFERENT MODELS HEREUNDER"
   ]
  },
  {
   "cell_type": "code",
   "execution_count": 30,
   "metadata": {
    "colab": {
     "base_uri": "https://localhost:8080/",
     "height": 51
    },
    "colab_type": "code",
    "id": "XqvSRr2BGw3Y",
    "outputId": "6eaee754-1d2c-4062-a484-01995fe6a8de"
   },
   "outputs": [
    {
     "name": "stdout",
     "output_type": "stream",
     "text": [
      "(1401,) (1401,)\n",
      "(351,) (351,)\n"
     ]
    }
   ],
   "source": [
    "# Test without the Batch => THAT WILL BE USED AS INPUT FOR THE DL MODEL (Here WITHOUT DATA AUGMENTATION)\n",
    "train_ds_nbatch = df_to_dataset(train, batching=False)\n",
    "test_ds_nbatch = df_to_dataset(test, batching=False)"
   ]
  },
  {
   "cell_type": "code",
   "execution_count": 31,
   "metadata": {
    "colab": {
     "base_uri": "https://localhost:8080/",
     "height": 51
    },
    "colab_type": "code",
    "id": "YQhSLY6neLan",
    "outputId": "8f3d8a54-6692-4783-8cc0-abcf5e49f367"
   },
   "outputs": [
    {
     "name": "stdout",
     "output_type": "stream",
     "text": [
      "(2452,) (2452,)\n",
      "(526,) (526,)\n"
     ]
    }
   ],
   "source": [
    "# Test without the Batch => THAT WILL BE USED AS INPUT FOR THE DL MODEL (Here WITH DATA AUGMENTATION)\n",
    "train_ds_nbatch_dAug = df_to_dataset(train_augm, batching=False)\n",
    "test_ds_nbatch_dAug = df_to_dataset(test_30pct, batching=False)"
   ]
  },
  {
   "cell_type": "markdown",
   "metadata": {
    "colab_type": "text",
    "id": "oU8ge-LSuGWM"
   },
   "source": [
    "## 3. Tensorflow Hub"
   ]
  },
  {
   "cell_type": "markdown",
   "metadata": {
    "colab_type": "text",
    "id": "m9NxystJ8VzE"
   },
   "source": [
    "source : https://www.tensorflow.org/tutorials/keras/text_classification_with_hub\n",
    "\n",
    "\n",
    "\n"
   ]
  },
  {
   "cell_type": "code",
   "execution_count": 32,
   "metadata": {
    "colab": {
     "base_uri": "https://localhost:8080/",
     "height": 105
    },
    "colab_type": "code",
    "id": "NTxfVoYyHZAm",
    "outputId": "d53318aa-9f48-4531-c3d6-78576051a7ce"
   },
   "outputs": [],
   "source": [
    "import tensorflow_hub as hub\n",
    "\n",
    "# 20 dimension embedding\n",
    "embedding = \"https://tfhub.dev/google/tf2-preview/gnews-swivel-20dim/1\"\n",
    "embedding_layer = hub.KerasLayer(\n",
    "    embedding,\n",
    "    input_shape=[],\n",
    "    dtype=tf.string,\n",
    "    trainable=True\n",
    ")"
   ]
  },
  {
   "cell_type": "code",
   "execution_count": 33,
   "metadata": {
    "colab": {
     "base_uri": "https://localhost:8080/",
     "height": 105
    },
    "colab_type": "code",
    "id": "CkUY2Lil39Iq",
    "outputId": "b55a19ff-dee6-47bb-c074-2abbb9e00660"
   },
   "outputs": [],
   "source": [
    "# 128 dimensions embedding\n",
    "import tensorflow_hub as hub\n",
    "\n",
    "embedding_128D = \"https://tfhub.dev/google/tf2-preview/nnlm-en-dim128/1\"\n",
    "embedding_layer_128D = hub.KerasLayer(\n",
    "    embedding_128D,\n",
    "    input_shape=[],\n",
    "    dtype=tf.string,\n",
    "    trainable=True\n",
    ")"
   ]
  },
  {
   "cell_type": "code",
   "execution_count": 34,
   "metadata": {
    "colab": {},
    "colab_type": "code",
    "id": "vde01PAeMaKt"
   },
   "outputs": [],
   "source": [
    "train_batch, labels_batch = next(iter(train_ds_nbatch.batch(1)))"
   ]
  },
  {
   "cell_type": "code",
   "execution_count": 35,
   "metadata": {
    "colab": {
     "base_uri": "https://localhost:8080/",
     "height": 88
    },
    "colab_type": "code",
    "id": "RPgkyrRFQg3l",
    "outputId": "9b32b8f8-0c5d-4d0d-b7e0-0cd5d06241ad"
   },
   "outputs": [
    {
     "data": {
      "text/plain": [
       "<tf.Tensor: id=381, shape=(1,), dtype=string, numpy=\n",
       "array([b'A symbol forhigh voltage, as warns against injury from electricity. Depicted as a jagged yellow bolt.Commonly used to representlightning, electricity, and various flashes. Also used to represent metaphorical energy and signal attention online.Samsung\\xe2\\x80\\x99s bolt waspreviouslywhite on a blue square, as an icon for high voltage.'],\n",
       "      dtype=object)>"
      ]
     },
     "execution_count": 35,
     "metadata": {},
     "output_type": "execute_result"
    }
   ],
   "source": [
    "train_batch"
   ]
  },
  {
   "cell_type": "code",
   "execution_count": 36,
   "metadata": {
    "colab": {
     "base_uri": "https://localhost:8080/",
     "height": 173
    },
    "colab_type": "code",
    "id": "bCMuFv3y-9uR",
    "outputId": "69029056-1522-4dec-9cb7-1e7f18b77653"
   },
   "outputs": [
    {
     "data": {
      "text/plain": [
       "<tf.Tensor: id=392, shape=(1, 20), dtype=float32, numpy=\n",
       "array([[ 1.923185  ,  0.5042776 ,  0.47267556,  1.4052485 ,  0.56054044,\n",
       "        -0.56401855, -0.01988679,  0.10682295, -0.3530513 , -2.5055523 ,\n",
       "         0.12686963,  2.5504787 , -1.7100486 , -0.398399  ,  0.41210425,\n",
       "         0.07715536,  1.0088035 , -1.4085124 , -0.878927  , -1.1599126 ]],\n",
       "      dtype=float32)>"
      ]
     },
     "execution_count": 36,
     "metadata": {},
     "output_type": "execute_result"
    }
   ],
   "source": [
    "# Example applying the sentence embedding  (20 dimensions)\n",
    "embedding_layer(train_batch)"
   ]
  },
  {
   "cell_type": "code",
   "execution_count": 37,
   "metadata": {
    "colab": {
     "base_uri": "https://localhost:8080/",
     "height": 819
    },
    "colab_type": "code",
    "id": "5KK6v1hn5MqU",
    "outputId": "9963dfac-94ec-426c-ae45-b637d603c745"
   },
   "outputs": [
    {
     "data": {
      "text/plain": [
       "<tf.Tensor: id=402, shape=(1, 128), dtype=float32, numpy=\n",
       "array([[ 0.32882312, -0.1753728 ,  0.15609056, -0.08232294,  0.05578675,\n",
       "        -0.0470325 ,  0.0114923 ,  0.03730855, -0.03000744,  0.10449489,\n",
       "        -0.02264376, -0.1437109 , -0.15261379,  0.12098204,  0.09387542,\n",
       "        -0.00658559, -0.21951504,  0.09509709, -0.02681251,  0.19848046,\n",
       "         0.106074  ,  0.08239695,  0.05809028, -0.14611372, -0.01537213,\n",
       "        -0.17920409, -0.02142115,  0.06677447,  0.04791304,  0.05938786,\n",
       "         0.17675483, -0.07412416, -0.03947022, -0.15352653, -0.04502379,\n",
       "         0.0115072 , -0.01542679, -0.23209232, -0.03930252,  0.08313219,\n",
       "         0.02279996,  0.11712153, -0.1285536 ,  0.05118829,  0.22735894,\n",
       "        -0.05561684, -0.03705078, -0.00804429,  0.08880356, -0.12334981,\n",
       "         0.16295654,  0.08333899, -0.10648666,  0.10936991,  0.00427306,\n",
       "         0.10631455,  0.03471667,  0.07290221,  0.17366663,  0.0641716 ,\n",
       "         0.06262796,  0.02260457, -0.05888784, -0.11274834, -0.1472384 ,\n",
       "        -0.24924348, -0.11691828,  0.06025105,  0.08402906, -0.09661725,\n",
       "         0.0412965 , -0.05844113,  0.06603542, -0.10962529, -0.02577624,\n",
       "         0.09967438, -0.28650445, -0.34851372, -0.10661872,  0.10113403,\n",
       "        -0.00915499,  0.01065322, -0.02591753, -0.11354747,  0.09116548,\n",
       "         0.03775014, -0.05604159,  0.16826731, -0.04843963,  0.13694741,\n",
       "        -0.09853029,  0.04586718,  0.10537378, -0.00423064,  0.0694443 ,\n",
       "        -0.03080514, -0.01448887, -0.09746023, -0.12317988,  0.06728552,\n",
       "        -0.11073887,  0.03419227,  0.11694362,  0.23684372,  0.03186155,\n",
       "         0.23520166, -0.04595041, -0.01939801,  0.01359305, -0.04043121,\n",
       "        -0.04288163,  0.06554684, -0.11437959, -0.11029514, -0.05014386,\n",
       "        -0.16221668, -0.06261776, -0.03621482,  0.10779653, -0.11388872,\n",
       "        -0.02498416,  0.01467237,  0.01023257,  0.0281093 , -0.1556117 ,\n",
       "         0.05227497, -0.06675357, -0.1008174 ]], dtype=float32)>"
      ]
     },
     "execution_count": 37,
     "metadata": {},
     "output_type": "execute_result"
    }
   ],
   "source": [
    "# Example of applying the the sentence embedding (128 dimensions)\n",
    "embedding_layer_128D(train_batch)"
   ]
  },
  {
   "cell_type": "markdown",
   "metadata": {
    "colab_type": "text",
    "id": "uRDwjjTMUoZ7"
   },
   "source": [
    "### Building the Multi-class classification Model"
   ]
  },
  {
   "cell_type": "markdown",
   "metadata": {
    "colab_type": "text",
    "id": "KZwifPjU7eBM"
   },
   "source": [
    "#### Data Variables"
   ]
  },
  {
   "cell_type": "code",
   "execution_count": 38,
   "metadata": {
    "colab": {},
    "colab_type": "code",
    "id": "PffdQvyd64Go"
   },
   "outputs": [],
   "source": [
    "# Data WITOUT DATA AUGMENTATION\n",
    "train_data = train_ds_nbatch\n",
    "test_data = test_ds_nbatch"
   ]
  },
  {
   "cell_type": "code",
   "execution_count": 39,
   "metadata": {
    "colab": {},
    "colab_type": "code",
    "id": "84jg4p_niFhZ"
   },
   "outputs": [],
   "source": [
    "# Data WITH DATA AUGMENTATION\n",
    "train_data_augm = train_ds_nbatch_dAug\n",
    "test_data_augm = test_ds_nbatch_dAug"
   ]
  },
  {
   "cell_type": "code",
   "execution_count": 40,
   "metadata": {
    "colab": {},
    "colab_type": "code",
    "id": "h-G4GLclN8l6"
   },
   "outputs": [],
   "source": [
    "# To be used to build the confusion matrix\n",
    "test_conf, test_labels_conf = next(iter(test_ds_nbatch.batch(351)))"
   ]
  },
  {
   "cell_type": "code",
   "execution_count": 41,
   "metadata": {
    "colab": {},
    "colab_type": "code",
    "id": "mymqHAHVXIZf"
   },
   "outputs": [],
   "source": [
    "# To be used to build the confusion matrix\n",
    "test_conf_augm, test_labels_conf_augm = next(iter(test_data_augm.batch(526)))"
   ]
  },
  {
   "cell_type": "markdown",
   "metadata": {
    "colab_type": "text",
    "id": "OpTwsHWv7gzk"
   },
   "source": [
    "#### Prepa data \n"
   ]
  },
  {
   "cell_type": "code",
   "execution_count": 42,
   "metadata": {
    "colab": {},
    "colab_type": "code",
    "id": "EUxRn51z7mv5"
   },
   "outputs": [],
   "source": [
    "# A utility method to create a tf.data dataset from a Pandas Dataframe\n",
    "def df_to_dataset(dataframe, shuffle=True, batching = True, batch_size=32):\n",
    "  dataframe = dataframe.copy()\n",
    "  labels = dataframe.pop('target')\n",
    "  ds = tf.data.Dataset.from_tensor_slices((dataframe.squeeze(), labels.squeeze()))\n",
    "  print(dataframe.squeeze().shape,labels.shape) # Here important to Squeez() to get the same Size as expected\n",
    "  if shuffle:\n",
    "    ds = ds.shuffle(buffer_size=len(dataframe))\n",
    "  \n",
    "  if batching:\n",
    "    ds = ds.batch(batch_size)\n",
    "  return ds"
   ]
  },
  {
   "cell_type": "code",
   "execution_count": 43,
   "metadata": {
    "colab": {},
    "colab_type": "code",
    "id": "I258XTOw7nZD"
   },
   "outputs": [],
   "source": [
    "def sentence_to_dataset(sentence):\n",
    "  # Creating a DataFrame\n",
    "  list_sentences = [sentence]\n",
    "  df = pd.DataFrame(list_sentences, columns=['sentence'])\n",
    "  ds = tf.data.Dataset.from_tensor_slices(df)\n",
    "\n",
    "  return ds\n"
   ]
  },
  {
   "cell_type": "code",
   "execution_count": 44,
   "metadata": {
    "colab": {},
    "colab_type": "code",
    "id": "-dox-4GMAQvU"
   },
   "outputs": [],
   "source": [
    "def predict4_one_sentence(sentence, model):\n",
    "  ds = sentence_to_dataset(sentence)\n",
    "  pred = model.predict(ds)\n",
    "  cat_num = np.argmax(pred)\n",
    "  pred_cluster = num_2_name_lookup[cat_num]\n",
    "  \n",
    "  return pred_cluster"
   ]
  },
  {
   "cell_type": "code",
   "execution_count": 45,
   "metadata": {
    "colab": {},
    "colab_type": "code",
    "id": "C5VG5vj88h0L"
   },
   "outputs": [],
   "source": [
    "def predict4_tfdataset(test_features, test_labels, model):\n",
    "  # making the predictions on the given dataset\n",
    "  predictions = model.predict(test_features)\n",
    "  # converting the feateres and test_labels dataset to a numpy array\n",
    "  features_2_numpy = tfds.as_numpy(test_features, graph=None)\n",
    "  labels_2_numpy = tfds.as_numpy(test_labels, graph=None)\n",
    "\n",
    "  # Looping over the predictions and real labels\n",
    "  for i,pred in enumerate(predictions):\n",
    "    # finding back the category\n",
    "    pred_cluster = num_2_name_lookup[np.argmax(pred)]\n",
    "    real_cluster = num_2_name_lookup[labels_2_numpy[i]]\n",
    "    print(f'The sentence is : {features_2_numpy[i]}')\n",
    "    print(f'The REAL CATEGORY is : {real_cluster} versus the PREDICTED CATEGORY : {pred_cluster}')\n",
    "    print(\"\")\n",
    "\n"
   ]
  },
  {
   "cell_type": "code",
   "execution_count": 46,
   "metadata": {
    "colab": {},
    "colab_type": "code",
    "id": "v3qZqe6DMso_"
   },
   "outputs": [],
   "source": [
    "# confusion matrix\n",
    "from sklearn.metrics import confusion_matrix\n",
    "\n",
    "def multiclass_confusion_mat(test_features, test_labels, model):\n",
    "  # making the predictions on the given dataset\n",
    "  pred_proba = model.predict(test_features)\n",
    "  predictions = np.argmax(pred_proba, axis=1) # prediction = arg of max proba\n",
    "\n",
    "  # converting the test_labels dataset to a numpy array\n",
    "  labels_2_numpy = tfds.as_numpy(test_labels, graph=None)\n",
    "\n",
    "  plt.figure(figsize = [10,10])\n",
    "  cf_matrix = confusion_matrix(labels_2_numpy, predictions)\n",
    "  sb.heatmap(cf_matrix/np.sum(cf_matrix), annot=True, fmt='.2%', cmap='Blues')\n",
    "  plt.xlabel(\"Predicted Labels\")\n",
    "  plt.ylabel(\"Real Labels\")"
   ]
  },
  {
   "cell_type": "code",
   "execution_count": 47,
   "metadata": {
    "colab": {},
    "colab_type": "code",
    "id": "VIMqRL83LGQx"
   },
   "outputs": [],
   "source": [
    "def plot_history(history):\n",
    "  plt.plot(history.history[\"loss\"], label=\"loss\")\n",
    "  plt.plot(history.history[\"val_loss\"], label=\"val_loss\")\n",
    "  plt.legend()\n",
    "  plt.show()\n",
    "  plt.close()\n",
    "\n",
    "  plt.plot(history.history[\"accuracy\"], label=\"accuracy\")\n",
    "  plt.plot(history.history[\"val_accuracy\"], label=\"val_accuracy\")\n",
    "  plt.legend()\n",
    "  plt.show()\n",
    "  plt.close()"
   ]
  },
  {
   "cell_type": "code",
   "execution_count": 48,
   "metadata": {
    "colab": {},
    "colab_type": "code",
    "id": "5fKLh56z8go_"
   },
   "outputs": [
    {
     "data": {
      "text/html": [
       "<div>\n",
       "<style scoped>\n",
       "    .dataframe tbody tr th:only-of-type {\n",
       "        vertical-align: middle;\n",
       "    }\n",
       "\n",
       "    .dataframe tbody tr th {\n",
       "        vertical-align: top;\n",
       "    }\n",
       "\n",
       "    .dataframe thead th {\n",
       "        text-align: right;\n",
       "    }\n",
       "</style>\n",
       "<table border=\"1\" class=\"dataframe\">\n",
       "  <thead>\n",
       "    <tr style=\"text-align: right;\">\n",
       "      <th></th>\n",
       "      <th>features</th>\n",
       "      <th>target</th>\n",
       "    </tr>\n",
       "  </thead>\n",
       "  <tbody>\n",
       "    <tr>\n",
       "      <th>189</th>\n",
       "      <td>A person with a serious expression,showing mil...</td>\n",
       "      <td>6</td>\n",
       "    </tr>\n",
       "    <tr>\n",
       "      <th>1052</th>\n",
       "      <td>A laptop personal computer. Depicted as a blac...</td>\n",
       "      <td>5</td>\n",
       "    </tr>\n",
       "    <tr>\n",
       "      <th>954</th>\n",
       "      <td>A metal device, dropped out of a boat to preve...</td>\n",
       "      <td>10</td>\n",
       "    </tr>\n",
       "    <tr>\n",
       "      <th>472</th>\n",
       "      <td>The face of aunicorn, a mythical creature in t...</td>\n",
       "      <td>1</td>\n",
       "    </tr>\n",
       "    <tr>\n",
       "      <th>147</th>\n",
       "      <td>A mechanical or prosthetic leg.Mechanical Legw...</td>\n",
       "      <td>2</td>\n",
       "    </tr>\n",
       "    <tr>\n",
       "      <th>...</th>\n",
       "      <td>...</td>\n",
       "      <td>...</td>\n",
       "    </tr>\n",
       "    <tr>\n",
       "      <th>1636</th>\n",
       "      <td>The flag for St. Martin, which may show as the...</td>\n",
       "      <td>3</td>\n",
       "    </tr>\n",
       "    <tr>\n",
       "      <th>169</th>\n",
       "      <td>The Man: Curly Hair emoji is aZWJ sequencecomb...</td>\n",
       "      <td>7</td>\n",
       "    </tr>\n",
       "    <tr>\n",
       "      <th>1541</th>\n",
       "      <td>The flag for Costa Rica, which may show as the...</td>\n",
       "      <td>3</td>\n",
       "    </tr>\n",
       "    <tr>\n",
       "      <th>489</th>\n",
       "      <td>A giraffe, the tallest animal on Earth, with s...</td>\n",
       "      <td>1</td>\n",
       "    </tr>\n",
       "    <tr>\n",
       "      <th>384</th>\n",
       "      <td>The Family: Man, Boy, Boy emoji is aZWJ sequen...</td>\n",
       "      <td>7</td>\n",
       "    </tr>\n",
       "  </tbody>\n",
       "</table>\n",
       "<p>351 rows × 2 columns</p>\n",
       "</div>"
      ],
      "text/plain": [
       "                                               features  target\n",
       "189   A person with a serious expression,showing mil...       6\n",
       "1052  A laptop personal computer. Depicted as a blac...       5\n",
       "954   A metal device, dropped out of a boat to preve...      10\n",
       "472   The face of aunicorn, a mythical creature in t...       1\n",
       "147   A mechanical or prosthetic leg.Mechanical Legw...       2\n",
       "...                                                 ...     ...\n",
       "1636  The flag for St. Martin, which may show as the...       3\n",
       "169   The Man: Curly Hair emoji is aZWJ sequencecomb...       7\n",
       "1541  The flag for Costa Rica, which may show as the...       3\n",
       "489   A giraffe, the tallest animal on Earth, with s...       1\n",
       "384   The Family: Man, Boy, Boy emoji is aZWJ sequen...       7\n",
       "\n",
       "[351 rows x 2 columns]"
      ]
     },
     "execution_count": 48,
     "metadata": {},
     "output_type": "execute_result"
    }
   ],
   "source": [
    "test"
   ]
  },
  {
   "cell_type": "markdown",
   "metadata": {
    "colab_type": "text",
    "id": "-0TTNo28657O"
   },
   "source": [
    "#### A. Base Model\n"
   ]
  },
  {
   "cell_type": "code",
   "execution_count": 49,
   "metadata": {
    "colab": {},
    "colab_type": "code",
    "id": "i2VRpmON1trX"
   },
   "outputs": [],
   "source": [
    "# Setting up Early Stopping\n",
    "from tensorflow.keras.callbacks import EarlyStopping\n",
    "\n",
    "# Creating an early stopping object early_stopping \n",
    "custom_early_stopping = EarlyStopping(\n",
    "    monitor='val_accuracy', \n",
    "    patience=5, \n",
    "    min_delta=0.001, \n",
    "    mode='auto'\n",
    ")"
   ]
  },
  {
   "cell_type": "markdown",
   "metadata": {
    "colab_type": "text",
    "id": "RzIL9XEKQoTB"
   },
   "source": [
    "**EarlyStopping() has a few options and by default:**\n",
    "> - _monitor='val_loss':_ \n",
    "> \n",
    ">> to use validation loss as performance measure to terminate the training.\n",
    "> - _patience=0:_ \n",
    "> \n",
    ">> is the number of epochs with no improvement. The value 0 means the training is terminated as soon as the performance measure gets worse from one epoch to the next.\n",
    "> \n",
    "> - _min_delta:_ \n",
    ">\n",
    ">> Minimum change in the monitored quantity to qualify as an improvement, i.e. an absolute change of less than min_delta, will count as no improvement.\n",
    "> \n",
    ">-  _mode='auto':_\n",
    "> \n",
    ">> Should be one of auto, min or max. In 'min' mode, training will stop when the quantity monitored has stopped decreasing; in 'max' mode it will stop when the quantity monitored has stopped increasing; in 'auto' mode, the direction is automatically inferred from the name of the monitored quantity."
   ]
  },
  {
   "cell_type": "markdown",
   "metadata": {
    "colab_type": "text",
    "id": "ThWabBREgbhl"
   },
   "source": [
    "##### I. WITHOUT DATA AUGMENTATION"
   ]
  },
  {
   "cell_type": "code",
   "execution_count": 50,
   "metadata": {
    "colab": {},
    "colab_type": "code",
    "id": "YIJPL5-v-ZwC"
   },
   "outputs": [
    {
     "name": "stdout",
     "output_type": "stream",
     "text": [
      "Model: \"sequential\"\n",
      "_________________________________________________________________\n",
      "Layer (type)                 Output Shape              Param #   \n",
      "=================================================================\n",
      "keras_layer (KerasLayer)     (None, 20)                400020    \n",
      "_________________________________________________________________\n",
      "dense (Dense)                (None, 100)               2100      \n",
      "_________________________________________________________________\n",
      "dense_1 (Dense)              (None, 12)                1212      \n",
      "=================================================================\n",
      "Total params: 403,332\n",
      "Trainable params: 403,332\n",
      "Non-trainable params: 0\n",
      "_________________________________________________________________\n"
     ]
    }
   ],
   "source": [
    "base_model = models.Sequential()\n",
    "base_model.add(embedding_layer)\n",
    "base_model.add(layers.Dense(100, activation=\"relu\"))\n",
    "base_model.add(layers.Dense(12, activation=\"softmax\"))\n",
    "base_model.summary()\n",
    "\n",
    "base_model.compile(\n",
    "    optimizer=\"adam\", \n",
    "    loss='sparse_categorical_crossentropy',\n",
    "    metrics=[\"accuracy\"])"
   ]
  },
  {
   "cell_type": "code",
   "execution_count": 51,
   "metadata": {
    "colab": {
     "base_uri": "https://localhost:8080/",
     "height": 1000
    },
    "colab_type": "code",
    "id": "_MFaeCePhwM4",
    "outputId": "f7387c92-c883-4314-8d6e-c44b968b60f7"
   },
   "outputs": [
    {
     "name": "stdout",
     "output_type": "stream",
     "text": [
      "Epoch 1/50\n",
      "44/44 [==============================] - 2s 35ms/step - loss: 2.1263 - accuracy: 0.2748 - val_loss: 0.0000e+00 - val_accuracy: 0.0000e+00\n",
      "Epoch 2/50\n",
      "44/44 [==============================] - 0s 8ms/step - loss: 1.6243 - accuracy: 0.4925 - val_loss: 1.4666 - val_accuracy: 0.5442\n",
      "Epoch 3/50\n",
      "44/44 [==============================] - 0s 8ms/step - loss: 1.3761 - accuracy: 0.5753 - val_loss: 1.2966 - val_accuracy: 0.5869\n",
      "Epoch 4/50\n",
      "44/44 [==============================] - 0s 8ms/step - loss: 1.2020 - accuracy: 0.6288 - val_loss: 1.1789 - val_accuracy: 0.6125\n",
      "Epoch 5/50\n",
      "44/44 [==============================] - 0s 8ms/step - loss: 1.0621 - accuracy: 0.6717 - val_loss: 1.0907 - val_accuracy: 0.6353\n",
      "Epoch 6/50\n",
      "44/44 [==============================] - 0s 8ms/step - loss: 0.9436 - accuracy: 0.7131 - val_loss: 1.0237 - val_accuracy: 0.6724\n",
      "Epoch 7/50\n",
      "44/44 [==============================] - 0s 8ms/step - loss: 0.8397 - accuracy: 0.7566 - val_loss: 0.9674 - val_accuracy: 0.7094\n",
      "Epoch 8/50\n",
      "44/44 [==============================] - 0s 8ms/step - loss: 0.7478 - accuracy: 0.7894 - val_loss: 0.9204 - val_accuracy: 0.7350\n",
      "Epoch 9/50\n",
      "44/44 [==============================] - 0s 8ms/step - loss: 0.6673 - accuracy: 0.8166 - val_loss: 0.8811 - val_accuracy: 0.7407\n",
      "Epoch 10/50\n",
      "44/44 [==============================] - 0s 8ms/step - loss: 0.5963 - accuracy: 0.8315 - val_loss: 0.8492 - val_accuracy: 0.7493\n",
      "Epoch 11/50\n",
      "44/44 [==============================] - 0s 7ms/step - loss: 0.5334 - accuracy: 0.8508 - val_loss: 0.8204 - val_accuracy: 0.7521\n",
      "Epoch 12/50\n",
      "44/44 [==============================] - 0s 8ms/step - loss: 0.4779 - accuracy: 0.8701 - val_loss: 0.7995 - val_accuracy: 0.7550\n",
      "Epoch 13/50\n",
      "44/44 [==============================] - 0s 8ms/step - loss: 0.4285 - accuracy: 0.8815 - val_loss: 0.7809 - val_accuracy: 0.7607\n",
      "Epoch 14/50\n",
      "44/44 [==============================] - 0s 7ms/step - loss: 0.3841 - accuracy: 0.9001 - val_loss: 0.7652 - val_accuracy: 0.7721\n",
      "Epoch 15/50\n",
      "44/44 [==============================] - 0s 7ms/step - loss: 0.3446 - accuracy: 0.9115 - val_loss: 0.7530 - val_accuracy: 0.7749\n",
      "Epoch 16/50\n",
      "44/44 [==============================] - 0s 7ms/step - loss: 0.3101 - accuracy: 0.9222 - val_loss: 0.7442 - val_accuracy: 0.7721\n",
      "Epoch 17/50\n",
      "44/44 [==============================] - 0s 7ms/step - loss: 0.2794 - accuracy: 0.9286 - val_loss: 0.7368 - val_accuracy: 0.7692\n",
      "Epoch 18/50\n",
      "44/44 [==============================] - 0s 7ms/step - loss: 0.2524 - accuracy: 0.9372 - val_loss: 0.7315 - val_accuracy: 0.7721\n",
      "Epoch 19/50\n",
      "44/44 [==============================] - 0s 7ms/step - loss: 0.2284 - accuracy: 0.9479 - val_loss: 0.7259 - val_accuracy: 0.7749\n",
      "Epoch 20/50\n",
      "44/44 [==============================] - 0s 7ms/step - loss: 0.2071 - accuracy: 0.9543 - val_loss: 0.7238 - val_accuracy: 0.7721\n"
     ]
    }
   ],
   "source": [
    "base_history = base_model.fit(\n",
    "    train_data.cache().batch(32),\n",
    "    epochs=50,\n",
    "    validation_data=test_data.batch(32),\n",
    "    callbacks=[custom_early_stopping]\n",
    ")"
   ]
  },
  {
   "cell_type": "code",
   "execution_count": 52,
   "metadata": {
    "colab": {
     "base_uri": "https://localhost:8080/",
     "height": 513
    },
    "colab_type": "code",
    "id": "tYuNPW9_LgkD",
    "outputId": "20cf1673-f228-4678-ed42-34ea5c615d7d"
   },
   "outputs": [
    {
     "data": {
      "image/png": "[encoded data removed]",
      "text/plain": [
       "<Figure size 432x288 with 1 Axes>"
      ]
     },
     "metadata": {
      "needs_background": "light"
     },
     "output_type": "display_data"
    },
    {
     "data": {
      "image/png": "[encoded data removed]",
      "text/plain": [
       "<Figure size 432x288 with 1 Axes>"
      ]
     },
     "metadata": {
      "needs_background": "light"
     },
     "output_type": "display_data"
    }
   ],
   "source": [
    "plot_history(base_history)"
   ]
  },
  {
   "cell_type": "code",
   "execution_count": 53,
   "metadata": {
    "colab": {
     "base_uri": "https://localhost:8080/",
     "height": 606
    },
    "colab_type": "code",
    "id": "-M8T3d4-N1wP",
    "outputId": "6d505c58-f594-4769-e50f-e60b915a861f"
   },
   "outputs": [
    {
     "data": {
      "image/png": "[encoded data removed]",
      "text/plain": [
       "<Figure size 720x720 with 2 Axes>"
      ]
     },
     "metadata": {
      "needs_background": "light"
     },
     "output_type": "display_data"
    }
   ],
   "source": [
    "multiclass_confusion_mat(test_conf, test_labels_conf, base_model)"
   ]
  },
  {
   "cell_type": "code",
   "execution_count": 54,
   "metadata": {
    "colab": {},
    "colab_type": "code",
    "id": "3Skcp3AwXL5v"
   },
   "outputs": [],
   "source": [
    "# TAKING A BATCH of the TEST DATA\n",
    "test_batch, test_labels_batch = next(iter(test_ds_nbatch.batch(10)))"
   ]
  },
  {
   "cell_type": "code",
   "execution_count": 55,
   "metadata": {
    "colab": {
     "base_uri": "https://localhost:8080/",
     "height": 547
    },
    "colab_type": "code",
    "id": "5mR5VnA2Ap-y",
    "outputId": "c101b182-ca69-4945-ef88-ac41ec94667b"
   },
   "outputs": [
    {
     "name": "stdout",
     "output_type": "stream",
     "text": [
      "The sentence is : b\"A blue or black ballpoint pen, as used for everyday writing. Depicted with its cap removed onto its end or as retractable pen. Positioned at a 45\\xc2\\xb0 angle, its tip at the lower left. Commonly used for various content concerning writing (e.g., creative, professional) as well as signing (deals, laws, in sports).Google's designpreviously featureda brown-colored pen. Not to be confused with\\xe2\\x9c\\x92\\xef\\xb8\\x8fBlack Nibor\\xf0\\x9f\\x96\\x8b\\xef\\xb8\\x8fFountain Pen, though their applications often overlap.\"\n",
      "The REAL CATEGORY is : Objects versus the PREDICTED CATEGORY : Objects\n",
      "\n",
      "The sentence is : b'The Woman Firefighter emoji is aZWJ sequencecombining\\xf0\\x9f\\x91\\xa9Woman,\\xe2\\x80\\x8dZero Width Joinerand\\xf0\\x9f\\x9a\\x92Fire Engine.\\nThese display as a single emoji on supported platforms.'\n",
      "The REAL CATEGORY is : person-role versus the PREDICTED CATEGORY : person-role\n",
      "\n",
      "The sentence is : b'The flag forMexico, which may show as the lettersMXon some platforms.The Flag: Mexico emoji is aflag sequencecombining\\xf0\\x9f\\x87\\xb2Regional Indicator Symbol Letter Mand\\xf0\\x9f\\x87\\xbdRegional Indicator Symbol Letter X.\\nThese display as a single emoji on supported platforms.'\n",
      "The REAL CATEGORY is : Flags versus the PREDICTED CATEGORY : Flags\n",
      "\n",
      "The sentence is : b'Tooth'\n",
      "The REAL CATEGORY is : Body_parts versus the PREDICTED CATEGORY : Symbols\n",
      "\n",
      "The sentence is : b'A white uniform used in marital arts such as judo or karate. Held together using a material belt.Known askeikogiin Japanese.'\n",
      "The REAL CATEGORY is : Activities versus the PREDICTED CATEGORY : Objects\n",
      "\n",
      "The sentence is : b'A yellow face with furrowed eyebrows wearing amonocle. Usually depicted with a small,intent frown and head slightly upturned, as if in careful inspection.Mayshow that someone is pondering, considering, or questioning something, sometimes with a sense ofskeptical or ironic observation or encouraging a closer look at some content. May convey a sense of sophistication or smug intelligence, e.g., smarty-pants.'\n",
      "The REAL CATEGORY is : Smileys & Emotion versus the PREDICTED CATEGORY : Smileys & Emotion\n",
      "\n",
      "The sentence is : b'The female version of the\\xf0\\x9f\\x91\\xaePolice Officeremoji.The Woman Police Officer emoji is aZWJ sequencecombining\\xf0\\x9f\\x91\\xaePolice Officer,\\xe2\\x80\\x8dZero Width Joinerand\\xe2\\x99\\x80Female Sign.\\nThese display as a single emoji on supported platforms.'\n",
      "The REAL CATEGORY is : person-role versus the PREDICTED CATEGORY : person-role\n",
      "\n",
      "The sentence is : b'A closed, green, hardcover book. Commonly used for various content concerning reading, writing, learning, and schooling. May also be used as a green accent color.Apple\\xe2\\x80\\x99s cover features the easter eggVol. 2 byJohn Appleseed,Samsung\\xe2\\x80\\x99s readsGreen Book.'\n",
      "The REAL CATEGORY is : Objects versus the PREDICTED CATEGORY : Objects\n",
      "\n",
      "The sentence is : b'A pot, as a casserole dish, filled with a warm and heartybeefor vegetable stew on most platforms. Samsung\\xe2\\x80\\x99s design resembles a bowl of ramen or other noodle dish, withchopsticks. Generally used for eating andcooking(\\xe2\\x80\\x9ca meal\\xe2\\x80\\x9d), and commonly associated with soup or Japanesenabe.'\n",
      "The REAL CATEGORY is : Food & Drink versus the PREDICTED CATEGORY : Food & Drink\n",
      "\n",
      "The sentence is : b'An icon of a outlined sun, used when increasingthe brightness of a screen. Appears larger than theLow Brightness Symbol.'\n",
      "The REAL CATEGORY is : Symbols versus the PREDICTED CATEGORY : Travel & Places\n",
      "\n"
     ]
    }
   ],
   "source": [
    "predict4_tfdataset(test_batch, test_labels_batch, base_model)"
   ]
  },
  {
   "cell_type": "markdown",
   "metadata": {
    "colab_type": "text",
    "id": "3T5upvbLgogv"
   },
   "source": [
    "##### II. WITH DATA AUGMENTATION"
   ]
  },
  {
   "cell_type": "code",
   "execution_count": 56,
   "metadata": {
    "colab": {
     "base_uri": "https://localhost:8080/",
     "height": 255
    },
    "colab_type": "code",
    "id": "skq4s5oUvNbm",
    "outputId": "724c4f23-8e52-450e-ded7-ae045780e62f"
   },
   "outputs": [
    {
     "name": "stdout",
     "output_type": "stream",
     "text": [
      "Model: \"sequential_1\"\n",
      "_________________________________________________________________\n",
      "Layer (type)                 Output Shape              Param #   \n",
      "=================================================================\n",
      "keras_layer (KerasLayer)     (None, 20)                400020    \n",
      "_________________________________________________________________\n",
      "dense_2 (Dense)              (None, 100)               2100      \n",
      "_________________________________________________________________\n",
      "dense_3 (Dense)              (None, 12)                1212      \n",
      "=================================================================\n",
      "Total params: 403,332\n",
      "Trainable params: 403,332\n",
      "Non-trainable params: 0\n",
      "_________________________________________________________________\n"
     ]
    }
   ],
   "source": [
    "base_model_augm = models.Sequential()\n",
    "base_model_augm.add(embedding_layer)\n",
    "base_model_augm.add(layers.Dense(100, activation=\"relu\"))\n",
    "base_model_augm.add(layers.Dense(12, activation=\"softmax\"))\n",
    "base_model_augm.summary()\n",
    "\n",
    "base_model_augm.compile(\n",
    "    optimizer=\"adam\", \n",
    "    loss='sparse_categorical_crossentropy',\n",
    "    metrics=[\"accuracy\"])"
   ]
  },
  {
   "cell_type": "code",
   "execution_count": 57,
   "metadata": {
    "colab": {
     "base_uri": "https://localhost:8080/",
     "height": 561
    },
    "colab_type": "code",
    "id": "jbsaR_9Kg8wV",
    "outputId": "38a363fe-6d43-4200-8fd0-7eeb27af92e8"
   },
   "outputs": [
    {
     "name": "stdout",
     "output_type": "stream",
     "text": [
      "Epoch 1/50\n",
      "77/77 [==============================] - 2s 20ms/step - loss: 1.7462 - accuracy: 0.5029 - val_loss: 0.0000e+00 - val_accuracy: 0.0000e+00\n",
      "Epoch 2/50\n",
      "77/77 [==============================] - 1s 8ms/step - loss: 0.9476 - accuracy: 0.7659 - val_loss: 0.8686 - val_accuracy: 0.7605\n",
      "Epoch 3/50\n",
      "77/77 [==============================] - 1s 8ms/step - loss: 0.6201 - accuracy: 0.8495 - val_loss: 0.7049 - val_accuracy: 0.8004\n",
      "Epoch 4/50\n",
      "77/77 [==============================] - 1s 8ms/step - loss: 0.4530 - accuracy: 0.8972 - val_loss: 0.6262 - val_accuracy: 0.8194\n",
      "Epoch 5/50\n",
      "77/77 [==============================] - 1s 8ms/step - loss: 0.3530 - accuracy: 0.9188 - val_loss: 0.5769 - val_accuracy: 0.8232\n",
      "Epoch 6/50\n",
      "77/77 [==============================] - 1s 7ms/step - loss: 0.2858 - accuracy: 0.9323 - val_loss: 0.5540 - val_accuracy: 0.8270\n",
      "Epoch 7/50\n",
      "77/77 [==============================] - 1s 8ms/step - loss: 0.2371 - accuracy: 0.9437 - val_loss: 0.5225 - val_accuracy: 0.8308\n",
      "Epoch 8/50\n",
      "77/77 [==============================] - 1s 8ms/step - loss: 0.2003 - accuracy: 0.9527 - val_loss: 0.5163 - val_accuracy: 0.8308\n",
      "Epoch 9/50\n",
      "77/77 [==============================] - 1s 8ms/step - loss: 0.1716 - accuracy: 0.9588 - val_loss: 0.5270 - val_accuracy: 0.8289\n",
      "Epoch 10/50\n",
      "77/77 [==============================] - 1s 8ms/step - loss: 0.1492 - accuracy: 0.9674 - val_loss: 0.5059 - val_accuracy: 0.8365\n",
      "Epoch 11/50\n",
      "77/77 [==============================] - 1s 8ms/step - loss: 0.1316 - accuracy: 0.9731 - val_loss: 0.5128 - val_accuracy: 0.8384\n",
      "Epoch 12/50\n",
      "77/77 [==============================] - 1s 7ms/step - loss: 0.1175 - accuracy: 0.9759 - val_loss: 0.5162 - val_accuracy: 0.8422\n",
      "Epoch 13/50\n",
      "77/77 [==============================] - 1s 7ms/step - loss: 0.1059 - accuracy: 0.9759 - val_loss: 0.5064 - val_accuracy: 0.8403\n",
      "Epoch 14/50\n",
      "77/77 [==============================] - 1s 7ms/step - loss: 0.0964 - accuracy: 0.9784 - val_loss: 0.5060 - val_accuracy: 0.8384\n",
      "Epoch 15/50\n",
      "77/77 [==============================] - 1s 8ms/step - loss: 0.0884 - accuracy: 0.9796 - val_loss: 0.5511 - val_accuracy: 0.8384\n",
      "Epoch 16/50\n",
      "77/77 [==============================] - 1s 8ms/step - loss: 0.0817 - accuracy: 0.9796 - val_loss: 0.5265 - val_accuracy: 0.8384\n",
      "Epoch 17/50\n",
      "77/77 [==============================] - 1s 8ms/step - loss: 0.0759 - accuracy: 0.9800 - val_loss: 0.5305 - val_accuracy: 0.8384\n"
     ]
    }
   ],
   "source": [
    "base_history_augm = base_model_augm.fit(\n",
    "    train_data_augm.cache().batch(32),\n",
    "    epochs=50,\n",
    "    validation_data=test_data_augm.batch(32),\n",
    "    callbacks=[custom_early_stopping]\n",
    ")"
   ]
  },
  {
   "cell_type": "code",
   "execution_count": 58,
   "metadata": {
    "colab": {
     "base_uri": "https://localhost:8080/",
     "height": 516
    },
    "colab_type": "code",
    "id": "D5KcAB2bg80i",
    "outputId": "f6d586f8-359b-4c08-b134-66b50d34afc4"
   },
   "outputs": [
    {
     "data": {
      "image/png": "[encoded data removed]",
      "text/plain": [
       "<Figure size 432x288 with 1 Axes>"
      ]
     },
     "metadata": {
      "needs_background": "light"
     },
     "output_type": "display_data"
    },
    {
     "data": {
      "image/png": "[encoded data removed]",
      "text/plain": [
       "<Figure size 432x288 with 1 Axes>"
      ]
     },
     "metadata": {
      "needs_background": "light"
     },
     "output_type": "display_data"
    }
   ],
   "source": [
    "plot_history(base_history_augm)"
   ]
  },
  {
   "cell_type": "code",
   "execution_count": 59,
   "metadata": {
    "colab": {
     "base_uri": "https://localhost:8080/",
     "height": 606
    },
    "colab_type": "code",
    "id": "K3ZLHPkLg85B",
    "outputId": "115ffcb3-06da-4760-8068-919fd2e69c89"
   },
   "outputs": [
    {
     "data": {
      "image/png": "[encoded data removed]",
      "text/plain": [
       "<Figure size 720x720 with 2 Axes>"
      ]
     },
     "metadata": {
      "needs_background": "light"
     },
     "output_type": "display_data"
    }
   ],
   "source": [
    "multiclass_confusion_mat(test_conf_augm, test_labels_conf_augm, base_model_augm)"
   ]
  },
  {
   "cell_type": "code",
   "execution_count": 60,
   "metadata": {
    "colab": {},
    "colab_type": "code",
    "id": "0qx--fsPYUA9"
   },
   "outputs": [],
   "source": [
    "# TAKING A BATCH of the TEST DATA\n",
    "test_batch_augm, test_labels_batch_augm = next(iter(test_ds_nbatch_dAug.shuffle(300).batch(10)))"
   ]
  },
  {
   "cell_type": "code",
   "execution_count": 61,
   "metadata": {
    "colab": {
     "base_uri": "https://localhost:8080/",
     "height": 547
    },
    "colab_type": "code",
    "id": "ick9W7TDg9Zz",
    "outputId": "df5afe36-34dc-41cd-d772-df663cddb7c4"
   },
   "outputs": [
    {
     "name": "stdout",
     "output_type": "stream",
     "text": [
      "The sentence is : b'A swan, a waterbird with white feathers and a long neck. Depicted in full profile facing left, with a curving neck, orange bill, black eye marking, and wings and legs tucked in, as if gliding in water.May be used to represent a goose or, metaphorically, love, grace, and beauty.'\n",
      "The REAL CATEGORY is : Animals & Nature versus the PREDICTED CATEGORY : Animals & Nature\n",
      "\n",
      "The sentence is : b'Thin-cut, golden-brown French fries, served in a red carton, as at McDonald\\xe2\\x80\\x99s. Apple featuresSmiling Face With Smiling Eyeson its carton.'\n",
      "The REAL CATEGORY is : Food & Drink versus the PREDICTED CATEGORY : Food & Drink\n",
      "\n",
      "The sentence is : b'A yellow face with a broad, open smile, showing upper teeth on most platforms, with stars for eyes, as if seeing a beloved celebrity. Color of stars widely varies by platform, though commonly gold or red. May express that someone or something is amazing, fascinating, impressive, or exciting.'\n",
      "The REAL CATEGORY is : Smileys & Emotion versus the PREDICTED CATEGORY : Smileys & Emotion\n",
      "\n",
      "The sentence is : b'The male version of the\\xf0\\x9f\\x92\\x86Face Massageemoji.The Man Getting Massage emoji is aZWJ sequencecombining\\xf0\\x9f\\x92\\x86Person Getting Massage,\\xe2\\x80\\x8dZero Width Joinerand\\xe2\\x99\\x82Male Sign.\\nThese display as a single emoji on supported platforms.'\n",
      "The REAL CATEGORY is : Person-activity versus the PREDICTED CATEGORY : Person-activity\n",
      "\n",
      "The sentence is : b'A classic magnifying glass, as used to view small objects, with its lens pointed right.Generally depicted at a 45\\xc2\\xb0 angle with a black handle and a clear or blue, silver-framed lens titled to the upper right.Associated withdetectivesand search or zoom icons on computers.Like\\xf0\\x9f\\x94\\x8d Magnifying Glass Titled Left, commonly used for various senses of searching, looking, inspecting, etc.'\n",
      "The REAL CATEGORY is : Objects versus the PREDICTED CATEGORY : Objects\n",
      "\n",
      "The sentence is : b'The flag forR\\xc3\\xa9union, which may show as the lettersREon some platforms.Shown as either theVolcano + Sunbeamsflag proposal by theVexillological Association of R\\xc3\\xa9union, or theblue, white, red stripes + four colored quadrantsproposal by theAssociation for the R\\xc3\\xa9union Flag.TheFlag For Franceis the official flag of R\\xc3\\xa9union. All local flags used are unofficial.The Flag: R\\xc3\\xa9union emoji is aflag sequencecombining\\xf0\\x9f\\x87\\xb7Regional Indicator Symbol Letter Rand\\xf0\\x9f\\x87\\xaaRegional Indicator Symbol Letter E.\\nThese display as a single emoji on supported platforms.'\n",
      "The REAL CATEGORY is : Flags versus the PREDICTED CATEGORY : Flags\n",
      "\n",
      "The sentence is : b'2nd Place Medal'\n",
      "The REAL CATEGORY is : Activities versus the PREDICTED CATEGORY : Activities\n",
      "\n",
      "The sentence is : b'An arrowpointing to the left, with acurved hook at the other end. Similar in appearance to a sidewaysU Turnsymbol, orareplyicon in an email application.'\n",
      "The REAL CATEGORY is : Symbols versus the PREDICTED CATEGORY : Symbols\n",
      "\n",
      "The sentence is : b'The flag forJamaica, which may show as the lettersJMon some platforms.The Flag: Jamaica emoji is aflag sequencecombining\\xf0\\x9f\\x87\\xafRegional Indicator Symbol Letter Jand\\xf0\\x9f\\x87\\xb2Regional Indicator Symbol Letter M.\\nThese display as a single emoji on supported platforms.'\n",
      "The REAL CATEGORY is : Flags versus the PREDICTED CATEGORY : Flags\n",
      "\n",
      "The sentence is : b'A person standing upright. May be used to represent human in a general sense, or shown in sequence to imply holding hands.Similar in appearance to\\xf0\\x9f\\x9a\\xb6 Person Walking, but shown facing forwardand without any motion implied.Person Standingwas approved as part ofUnicode 12.0in 2019\\nunder the name \\xe2\\x80\\x9cStanding Person\\xe2\\x80\\x9d\\nand added toEmoji 12.0in 2019.'\n",
      "The REAL CATEGORY is : Person-activity versus the PREDICTED CATEGORY : Body_parts\n",
      "\n"
     ]
    }
   ],
   "source": [
    "predict4_tfdataset(test_batch_augm, test_labels_batch_augm, base_model_augm)"
   ]
  },
  {
   "cell_type": "markdown",
   "metadata": {
    "colab_type": "text",
    "id": "EjW_C-Ud57X-"
   },
   "source": [
    "#### B. BASE_MODEL but with EMBEDDINLAYER Dimension 128D"
   ]
  },
  {
   "cell_type": "markdown",
   "metadata": {
    "colab_type": "text",
    "id": "C7l40r2mKfjy"
   },
   "source": [
    "##### I. Without Regularization"
   ]
  },
  {
   "cell_type": "code",
   "execution_count": 62,
   "metadata": {
    "colab": {
     "base_uri": "https://localhost:8080/",
     "height": 629
    },
    "colab_type": "code",
    "id": "7xsfH4ll56Fj",
    "outputId": "f5fffb9d-95e1-433c-e6fd-7c796a4d1c28"
   },
   "outputs": [
    {
     "name": "stdout",
     "output_type": "stream",
     "text": [
      "Model: \"sequential_2\"\n",
      "_________________________________________________________________\n",
      "Layer (type)                 Output Shape              Param #   \n",
      "=================================================================\n",
      "keras_layer_1 (KerasLayer)   (None, 128)               124642688 \n",
      "_________________________________________________________________\n",
      "dense_4 (Dense)              (None, 100)               12900     \n",
      "_________________________________________________________________\n",
      "dense_5 (Dense)              (None, 12)                1212      \n",
      "=================================================================\n",
      "Total params: 124,656,800\n",
      "Trainable params: 124,656,800\n",
      "Non-trainable params: 0\n",
      "_________________________________________________________________\n",
      "Epoch 1/15\n",
      "44/44 [==============================] - 43s 980ms/step - loss: 2.1150 - accuracy: 0.3597 - val_loss: 0.0000e+00 - val_accuracy: 0.0000e+00\n",
      "Epoch 2/15\n",
      "44/44 [==============================] - 39s 891ms/step - loss: 1.3888 - accuracy: 0.6838 - val_loss: 1.1949 - val_accuracy: 0.6980\n",
      "Epoch 3/15\n",
      "44/44 [==============================] - 40s 901ms/step - loss: 0.7732 - accuracy: 0.8430 - val_loss: 0.8679 - val_accuracy: 0.7692\n",
      "Epoch 4/15\n",
      "44/44 [==============================] - 39s 887ms/step - loss: 0.3722 - accuracy: 0.9400 - val_loss: 0.7088 - val_accuracy: 0.8034\n",
      "Epoch 5/15\n",
      "44/44 [==============================] - 38s 852ms/step - loss: 0.1844 - accuracy: 0.9807 - val_loss: 0.6285 - val_accuracy: 0.8177\n",
      "Epoch 6/15\n",
      "44/44 [==============================] - 37s 852ms/step - loss: 0.0996 - accuracy: 0.9907 - val_loss: 0.5746 - val_accuracy: 0.8291\n",
      "Epoch 7/15\n",
      "44/44 [==============================] - 39s 890ms/step - loss: 0.0590 - accuracy: 0.9957 - val_loss: 0.5477 - val_accuracy: 0.8234\n",
      "Epoch 8/15\n",
      "44/44 [==============================] - 38s 861ms/step - loss: 0.0383 - accuracy: 0.9971 - val_loss: 0.5299 - val_accuracy: 0.8262\n",
      "Epoch 9/15\n",
      "44/44 [==============================] - 39s 889ms/step - loss: 0.0267 - accuracy: 0.9979 - val_loss: 0.5183 - val_accuracy: 0.8291\n",
      "Epoch 10/15\n",
      "44/44 [==============================] - 40s 906ms/step - loss: 0.0197 - accuracy: 0.9993 - val_loss: 0.5101 - val_accuracy: 0.8291\n",
      "Epoch 11/15\n",
      "44/44 [==============================] - 41s 925ms/step - loss: 0.0150 - accuracy: 0.9993 - val_loss: 0.5040 - val_accuracy: 0.8262\n"
     ]
    }
   ],
   "source": [
    "base_model_128D = models.Sequential()\n",
    "base_model_128D.add(embedding_layer_128D)\n",
    "base_model_128D.add(layers.Dense(100, activation=\"relu\"))\n",
    "base_model_128D.add(layers.Dense(12, activation=\"softmax\"))\n",
    "base_model_128D.summary()\n",
    "\n",
    "base_model_128D.compile(\n",
    "    optimizer=\"adam\", \n",
    "    loss='sparse_categorical_crossentropy',\n",
    "    metrics=[\"accuracy\"])\n",
    "\n",
    "base_history_128D = base_model_128D.fit(\n",
    "    train_data.cache().batch(32),\n",
    "    epochs=15,\n",
    "    validation_data=test_data.batch(32),\n",
    "    callbacks=[custom_early_stopping]\n",
    ")\n"
   ]
  },
  {
   "cell_type": "code",
   "execution_count": 63,
   "metadata": {
    "colab": {
     "base_uri": "https://localhost:8080/",
     "height": 513
    },
    "colab_type": "code",
    "id": "sZ2makbd56ap",
    "outputId": "0731e92c-6354-4ee7-97e9-6e387711d2e3"
   },
   "outputs": [
    {
     "data": {
      "image/png": "[encoded data removed]",
      "text/plain": [
       "<Figure size 432x288 with 1 Axes>"
      ]
     },
     "metadata": {
      "needs_background": "light"
     },
     "output_type": "display_data"
    },
    {
     "data": {
      "image/png": "[encoded data removed]",
      "text/plain": [
       "<Figure size 432x288 with 1 Axes>"
      ]
     },
     "metadata": {
      "needs_background": "light"
     },
     "output_type": "display_data"
    }
   ],
   "source": [
    "plot_history(base_history_128D)"
   ]
  },
  {
   "cell_type": "code",
   "execution_count": 64,
   "metadata": {
    "colab": {
     "base_uri": "https://localhost:8080/",
     "height": 606
    },
    "colab_type": "code",
    "id": "fdhrGYZF56nH",
    "outputId": "e350a85a-ba05-4b60-f0af-cbb3d3e4eaf9"
   },
   "outputs": [
    {
     "data": {
      "image/png": "[encoded data removed]",
      "text/plain": [
       "<Figure size 720x720 with 2 Axes>"
      ]
     },
     "metadata": {
      "needs_background": "light"
     },
     "output_type": "display_data"
    }
   ],
   "source": [
    "multiclass_confusion_mat(test_conf, test_labels_conf, base_model_128D)"
   ]
  },
  {
   "cell_type": "code",
   "execution_count": 65,
   "metadata": {
    "colab": {},
    "colab_type": "code",
    "id": "PkKCc6PY56jA"
   },
   "outputs": [],
   "source": [
    "# TAKING A BATCH of the TEST DATA\n",
    "test_batch, test_labels_batch = next(iter(test_ds_nbatch.batch(10)))"
   ]
  },
  {
   "cell_type": "code",
   "execution_count": 66,
   "metadata": {
    "colab": {
     "base_uri": "https://localhost:8080/",
     "height": 547
    },
    "colab_type": "code",
    "id": "FW619ZFQ56lj",
    "outputId": "bd50af54-d65f-4d44-874a-386a6facabb2"
   },
   "outputs": [
    {
     "name": "stdout",
     "output_type": "stream",
     "text": [
      "The sentence is : b'Nine O\\xe2\\x80\\x99Clock'\n",
      "The REAL CATEGORY is : Travel & Places versus the PREDICTED CATEGORY : Travel & Places\n",
      "\n",
      "The sentence is : b'The Flag: South Georgia & South Sandwich Islands emoji is aflag sequencecombining\\xf0\\x9f\\x87\\xacRegional Indicator Symbol Letter Gand\\xf0\\x9f\\x87\\xb8Regional Indicator Symbol Letter S.\\nThese display as a single emoji on supported platforms.'\n",
      "The REAL CATEGORY is : Flags versus the PREDICTED CATEGORY : Flags\n",
      "\n",
      "The sentence is : b'A friendly, cartoon-styled face of a monkey, looking straight ahead. Depicted as a brown-haired monkey with a tan or pinkish face, round ears, nostrils, and open-mouthed smile.As with the full-bodied\\xf0\\x9f\\x90\\x92 Monkey, often used with a playful tone or for metaphorical senses ofmonkey.One of the 12 animals of theChinese zodiac. Available as an AppleAnimoji.Vendors implement the sameor similar monkey face in their Three Wise Monkeys emojis:\\xf0\\x9f\\x99\\x88 See-No-Evil Monkey,\\xf0\\x9f\\x99\\x89 Hear-No-Evil Monkey, and\\xf0\\x9f\\x99\\x8a Speak-No-Evil Monkey.Facebook\\xe2\\x80\\x99s monkeypreviouslyresembled\\xf0\\x9f\\x90\\xbb Bear Face.'\n",
      "The REAL CATEGORY is : Animals & Nature versus the PREDICTED CATEGORY : Animals & Nature\n",
      "\n",
      "The sentence is : b\"A light-brown or yellow rectangular tag, as labelled and attached to akey. Depictedat various anglespunched with a hole, generally with a metal ring or loop of string.Commonly used to represent a price tag or metadata tag as well as for various senses oflabel.Google's design features two tags, WhatsApp's is white.Apple removedits ring fromearlierdesigns. Samsungpreviously featuredthe easter egg initialsHMJ.\"\n",
      "The REAL CATEGORY is : Objects versus the PREDICTED CATEGORY : Objects\n",
      "\n",
      "The sentence is : b\"A deer, a fleet-footed, hoofed mammal whose males (bucks,stags) generally have antlers. Variously depicted as a light-brown deer in full profile on all fours facing left or as adeer face looking straight head;both depictions feature large, branched antlers.May be used to represent elk, moose, antelope, or reindeer, especially in connection withChristmas.Apple, Microsoft, WhatsApp, and Facebook's designs feature a deer in full profile; Google, Samsung, and Twitter's designs feature a deer face.Google\\xe2\\x80\\x99s deer has a red nose, asRudolph the Red-nosed Reindeer. Apple and WhatsApp\\xe2\\x80\\x99s deers arewhite-tailed.\"\n",
      "The REAL CATEGORY is : Animals & Nature versus the PREDICTED CATEGORY : Animals & Nature\n",
      "\n",
      "The sentence is : b'A yellow face with simple, open eyes and no mouth, as if at a loss for words. Meaning widely varies, but commonly conveys speechlessness, humility, and silence.May also convey moderately negative emotions, such as disappointment, frustration, or sadness.Samsung\\xe2\\x80\\x99s designpreviously featuredraised eyebrows and blushing cheeks.'\n",
      "The REAL CATEGORY is : Smileys & Emotion versus the PREDICTED CATEGORY : Smileys & Emotion\n",
      "\n",
      "The sentence is : b'Yellow Squarewas approved as part ofUnicode 12.0in 2019\\nunder the name \\xe2\\x80\\x9cLarge Yellow Square\\xe2\\x80\\x9d\\nand added toEmoji 12.0in 2019.'\n",
      "The REAL CATEGORY is : Symbols versus the PREDICTED CATEGORY : Symbols\n",
      "\n",
      "The sentence is : b'The flag forFrance, which may show as the lettersFRon some platforms.The Flag: France emoji is aflag sequencecombining\\xf0\\x9f\\x87\\xabRegional Indicator Symbol Letter Fand\\xf0\\x9f\\x87\\xb7Regional Indicator Symbol Letter R.\\nThese display as a single emoji on supported platforms.'\n",
      "The REAL CATEGORY is : Flags versus the PREDICTED CATEGORY : Flags\n",
      "\n",
      "The sentence is : b'A closed, green, hardcover book. Commonly used for various content concerning reading, writing, learning, and schooling. May also be used as a green accent color.Apple\\xe2\\x80\\x99s cover features the easter eggVol. 2 byJohn Appleseed,Samsung\\xe2\\x80\\x99s readsGreen Book.'\n",
      "The REAL CATEGORY is : Objects versus the PREDICTED CATEGORY : Objects\n",
      "\n",
      "The sentence is : b'An icon representing vibration mode on amobile phone, indicating that a phone should be switched to silent and/or vibrate mode.Displayed as a phone with either zig-zag lines or muted-bell icon on most platforms.Early versionsof this emojioften used aheart alongside a mobile phone, as commonlyseen in Japan.'\n",
      "The REAL CATEGORY is : Symbols versus the PREDICTED CATEGORY : Symbols\n",
      "\n"
     ]
    }
   ],
   "source": [
    "predict4_tfdataset(test_batch, test_labels_batch, base_model_128D)"
   ]
  },
  {
   "cell_type": "markdown",
   "metadata": {
    "colab_type": "text",
    "id": "x6EJYD0-K-KU"
   },
   "source": [
    "II. With Regularization"
   ]
  },
  {
   "cell_type": "code",
   "execution_count": 67,
   "metadata": {
    "colab": {},
    "colab_type": "code",
    "id": "P21CJoLnN2He"
   },
   "outputs": [],
   "source": [
    "# hyperparameters:\n",
    "factor = 0.001\n",
    "rate =  0.3"
   ]
  },
  {
   "cell_type": "markdown",
   "metadata": {
    "colab_type": "text",
    "id": "R377r5f_OZly"
   },
   "source": [
    "##### 1. Only L2 Regularization"
   ]
  },
  {
   "cell_type": "code",
   "execution_count": 68,
   "metadata": {
    "colab": {
     "base_uri": "https://localhost:8080/",
     "height": 68
    },
    "colab_type": "code",
    "id": "II9A6-Or56Pa",
    "outputId": "697768ba-eece-47b6-a189-2611176179b6"
   },
   "outputs": [
    {
     "name": "stdout",
     "output_type": "stream",
     "text": [
      "Model: \"sequential_3\"\n",
      "_________________________________________________________________\n",
      "Layer (type)                 Output Shape              Param #   \n",
      "=================================================================\n",
      "keras_layer_1 (KerasLayer)   (None, 128)               124642688 \n",
      "_________________________________________________________________\n",
      "dense_6 (Dense)              (None, 100)               12900     \n",
      "_________________________________________________________________\n",
      "dense_7 (Dense)              (None, 12)                1212      \n",
      "=================================================================\n",
      "Total params: 124,656,800\n",
      "Trainable params: 124,656,800\n",
      "Non-trainable params: 0\n",
      "_________________________________________________________________\n",
      "Epoch 1/12\n",
      "44/44 [==============================] - 43s 969ms/step - loss: 1.8830 - accuracy: 0.5625 - val_loss: 0.0000e+00 - val_accuracy: 0.0000e+00\n",
      "Epoch 2/12\n",
      "44/44 [==============================] - 39s 894ms/step - loss: 0.8547 - accuracy: 0.8972 - val_loss: 0.9983 - val_accuracy: 0.7835\n",
      "Epoch 3/12\n",
      "44/44 [==============================] - 37s 847ms/step - loss: 0.4160 - accuracy: 0.9886 - val_loss: 0.8368 - val_accuracy: 0.8205\n",
      "Epoch 4/12\n",
      "44/44 [==============================] - 36s 825ms/step - loss: 0.2806 - accuracy: 0.9971 - val_loss: 0.7719 - val_accuracy: 0.8376\n",
      "Epoch 5/12\n",
      "44/44 [==============================] - 37s 841ms/step - loss: 0.2334 - accuracy: 0.9986 - val_loss: 0.7361 - val_accuracy: 0.8405\n",
      "Epoch 6/12\n",
      "44/44 [==============================] - 37s 843ms/step - loss: 0.2105 - accuracy: 0.9986 - val_loss: 0.7126 - val_accuracy: 0.8405\n",
      "Epoch 7/12\n",
      "44/44 [==============================] - 37s 841ms/step - loss: 0.1955 - accuracy: 0.9993 - val_loss: 0.6959 - val_accuracy: 0.8433\n",
      "Epoch 8/12\n",
      "44/44 [==============================] - 37s 843ms/step - loss: 0.1838 - accuracy: 0.9993 - val_loss: 0.6827 - val_accuracy: 0.8433\n",
      "Epoch 9/12\n",
      "44/44 [==============================] - 37s 842ms/step - loss: 0.1739 - accuracy: 0.9993 - val_loss: 0.6719 - val_accuracy: 0.8433\n",
      "Epoch 10/12\n",
      "44/44 [==============================] - 39s 892ms/step - loss: 0.1649 - accuracy: 0.9993 - val_loss: 0.6635 - val_accuracy: 0.8433\n",
      "Epoch 11/12\n",
      "44/44 [==============================] - 40s 898ms/step - loss: 0.1568 - accuracy: 0.9993 - val_loss: 0.6543 - val_accuracy: 0.8433\n",
      "Epoch 12/12\n",
      "44/44 [==============================] - 41s 941ms/step - loss: 0.1493 - accuracy: 1.0000 - val_loss: 0.6469 - val_accuracy: 0.8433\n"
     ]
    }
   ],
   "source": [
    "base_model_128D_l2 = models.Sequential()\n",
    "base_model_128D_l2.add(embedding_layer_128D)\n",
    "base_model_128D_l2.add(layers.Dense(100,kernel_regularizer=l2(factor) ,activation=\"relu\"))\n",
    "base_model_128D_l2.add(layers.Dense(12,kernel_regularizer=l2(factor) ,activation=\"softmax\"))\n",
    "base_model_128D_l2.summary()\n",
    "\n",
    "base_model_128D_l2.compile(\n",
    "    optimizer=\"adam\", \n",
    "    loss='sparse_categorical_crossentropy',\n",
    "    metrics=[\"accuracy\"])\n",
    "\n",
    "base_history_128D_l2 = base_model_128D_l2.fit(\n",
    "    train_data.cache().batch(32),\n",
    "    epochs=12,\n",
    "    validation_data=test_data.batch(32),\n",
    "    callbacks=[custom_early_stopping]\n",
    ")\n"
   ]
  },
  {
   "cell_type": "code",
   "execution_count": 69,
   "metadata": {
    "colab": {
     "base_uri": "https://localhost:8080/",
     "height": 513
    },
    "colab_type": "code",
    "id": "loydGetdLEad",
    "outputId": "be5874ec-0d97-4ab5-ff0a-19a521194843"
   },
   "outputs": [
    {
     "data": {
      "image/png": "[encoded data removed]",
      "text/plain": [
       "<Figure size 432x288 with 1 Axes>"
      ]
     },
     "metadata": {
      "needs_background": "light"
     },
     "output_type": "display_data"
    },
    {
     "data": {
      "image/png": "[encoded data removed]",
      "text/plain": [
       "<Figure size 432x288 with 1 Axes>"
      ]
     },
     "metadata": {
      "needs_background": "light"
     },
     "output_type": "display_data"
    }
   ],
   "source": [
    "plot_history(base_history_128D_l2)"
   ]
  },
  {
   "cell_type": "code",
   "execution_count": 70,
   "metadata": {
    "colab": {
     "base_uri": "https://localhost:8080/",
     "height": 606
    },
    "colab_type": "code",
    "id": "IeJF7GG1bL9C",
    "outputId": "c3e5816e-c5b0-450b-b367-1968fefda3c8"
   },
   "outputs": [
    {
     "data": {
      "image/png": "[encoded data removed]",
      "text/plain": [
       "<Figure size 720x720 with 2 Axes>"
      ]
     },
     "metadata": {
      "needs_background": "light"
     },
     "output_type": "display_data"
    }
   ],
   "source": [
    "multiclass_confusion_mat(test_conf, test_labels_conf, base_model_128D_l2)"
   ]
  },
  {
   "cell_type": "code",
   "execution_count": 71,
   "metadata": {
    "colab": {},
    "colab_type": "code",
    "id": "J0Fn6q2GLGsz"
   },
   "outputs": [],
   "source": [
    "# TAKING A BATCH of the TEST DATA\n",
    "test_batch, test_labels_batch = next(iter(test_ds_nbatch.batch(10)))"
   ]
  },
  {
   "cell_type": "code",
   "execution_count": 72,
   "metadata": {
    "colab": {
     "base_uri": "https://localhost:8080/",
     "height": 547
    },
    "colab_type": "code",
    "id": "zZqWOxdw56Nr",
    "outputId": "74857fa3-b754-4841-b8da-9ee498789ba5"
   },
   "outputs": [
    {
     "name": "stdout",
     "output_type": "stream",
     "text": [
      "The sentence is : b'A classic spider web (cobweb), as spun by a\\xf0\\x9f\\x95\\xb7\\xef\\xb8\\x8f Spiderto catch prey. Depicted as a white, symmetrical, wheel-shaped web, as anorb web,with six or eight equal sectors.Commonly used during Halloween, to represent the superheroSpider-Man, or for a metaphorical web, net, or network. Not to be confused with\\xe2\\x9d\\x84\\xef\\xb8\\x8f Snowflake.'\n",
      "The REAL CATEGORY is : Animals & Nature versus the PREDICTED CATEGORY : Travel & Places\n",
      "\n",
      "The sentence is : b'A bone which may be used for a dog to chew on, or as a part of the human body. The type of bone is not specified.'\n",
      "The REAL CATEGORY is : Body_parts versus the PREDICTED CATEGORY : Body_parts\n",
      "\n",
      "The sentence is : b'A golden-brown, crescent-shaped, vanilla-flavored fortune cookie. Usually depicted with a strip of paper\\xe2\\x80\\x94on which a wise saying, lucky numbers, orChinesevocabulary is written\\xe2\\x80\\x94peaking out of its hollow shell. Given at the end of meals at Chinese restaurants in the West.'\n",
      "The REAL CATEGORY is : Food & Drink versus the PREDICTED CATEGORY : Activities\n",
      "\n",
      "The sentence is : b'A chipmunk, a squirrel-like rodent with puffy cheeks. Depicted as a reddish-brown chipmunk in full profile facing left, sitting on its hind legs with a bushy tail and striped face and body. Generally holding an acorn or othernutin its forelimbs.Often used with an affectionate tone. May be used to represent a squirrel or related animals.Google\\xe2\\x80\\x99s chipmunk is looking forward, squinting with a buck tooth. Microsoft\\xe2\\x80\\x99spreviousblack-and-white design could be mistaken for askunk.'\n",
      "The REAL CATEGORY is : Animals & Nature versus the PREDICTED CATEGORY : Animals & Nature\n",
      "\n",
      "The sentence is : b'A loudspeaker used to make announcements in public areas such as schools, or sporting grounds.'\n",
      "The REAL CATEGORY is : Objects versus the PREDICTED CATEGORY : Symbols\n",
      "\n",
      "The sentence is : b'A colorful swirl of hard candy on a stick, called a lollipop. Color varies widely by platform: Google displaysrainbowcolors, Android shades of pink, and Samsung a candy-cane-colored pinwheel.\"Lollipop\"was the name ofversion 5 of Google\\'s Android operating system.'\n",
      "The REAL CATEGORY is : Food & Drink versus the PREDICTED CATEGORY : Food & Drink\n",
      "\n",
      "The sentence is : b'The flag forR\\xc3\\xa9union, which may show as the lettersREon some platforms.Shown as either theVolcano + Sunbeamsflag proposal by theVexillological Association of R\\xc3\\xa9union, or theblue, white, red stripes + four colored quadrantsproposal by theAssociation for the R\\xc3\\xa9union Flag.TheFlag For Franceis the official flag of R\\xc3\\xa9union. All local flags used are unofficial.The Flag: R\\xc3\\xa9union emoji is aflag sequencecombining\\xf0\\x9f\\x87\\xb7Regional Indicator Symbol Letter Rand\\xf0\\x9f\\x87\\xaaRegional Indicator Symbol Letter E.\\nThese display as a single emoji on supported platforms.'\n",
      "The REAL CATEGORY is : Flags versus the PREDICTED CATEGORY : Flags\n",
      "\n",
      "The sentence is : b'A medical syringe, as used to administer a shot or drawblood. Generally depicted at a 45\\xc2\\xb0 angle with a needle to the upper right, emitting two droplets of the red fluid in its barrel, as blood drawn for testing or donation at ahospital.Commonly used for content concerning health, medicine, and related professions as well as various senses of needles, drugs, and blood.GoogleandFacebook\\xe2\\x80\\x99sdesigns previously featured green liquids,Samsung\\xe2\\x80\\x99ssyringe was empty.'\n",
      "The REAL CATEGORY is : Objects versus the PREDICTED CATEGORY : Objects\n",
      "\n",
      "The sentence is : b'A heart with vibration / movement lines above it, indicating it is a beating heart. Displayed in pink or red on most platforms, this emoji is intended to be used as abeating heart representingeither life, or love.'\n",
      "The REAL CATEGORY is : Smileys & Emotion versus the PREDICTED CATEGORY : Smileys & Emotion\n",
      "\n",
      "The sentence is : b'A European-style post office. Apostal horncan be seen on the front, which is commonly found in the logos ofEuropean Postal Services.'\n",
      "The REAL CATEGORY is : Travel & Places versus the PREDICTED CATEGORY : Travel & Places\n",
      "\n"
     ]
    }
   ],
   "source": [
    "predict4_tfdataset(test_batch, test_labels_batch, base_model_128D_l2)"
   ]
  },
  {
   "cell_type": "markdown",
   "metadata": {
    "colab_type": "text",
    "id": "xPeOEa41O8iM"
   },
   "source": [
    "#### 2. L2 and Dropout with EarlyStopping"
   ]
  },
  {
   "cell_type": "code",
   "execution_count": 73,
   "metadata": {
    "colab": {
     "base_uri": "https://localhost:8080/",
     "height": 323
    },
    "colab_type": "code",
    "id": "no-JpEIhLHps",
    "outputId": "fc4bc07c-05da-43e7-b9d8-6a9c0bf5b7bd"
   },
   "outputs": [
    {
     "name": "stdout",
     "output_type": "stream",
     "text": [
      "Model: \"sequential_4\"\n",
      "_________________________________________________________________\n",
      "Layer (type)                 Output Shape              Param #   \n",
      "=================================================================\n",
      "keras_layer_1 (KerasLayer)   (None, 128)               124642688 \n",
      "_________________________________________________________________\n",
      "dropout (Dropout)            (None, 128)               0         \n",
      "_________________________________________________________________\n",
      "dense_8 (Dense)              (None, 100)               12900     \n",
      "_________________________________________________________________\n",
      "dropout_1 (Dropout)          (None, 100)               0         \n",
      "_________________________________________________________________\n",
      "dense_9 (Dense)              (None, 12)                1212      \n",
      "=================================================================\n",
      "Total params: 124,656,800\n",
      "Trainable params: 124,656,800\n",
      "Non-trainable params: 0\n",
      "_________________________________________________________________\n"
     ]
    }
   ],
   "source": [
    "base_model_128D_reg = models.Sequential()\n",
    "base_model_128D_reg.add(embedding_layer_128D)\n",
    "base_model_128D_reg.add(layers.Dropout(rate))\n",
    "base_model_128D_reg.add(layers.Dense(100,kernel_regularizer=l2(factor) ,activation=\"relu\"))\n",
    "base_model_128D_reg.add(layers.Dropout(rate))\n",
    "base_model_128D_reg.add(layers.Dense(12,kernel_regularizer=l2(factor) ,activation=\"softmax\"))\n",
    "base_model_128D_reg.summary()\n",
    "\n",
    "base_model_128D_reg.compile(\n",
    "    optimizer=\"adam\", \n",
    "    loss='sparse_categorical_crossentropy',\n",
    "    metrics=[\"accuracy\"])\n",
    "\n"
   ]
  },
  {
   "cell_type": "code",
   "execution_count": 74,
   "metadata": {
    "colab": {
     "base_uri": "https://localhost:8080/",
     "height": 459
    },
    "colab_type": "code",
    "id": "Tk-f7YRlltvo",
    "outputId": "c8ee9d87-5958-4ed4-adbc-66e984a69cb8"
   },
   "outputs": [
    {
     "name": "stdout",
     "output_type": "stream",
     "text": [
      "Epoch 1/30\n",
      "44/44 [==============================] - 44s 1s/step - loss: 1.9134 - accuracy: 0.5346 - val_loss: 0.0000e+00 - val_accuracy: 0.0000e+00\n",
      "Epoch 2/30\n",
      "44/44 [==============================] - 45s 1s/step - loss: 0.8857 - accuracy: 0.8901 - val_loss: 0.9635 - val_accuracy: 0.8034\n",
      "Epoch 3/30\n",
      "44/44 [==============================] - 40s 918ms/step - loss: 0.4662 - accuracy: 0.9672 - val_loss: 0.8055 - val_accuracy: 0.8319\n",
      "Epoch 4/30\n",
      "44/44 [==============================] - 38s 864ms/step - loss: 0.3111 - accuracy: 0.9893 - val_loss: 0.7435 - val_accuracy: 0.8319\n",
      "Epoch 5/30\n",
      "44/44 [==============================] - 43s 979ms/step - loss: 0.2583 - accuracy: 0.9964 - val_loss: 0.7095 - val_accuracy: 0.8348\n",
      "Epoch 6/30\n",
      "44/44 [==============================] - 42s 949ms/step - loss: 0.2277 - accuracy: 0.9964 - val_loss: 0.6917 - val_accuracy: 0.8319\n",
      "Epoch 7/30\n",
      "44/44 [==============================] - 39s 885ms/step - loss: 0.2143 - accuracy: 0.9986 - val_loss: 0.6750 - val_accuracy: 0.8376\n",
      "Epoch 8/30\n",
      "44/44 [==============================] - 38s 855ms/step - loss: 0.1991 - accuracy: 0.9986 - val_loss: 0.6632 - val_accuracy: 0.8376\n",
      "Epoch 9/30\n",
      "44/44 [==============================] - 37s 849ms/step - loss: 0.1879 - accuracy: 0.9993 - val_loss: 0.6519 - val_accuracy: 0.8405\n",
      "Epoch 10/30\n",
      "44/44 [==============================] - 37s 842ms/step - loss: 0.1832 - accuracy: 0.9979 - val_loss: 0.6463 - val_accuracy: 0.8376\n",
      "Epoch 11/30\n",
      "44/44 [==============================] - 37s 847ms/step - loss: 0.1759 - accuracy: 0.9979 - val_loss: 0.6397 - val_accuracy: 0.8405\n",
      "Epoch 12/30\n",
      "44/44 [==============================] - 37s 832ms/step - loss: 0.1670 - accuracy: 0.9993 - val_loss: 0.6344 - val_accuracy: 0.8433\n",
      "Epoch 13/30\n",
      "44/44 [==============================] - 39s 875ms/step - loss: 0.1622 - accuracy: 1.0000 - val_loss: 0.6294 - val_accuracy: 0.8462\n",
      "Epoch 14/30\n",
      "44/44 [==============================] - 43s 973ms/step - loss: 0.1556 - accuracy: 0.9993 - val_loss: 0.6216 - val_accuracy: 0.8405\n",
      "Epoch 15/30\n",
      "44/44 [==============================] - 40s 899ms/step - loss: 0.1500 - accuracy: 1.0000 - val_loss: 0.6176 - val_accuracy: 0.8348\n",
      "Epoch 16/30\n",
      "44/44 [==============================] - 40s 917ms/step - loss: 0.1457 - accuracy: 0.9993 - val_loss: 0.6128 - val_accuracy: 0.8376\n",
      "Epoch 17/30\n",
      "44/44 [==============================] - 39s 888ms/step - loss: 0.1423 - accuracy: 0.9986 - val_loss: 0.6070 - val_accuracy: 0.8433\n",
      "Epoch 18/30\n",
      "44/44 [==============================] - 38s 872ms/step - loss: 0.1382 - accuracy: 0.9993 - val_loss: 0.6015 - val_accuracy: 0.8490\n",
      "Epoch 19/30\n",
      "44/44 [==============================] - 39s 884ms/step - loss: 0.1328 - accuracy: 1.0000 - val_loss: 0.6022 - val_accuracy: 0.8348\n",
      "Epoch 20/30\n",
      "44/44 [==============================] - 41s 941ms/step - loss: 0.1285 - accuracy: 0.9993 - val_loss: 0.5925 - val_accuracy: 0.8405\n",
      "Epoch 21/30\n",
      "44/44 [==============================] - 37s 831ms/step - loss: 0.1233 - accuracy: 1.0000 - val_loss: 0.5922 - val_accuracy: 0.8462\n",
      "Epoch 22/30\n",
      "44/44 [==============================] - 42s 962ms/step - loss: 0.1215 - accuracy: 1.0000 - val_loss: 0.5909 - val_accuracy: 0.8405\n",
      "Epoch 23/30\n",
      "44/44 [==============================] - 39s 887ms/step - loss: 0.1173 - accuracy: 0.9993 - val_loss: 0.5941 - val_accuracy: 0.8490\n"
     ]
    }
   ],
   "source": [
    "# Applying Early Stopping\n",
    "base_history_128D_reg = base_model_128D_reg.fit(\n",
    "    train_data.cache().batch(32),\n",
    "    epochs=30,\n",
    "    validation_data=test_data.batch(32),\n",
    "    callbacks=[custom_early_stopping]\n",
    ")"
   ]
  },
  {
   "cell_type": "code",
   "execution_count": 75,
   "metadata": {
    "colab": {
     "base_uri": "https://localhost:8080/",
     "height": 515
    },
    "colab_type": "code",
    "id": "5LyZufHOPFAL",
    "outputId": "2ce46e6a-7a1f-4285-b3d5-8949ad9a7014"
   },
   "outputs": [
    {
     "data": {
      "image/png": "[encoded data removed]",
      "text/plain": [
       "<Figure size 432x288 with 1 Axes>"
      ]
     },
     "metadata": {
      "needs_background": "light"
     },
     "output_type": "display_data"
    },
    {
     "data": {
      "image/png": "[encoded data removed]",
      "text/plain": [
       "<Figure size 432x288 with 1 Axes>"
      ]
     },
     "metadata": {
      "needs_background": "light"
     },
     "output_type": "display_data"
    }
   ],
   "source": [
    "plot_history(base_history_128D_reg)"
   ]
  },
  {
   "cell_type": "code",
   "execution_count": 76,
   "metadata": {
    "colab": {
     "base_uri": "https://localhost:8080/",
     "height": 606
    },
    "colab_type": "code",
    "id": "adZ2BrNFKwXT",
    "outputId": "a9a79b36-b5a1-4de4-f106-6f6b5aa55cc5"
   },
   "outputs": [
    {
     "data": {
      "image/png": "[encoded data removed]",
      "text/plain": [
       "<Figure size 720x720 with 2 Axes>"
      ]
     },
     "metadata": {
      "needs_background": "light"
     },
     "output_type": "display_data"
    }
   ],
   "source": [
    "multiclass_confusion_mat(test_conf, test_labels_conf, base_model_128D_reg)"
   ]
  },
  {
   "cell_type": "code",
   "execution_count": 77,
   "metadata": {
    "colab": {
     "base_uri": "https://localhost:8080/",
     "height": 547
    },
    "colab_type": "code",
    "id": "orD4yUzFPEb3",
    "outputId": "f4e4d964-38c8-4fef-a25f-5142ad1a56b2"
   },
   "outputs": [
    {
     "name": "stdout",
     "output_type": "stream",
     "text": [
      "The sentence is : b'A classic spider web (cobweb), as spun by a\\xf0\\x9f\\x95\\xb7\\xef\\xb8\\x8f Spiderto catch prey. Depicted as a white, symmetrical, wheel-shaped web, as anorb web,with six or eight equal sectors.Commonly used during Halloween, to represent the superheroSpider-Man, or for a metaphorical web, net, or network. Not to be confused with\\xe2\\x9d\\x84\\xef\\xb8\\x8f Snowflake.'\n",
      "The REAL CATEGORY is : Animals & Nature versus the PREDICTED CATEGORY : Travel & Places\n",
      "\n",
      "The sentence is : b'A bone which may be used for a dog to chew on, or as a part of the human body. The type of bone is not specified.'\n",
      "The REAL CATEGORY is : Body_parts versus the PREDICTED CATEGORY : Body_parts\n",
      "\n",
      "The sentence is : b'A golden-brown, crescent-shaped, vanilla-flavored fortune cookie. Usually depicted with a strip of paper\\xe2\\x80\\x94on which a wise saying, lucky numbers, orChinesevocabulary is written\\xe2\\x80\\x94peaking out of its hollow shell. Given at the end of meals at Chinese restaurants in the West.'\n",
      "The REAL CATEGORY is : Food & Drink versus the PREDICTED CATEGORY : Activities\n",
      "\n",
      "The sentence is : b'A chipmunk, a squirrel-like rodent with puffy cheeks. Depicted as a reddish-brown chipmunk in full profile facing left, sitting on its hind legs with a bushy tail and striped face and body. Generally holding an acorn or othernutin its forelimbs.Often used with an affectionate tone. May be used to represent a squirrel or related animals.Google\\xe2\\x80\\x99s chipmunk is looking forward, squinting with a buck tooth. Microsoft\\xe2\\x80\\x99spreviousblack-and-white design could be mistaken for askunk.'\n",
      "The REAL CATEGORY is : Animals & Nature versus the PREDICTED CATEGORY : Animals & Nature\n",
      "\n",
      "The sentence is : b'A loudspeaker used to make announcements in public areas such as schools, or sporting grounds.'\n",
      "The REAL CATEGORY is : Objects versus the PREDICTED CATEGORY : Symbols\n",
      "\n",
      "The sentence is : b'A colorful swirl of hard candy on a stick, called a lollipop. Color varies widely by platform: Google displaysrainbowcolors, Android shades of pink, and Samsung a candy-cane-colored pinwheel.\"Lollipop\"was the name ofversion 5 of Google\\'s Android operating system.'\n",
      "The REAL CATEGORY is : Food & Drink versus the PREDICTED CATEGORY : Food & Drink\n",
      "\n",
      "The sentence is : b'The flag forR\\xc3\\xa9union, which may show as the lettersREon some platforms.Shown as either theVolcano + Sunbeamsflag proposal by theVexillological Association of R\\xc3\\xa9union, or theblue, white, red stripes + four colored quadrantsproposal by theAssociation for the R\\xc3\\xa9union Flag.TheFlag For Franceis the official flag of R\\xc3\\xa9union. All local flags used are unofficial.The Flag: R\\xc3\\xa9union emoji is aflag sequencecombining\\xf0\\x9f\\x87\\xb7Regional Indicator Symbol Letter Rand\\xf0\\x9f\\x87\\xaaRegional Indicator Symbol Letter E.\\nThese display as a single emoji on supported platforms.'\n",
      "The REAL CATEGORY is : Flags versus the PREDICTED CATEGORY : Flags\n",
      "\n",
      "The sentence is : b'A medical syringe, as used to administer a shot or drawblood. Generally depicted at a 45\\xc2\\xb0 angle with a needle to the upper right, emitting two droplets of the red fluid in its barrel, as blood drawn for testing or donation at ahospital.Commonly used for content concerning health, medicine, and related professions as well as various senses of needles, drugs, and blood.GoogleandFacebook\\xe2\\x80\\x99sdesigns previously featured green liquids,Samsung\\xe2\\x80\\x99ssyringe was empty.'\n",
      "The REAL CATEGORY is : Objects versus the PREDICTED CATEGORY : Objects\n",
      "\n",
      "The sentence is : b'A heart with vibration / movement lines above it, indicating it is a beating heart. Displayed in pink or red on most platforms, this emoji is intended to be used as abeating heart representingeither life, or love.'\n",
      "The REAL CATEGORY is : Smileys & Emotion versus the PREDICTED CATEGORY : Smileys & Emotion\n",
      "\n",
      "The sentence is : b'A European-style post office. Apostal horncan be seen on the front, which is commonly found in the logos ofEuropean Postal Services.'\n",
      "The REAL CATEGORY is : Travel & Places versus the PREDICTED CATEGORY : Travel & Places\n",
      "\n"
     ]
    }
   ],
   "source": [
    "predict4_tfdataset(test_batch, test_labels_batch, base_model_128D_reg)"
   ]
  },
  {
   "cell_type": "markdown",
   "metadata": {
    "colab_type": "text",
    "id": "eZ90U7rolibk"
   },
   "source": [
    "##### I. WITH DATA AUGMENTATION"
   ]
  },
  {
   "cell_type": "code",
   "execution_count": 78,
   "metadata": {
    "colab": {
     "base_uri": "https://localhost:8080/",
     "height": 323
    },
    "colab_type": "code",
    "id": "LgzDu8E-uHOK",
    "outputId": "537d1807-ba1e-488f-cb3c-5766bb264973"
   },
   "outputs": [
    {
     "name": "stdout",
     "output_type": "stream",
     "text": [
      "Model: \"sequential_5\"\n",
      "_________________________________________________________________\n",
      "Layer (type)                 Output Shape              Param #   \n",
      "=================================================================\n",
      "keras_layer_1 (KerasLayer)   (None, 128)               124642688 \n",
      "_________________________________________________________________\n",
      "dropout_2 (Dropout)          (None, 128)               0         \n",
      "_________________________________________________________________\n",
      "dense_10 (Dense)             (None, 100)               12900     \n",
      "_________________________________________________________________\n",
      "dropout_3 (Dropout)          (None, 100)               0         \n",
      "_________________________________________________________________\n",
      "dense_11 (Dense)             (None, 12)                1212      \n",
      "=================================================================\n",
      "Total params: 124,656,800\n",
      "Trainable params: 124,656,800\n",
      "Non-trainable params: 0\n",
      "_________________________________________________________________\n"
     ]
    }
   ],
   "source": [
    "base_model_128D_reg_augm = models.Sequential()\n",
    "base_model_128D_reg_augm.add(embedding_layer_128D)\n",
    "base_model_128D_reg_augm.add(layers.Dropout(rate))\n",
    "base_model_128D_reg_augm.add(layers.Dense(100,kernel_regularizer=l2(factor) ,activation=\"relu\"))\n",
    "base_model_128D_reg_augm.add(layers.Dropout(rate))\n",
    "base_model_128D_reg_augm.add(layers.Dense(12,kernel_regularizer=l2(factor) ,activation=\"softmax\"))\n",
    "base_model_128D_reg_augm.summary()\n",
    "\n",
    "base_model_128D_reg_augm.compile(\n",
    "    optimizer=\"adam\", \n",
    "    loss='sparse_categorical_crossentropy',\n",
    "    metrics=[\"accuracy\"])\n"
   ]
  },
  {
   "cell_type": "code",
   "execution_count": 79,
   "metadata": {
    "colab": {
     "base_uri": "https://localhost:8080/",
     "height": 527
    },
    "colab_type": "code",
    "id": "foxqnI7elazJ",
    "outputId": "64d359ad-d503-4b90-8c24-2026f1bd6bb3"
   },
   "outputs": [
    {
     "name": "stdout",
     "output_type": "stream",
     "text": [
      "Epoch 1/30\n",
      "77/77 [==============================] - 68s 889ms/step - loss: 1.4147 - accuracy: 0.6896 - val_loss: 0.0000e+00 - val_accuracy: 0.0000e+00\n",
      "Epoch 2/30\n",
      "77/77 [==============================] - 69s 900ms/step - loss: 0.4848 - accuracy: 0.9474 - val_loss: 0.5483 - val_accuracy: 0.8916\n",
      "Epoch 3/30\n",
      "77/77 [==============================] - 69s 892ms/step - loss: 0.3357 - accuracy: 0.9686 - val_loss: 0.4971 - val_accuracy: 0.8954\n",
      "Epoch 4/30\n",
      "77/77 [==============================] - 63s 817ms/step - loss: 0.2727 - accuracy: 0.9800 - val_loss: 0.4768 - val_accuracy: 0.8973\n",
      "Epoch 5/30\n",
      "77/77 [==============================] - 63s 820ms/step - loss: 0.2433 - accuracy: 0.9845 - val_loss: 0.4816 - val_accuracy: 0.9011\n",
      "Epoch 6/30\n",
      "77/77 [==============================] - 62s 809ms/step - loss: 0.2197 - accuracy: 0.9890 - val_loss: 0.4655 - val_accuracy: 0.9030\n",
      "Epoch 7/30\n",
      "77/77 [==============================] - 63s 815ms/step - loss: 0.2064 - accuracy: 0.9910 - val_loss: 0.4425 - val_accuracy: 0.9030\n",
      "Epoch 8/30\n",
      "77/77 [==============================] - 66s 852ms/step - loss: 0.1924 - accuracy: 0.9935 - val_loss: 0.4466 - val_accuracy: 0.8992\n",
      "Epoch 9/30\n",
      "77/77 [==============================] - 64s 831ms/step - loss: 0.1774 - accuracy: 0.9927 - val_loss: 0.4273 - val_accuracy: 0.9011\n",
      "Epoch 10/30\n",
      "77/77 [==============================] - 63s 819ms/step - loss: 0.1668 - accuracy: 0.9939 - val_loss: 0.4343 - val_accuracy: 0.8973\n",
      "Epoch 11/30\n",
      "77/77 [==============================] - 63s 815ms/step - loss: 0.1582 - accuracy: 0.9947 - val_loss: 0.4192 - val_accuracy: 0.9011\n"
     ]
    }
   ],
   "source": [
    "# Applying Early Stopping\n",
    "base_history_128D_reg_augm = base_model_128D_reg_augm.fit(\n",
    "    train_data_augm.cache().batch(32),\n",
    "    epochs=30,\n",
    "    validation_data=test_data_augm.batch(32),\n",
    "    callbacks=[custom_early_stopping]\n",
    ")"
   ]
  },
  {
   "cell_type": "code",
   "execution_count": 80,
   "metadata": {
    "colab": {
     "base_uri": "https://localhost:8080/",
     "height": 513
    },
    "colab_type": "code",
    "id": "m9okAAEmlbIM",
    "outputId": "0e008f67-e5ab-483f-c295-90f0b298ae87"
   },
   "outputs": [
    {
     "data": {
      "image/png": "[encoded data removed]",
      "text/plain": [
       "<Figure size 432x288 with 1 Axes>"
      ]
     },
     "metadata": {
      "needs_background": "light"
     },
     "output_type": "display_data"
    },
    {
     "data": {
      "image/png": "[encoded data removed]",
      "text/plain": [
       "<Figure size 432x288 with 1 Axes>"
      ]
     },
     "metadata": {
      "needs_background": "light"
     },
     "output_type": "display_data"
    }
   ],
   "source": [
    "plot_history(base_history_128D_reg_augm)"
   ]
  },
  {
   "cell_type": "code",
   "execution_count": 81,
   "metadata": {
    "colab": {
     "base_uri": "https://localhost:8080/",
     "height": 606
    },
    "colab_type": "code",
    "id": "RoWSq_-Zla_h",
    "outputId": "901745c5-936f-4d91-89b8-249cedb1f3f9"
   },
   "outputs": [
    {
     "data": {
      "image/png": "[encoded data removed]",
      "text/plain": [
       "<Figure size 720x720 with 2 Axes>"
      ]
     },
     "metadata": {
      "needs_background": "light"
     },
     "output_type": "display_data"
    }
   ],
   "source": [
    "multiclass_confusion_mat(test_conf_augm, test_labels_conf_augm, base_model_128D_reg_augm)"
   ]
  },
  {
   "cell_type": "code",
   "execution_count": 82,
   "metadata": {
    "colab": {
     "base_uri": "https://localhost:8080/",
     "height": 547
    },
    "colab_type": "code",
    "id": "RplPaUFElakH",
    "outputId": "5715e9df-5edf-48f4-d616-e9f523139b59"
   },
   "outputs": [
    {
     "name": "stdout",
     "output_type": "stream",
     "text": [
      "The sentence is : b'A classic spider web (cobweb), as spun by a\\xf0\\x9f\\x95\\xb7\\xef\\xb8\\x8f Spiderto catch prey. Depicted as a white, symmetrical, wheel-shaped web, as anorb web,with six or eight equal sectors.Commonly used during Halloween, to represent the superheroSpider-Man, or for a metaphorical web, net, or network. Not to be confused with\\xe2\\x9d\\x84\\xef\\xb8\\x8f Snowflake.'\n",
      "The REAL CATEGORY is : Animals & Nature versus the PREDICTED CATEGORY : Travel & Places\n",
      "\n",
      "The sentence is : b'A bone which may be used for a dog to chew on, or as a part of the human body. The type of bone is not specified.'\n",
      "The REAL CATEGORY is : Body_parts versus the PREDICTED CATEGORY : Body_parts\n",
      "\n",
      "The sentence is : b'A golden-brown, crescent-shaped, vanilla-flavored fortune cookie. Usually depicted with a strip of paper\\xe2\\x80\\x94on which a wise saying, lucky numbers, orChinesevocabulary is written\\xe2\\x80\\x94peaking out of its hollow shell. Given at the end of meals at Chinese restaurants in the West.'\n",
      "The REAL CATEGORY is : Food & Drink versus the PREDICTED CATEGORY : Activities\n",
      "\n",
      "The sentence is : b'A chipmunk, a squirrel-like rodent with puffy cheeks. Depicted as a reddish-brown chipmunk in full profile facing left, sitting on its hind legs with a bushy tail and striped face and body. Generally holding an acorn or othernutin its forelimbs.Often used with an affectionate tone. May be used to represent a squirrel or related animals.Google\\xe2\\x80\\x99s chipmunk is looking forward, squinting with a buck tooth. Microsoft\\xe2\\x80\\x99spreviousblack-and-white design could be mistaken for askunk.'\n",
      "The REAL CATEGORY is : Animals & Nature versus the PREDICTED CATEGORY : Animals & Nature\n",
      "\n",
      "The sentence is : b'A loudspeaker used to make announcements in public areas such as schools, or sporting grounds.'\n",
      "The REAL CATEGORY is : Objects versus the PREDICTED CATEGORY : Symbols\n",
      "\n",
      "The sentence is : b'A colorful swirl of hard candy on a stick, called a lollipop. Color varies widely by platform: Google displaysrainbowcolors, Android shades of pink, and Samsung a candy-cane-colored pinwheel.\"Lollipop\"was the name ofversion 5 of Google\\'s Android operating system.'\n",
      "The REAL CATEGORY is : Food & Drink versus the PREDICTED CATEGORY : Food & Drink\n",
      "\n",
      "The sentence is : b'The flag forR\\xc3\\xa9union, which may show as the lettersREon some platforms.Shown as either theVolcano + Sunbeamsflag proposal by theVexillological Association of R\\xc3\\xa9union, or theblue, white, red stripes + four colored quadrantsproposal by theAssociation for the R\\xc3\\xa9union Flag.TheFlag For Franceis the official flag of R\\xc3\\xa9union. All local flags used are unofficial.The Flag: R\\xc3\\xa9union emoji is aflag sequencecombining\\xf0\\x9f\\x87\\xb7Regional Indicator Symbol Letter Rand\\xf0\\x9f\\x87\\xaaRegional Indicator Symbol Letter E.\\nThese display as a single emoji on supported platforms.'\n",
      "The REAL CATEGORY is : Flags versus the PREDICTED CATEGORY : Flags\n",
      "\n",
      "The sentence is : b'A medical syringe, as used to administer a shot or drawblood. Generally depicted at a 45\\xc2\\xb0 angle with a needle to the upper right, emitting two droplets of the red fluid in its barrel, as blood drawn for testing or donation at ahospital.Commonly used for content concerning health, medicine, and related professions as well as various senses of needles, drugs, and blood.GoogleandFacebook\\xe2\\x80\\x99sdesigns previously featured green liquids,Samsung\\xe2\\x80\\x99ssyringe was empty.'\n",
      "The REAL CATEGORY is : Objects versus the PREDICTED CATEGORY : Objects\n",
      "\n",
      "The sentence is : b'A heart with vibration / movement lines above it, indicating it is a beating heart. Displayed in pink or red on most platforms, this emoji is intended to be used as abeating heart representingeither life, or love.'\n",
      "The REAL CATEGORY is : Smileys & Emotion versus the PREDICTED CATEGORY : Smileys & Emotion\n",
      "\n",
      "The sentence is : b'A European-style post office. Apostal horncan be seen on the front, which is commonly found in the logos ofEuropean Postal Services.'\n",
      "The REAL CATEGORY is : Travel & Places versus the PREDICTED CATEGORY : Travel & Places\n",
      "\n"
     ]
    }
   ],
   "source": [
    "predict4_tfdataset(test_batch, test_labels_batch, base_model_128D_reg)"
   ]
  },
  {
   "cell_type": "markdown",
   "metadata": {
    "colab_type": "text",
    "id": "QXX7UTjdlZu6"
   },
   "source": []
  },
  {
   "cell_type": "markdown",
   "metadata": {
    "colab_type": "text",
    "id": "eIeuLztGbJ3n"
   },
   "source": [
    "#### II. Trying with less units in the Dense Layer as still overfitting"
   ]
  },
  {
   "cell_type": "code",
   "execution_count": 83,
   "metadata": {
    "colab": {
     "base_uri": "https://localhost:8080/",
     "height": 867
    },
    "colab_type": "code",
    "id": "RvcC2EqX55-8",
    "outputId": "37467748-2d5d-4ba2-94c3-c463730a910d"
   },
   "outputs": [
    {
     "name": "stdout",
     "output_type": "stream",
     "text": [
      "Model: \"sequential_6\"\n",
      "_________________________________________________________________\n",
      "Layer (type)                 Output Shape              Param #   \n",
      "=================================================================\n",
      "keras_layer_1 (KerasLayer)   (None, 128)               124642688 \n",
      "_________________________________________________________________\n",
      "dropout_4 (Dropout)          (None, 128)               0         \n",
      "_________________________________________________________________\n",
      "dense_12 (Dense)             (None, 40)                5160      \n",
      "_________________________________________________________________\n",
      "dropout_5 (Dropout)          (None, 40)                0         \n",
      "_________________________________________________________________\n",
      "dense_13 (Dense)             (None, 12)                492       \n",
      "=================================================================\n",
      "Total params: 124,648,340\n",
      "Trainable params: 124,648,340\n",
      "Non-trainable params: 0\n",
      "_________________________________________________________________\n",
      "Epoch 1/30\n",
      "44/44 [==============================] - 36s 826ms/step - loss: 1.9241 - accuracy: 0.4554 - val_loss: 0.0000e+00 - val_accuracy: 0.0000e+00\n",
      "Epoch 2/30\n",
      "44/44 [==============================] - 35s 807ms/step - loss: 0.9672 - accuracy: 0.8323 - val_loss: 0.9883 - val_accuracy: 0.7892\n",
      "Epoch 3/30\n",
      "44/44 [==============================] - 36s 813ms/step - loss: 0.5254 - accuracy: 0.9415 - val_loss: 0.8012 - val_accuracy: 0.8148\n",
      "Epoch 4/30\n",
      "44/44 [==============================] - 2218s 50s/step - loss: 0.3545 - accuracy: 0.9686 - val_loss: 0.7176 - val_accuracy: 0.8348\n",
      "Epoch 5/30\n",
      "44/44 [==============================] - 86s 2s/step - loss: 0.2622 - accuracy: 0.9893 - val_loss: 0.6724 - val_accuracy: 0.8319\n",
      "Epoch 6/30\n",
      "44/44 [==============================] - 85s 2s/step - loss: 0.2310 - accuracy: 0.9872 - val_loss: 0.6456 - val_accuracy: 0.8319\n",
      "Epoch 7/30\n",
      "44/44 [==============================] - 83s 2s/step - loss: 0.1995 - accuracy: 0.9929 - val_loss: 0.6259 - val_accuracy: 0.8376\n",
      "Epoch 8/30\n",
      "44/44 [==============================] - 83s 2s/step - loss: 0.1892 - accuracy: 0.9936 - val_loss: 0.6148 - val_accuracy: 0.8433\n",
      "Epoch 9/30\n",
      "44/44 [==============================] - 81s 2s/step - loss: 0.1780 - accuracy: 0.9936 - val_loss: 0.6094 - val_accuracy: 0.8319\n",
      "Epoch 10/30\n",
      "44/44 [==============================] - 85s 2s/step - loss: 0.1657 - accuracy: 0.9964 - val_loss: 0.5991 - val_accuracy: 0.8376\n",
      "Epoch 11/30\n",
      "44/44 [==============================] - 83s 2s/step - loss: 0.1592 - accuracy: 0.9964 - val_loss: 0.5913 - val_accuracy: 0.8376\n",
      "Epoch 12/30\n",
      "44/44 [==============================] - 84s 2s/step - loss: 0.1546 - accuracy: 0.9979 - val_loss: 0.5908 - val_accuracy: 0.8348\n",
      "Epoch 13/30\n",
      "44/44 [==============================] - 44s 995ms/step - loss: 0.1479 - accuracy: 0.9979 - val_loss: 0.5836 - val_accuracy: 0.8433\n"
     ]
    }
   ],
   "source": [
    "base_model_128D_reg_less = models.Sequential()\n",
    "base_model_128D_reg_less.add(embedding_layer_128D)\n",
    "base_model_128D_reg_less.add(layers.Dropout(rate))\n",
    "# REDUCING THE AMOUNT OF UNITS IN HIDDEN LAYER\n",
    "base_model_128D_reg_less.add(layers.Dense(40,kernel_regularizer=l2(factor) ,activation=\"relu\"))\n",
    "base_model_128D_reg_less.add(layers.Dropout(rate))\n",
    "base_model_128D_reg_less.add(layers.Dense(12,kernel_regularizer=l2(factor) ,activation=\"softmax\"))\n",
    "base_model_128D_reg_less.summary()\n",
    "\n",
    "base_model_128D_reg_less.compile(\n",
    "    optimizer=\"adam\", \n",
    "    loss='sparse_categorical_crossentropy',\n",
    "    metrics=[\"accuracy\"])\n",
    "\n",
    "# Applying Early Stopping\n",
    "base_history_128D_reg_less = base_model_128D_reg_less.fit(\n",
    "    train_data.cache().batch(32),\n",
    "    epochs=30,\n",
    "    validation_data=test_data.batch(32),\n",
    "    callbacks=[custom_early_stopping]\n",
    ")"
   ]
  },
  {
   "cell_type": "code",
   "execution_count": 84,
   "metadata": {
    "colab": {
     "base_uri": "https://localhost:8080/",
     "height": 513
    },
    "colab_type": "code",
    "id": "eFWVqOeXTIr2",
    "outputId": "6f8a02d9-86f1-46a4-b167-5ca6ce438962"
   },
   "outputs": [
    {
     "data": {
      "image/png": "[encoded data removed]",
      "text/plain": [
       "<Figure size 432x288 with 1 Axes>"
      ]
     },
     "metadata": {
      "needs_background": "light"
     },
     "output_type": "display_data"
    },
    {
     "data": {
      "image/png": "[encoded data removed]",
      "text/plain": [
       "<Figure size 432x288 with 1 Axes>"
      ]
     },
     "metadata": {
      "needs_background": "light"
     },
     "output_type": "display_data"
    }
   ],
   "source": [
    "plot_history(base_history_128D_reg_less)"
   ]
  },
  {
   "cell_type": "code",
   "execution_count": 85,
   "metadata": {
    "colab": {
     "base_uri": "https://localhost:8080/",
     "height": 547
    },
    "colab_type": "code",
    "id": "al2kf_BmbiZe",
    "outputId": "732782c0-22b9-483c-c159-7f59256c7503"
   },
   "outputs": [
    {
     "name": "stdout",
     "output_type": "stream",
     "text": [
      "The sentence is : b'A classic spider web (cobweb), as spun by a\\xf0\\x9f\\x95\\xb7\\xef\\xb8\\x8f Spiderto catch prey. Depicted as a white, symmetrical, wheel-shaped web, as anorb web,with six or eight equal sectors.Commonly used during Halloween, to represent the superheroSpider-Man, or for a metaphorical web, net, or network. Not to be confused with\\xe2\\x9d\\x84\\xef\\xb8\\x8f Snowflake.'\n",
      "The REAL CATEGORY is : Animals & Nature versus the PREDICTED CATEGORY : Travel & Places\n",
      "\n",
      "The sentence is : b'A bone which may be used for a dog to chew on, or as a part of the human body. The type of bone is not specified.'\n",
      "The REAL CATEGORY is : Body_parts versus the PREDICTED CATEGORY : Body_parts\n",
      "\n",
      "The sentence is : b'A golden-brown, crescent-shaped, vanilla-flavored fortune cookie. Usually depicted with a strip of paper\\xe2\\x80\\x94on which a wise saying, lucky numbers, orChinesevocabulary is written\\xe2\\x80\\x94peaking out of its hollow shell. Given at the end of meals at Chinese restaurants in the West.'\n",
      "The REAL CATEGORY is : Food & Drink versus the PREDICTED CATEGORY : Activities\n",
      "\n",
      "The sentence is : b'A chipmunk, a squirrel-like rodent with puffy cheeks. Depicted as a reddish-brown chipmunk in full profile facing left, sitting on its hind legs with a bushy tail and striped face and body. Generally holding an acorn or othernutin its forelimbs.Often used with an affectionate tone. May be used to represent a squirrel or related animals.Google\\xe2\\x80\\x99s chipmunk is looking forward, squinting with a buck tooth. Microsoft\\xe2\\x80\\x99spreviousblack-and-white design could be mistaken for askunk.'\n",
      "The REAL CATEGORY is : Animals & Nature versus the PREDICTED CATEGORY : Animals & Nature\n",
      "\n",
      "The sentence is : b'A loudspeaker used to make announcements in public areas such as schools, or sporting grounds.'\n",
      "The REAL CATEGORY is : Objects versus the PREDICTED CATEGORY : Symbols\n",
      "\n",
      "The sentence is : b'A colorful swirl of hard candy on a stick, called a lollipop. Color varies widely by platform: Google displaysrainbowcolors, Android shades of pink, and Samsung a candy-cane-colored pinwheel.\"Lollipop\"was the name ofversion 5 of Google\\'s Android operating system.'\n",
      "The REAL CATEGORY is : Food & Drink versus the PREDICTED CATEGORY : Food & Drink\n",
      "\n",
      "The sentence is : b'The flag forR\\xc3\\xa9union, which may show as the lettersREon some platforms.Shown as either theVolcano + Sunbeamsflag proposal by theVexillological Association of R\\xc3\\xa9union, or theblue, white, red stripes + four colored quadrantsproposal by theAssociation for the R\\xc3\\xa9union Flag.TheFlag For Franceis the official flag of R\\xc3\\xa9union. All local flags used are unofficial.The Flag: R\\xc3\\xa9union emoji is aflag sequencecombining\\xf0\\x9f\\x87\\xb7Regional Indicator Symbol Letter Rand\\xf0\\x9f\\x87\\xaaRegional Indicator Symbol Letter E.\\nThese display as a single emoji on supported platforms.'\n",
      "The REAL CATEGORY is : Flags versus the PREDICTED CATEGORY : Flags\n",
      "\n",
      "The sentence is : b'A medical syringe, as used to administer a shot or drawblood. Generally depicted at a 45\\xc2\\xb0 angle with a needle to the upper right, emitting two droplets of the red fluid in its barrel, as blood drawn for testing or donation at ahospital.Commonly used for content concerning health, medicine, and related professions as well as various senses of needles, drugs, and blood.GoogleandFacebook\\xe2\\x80\\x99sdesigns previously featured green liquids,Samsung\\xe2\\x80\\x99ssyringe was empty.'\n",
      "The REAL CATEGORY is : Objects versus the PREDICTED CATEGORY : Objects\n",
      "\n",
      "The sentence is : b'A heart with vibration / movement lines above it, indicating it is a beating heart. Displayed in pink or red on most platforms, this emoji is intended to be used as abeating heart representingeither life, or love.'\n",
      "The REAL CATEGORY is : Smileys & Emotion versus the PREDICTED CATEGORY : Smileys & Emotion\n",
      "\n",
      "The sentence is : b'A European-style post office. Apostal horncan be seen on the front, which is commonly found in the logos ofEuropean Postal Services.'\n",
      "The REAL CATEGORY is : Travel & Places versus the PREDICTED CATEGORY : Travel & Places\n",
      "\n"
     ]
    }
   ],
   "source": [
    "predict4_tfdataset(test_batch, test_labels_batch, base_model_128D_reg_less)"
   ]
  },
  {
   "cell_type": "code",
   "execution_count": null,
   "metadata": {
    "colab": {},
    "colab_type": "code",
    "id": "f_PeJBXMGeMK"
   },
   "outputs": [],
   "source": []
  }
 ],
 "metadata": {
  "colab": {
   "name": "DeepLexia_TensorFlowHub.ipynb",
   "provenance": []
  },
  "kernelspec": {
   "display_name": "Python 3",
   "language": "python",
   "name": "python3"
  },
  "language_info": {
   "codemirror_mode": {
    "name": "ipython",
    "version": 3
   },
   "file_extension": ".py",
   "mimetype": "text/x-python",
   "name": "python",
   "nbconvert_exporter": "python",
   "pygments_lexer": "ipython3",
   "version": "3.7.7"
  }
 },
 "nbformat": 4,
 "nbformat_minor": 4
}
