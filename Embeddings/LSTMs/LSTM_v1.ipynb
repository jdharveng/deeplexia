{
 "cells": [
  {
   "cell_type": "markdown",
   "metadata": {},
   "source": [
    "# LSTM V1"
   ]
  },
  {
   "cell_type": "markdown",
   "metadata": {},
   "source": [
    "This is a test training an embedding layer, Bidirectional LSTM and one dense layer entirely from scratch starting with random initializations. The performance is suboptimal showing that it makes more sense to use pretrained document embeddings from TensorFlow Hub rather than training an LSTM from scratch. This is mainly due to the limited dataset; with more labeled data, this approach could be used. "
   ]
  },
  {
   "cell_type": "code",
   "execution_count": 1,
   "metadata": {},
   "outputs": [],
   "source": [
    "import numpy as np\n",
    "import pandas as pd\n",
    "import pickle\n",
    "import matplotlib.pyplot as plt\n",
    "from sklearn.model_selection import train_test_split\n",
    "import tensorflow as tf\n",
    "from tensorflow.keras.preprocessing import sequence, text\n",
    "from tensorflow.keras import models, layers\n",
    "from LSTM_functions import text_to_seq, plot_history, preprocess_sentence, prediction_table, prediction\n",
    "from tensorflow.keras.models import load_model \n",
    "import warnings\n",
    "warnings.filterwarnings('ignore')"
   ]
  },
  {
   "cell_type": "code",
   "execution_count": 2,
   "metadata": {},
   "outputs": [],
   "source": [
    "with open('features.pkl', 'rb') as f:\n",
    "    features = pickle.load(f)\n",
    "\n",
    "with open('labels.pkl', 'rb') as f:\n",
    "    labels = pickle.load(f)\n",
    "    \n",
    "X_train_raw, X_test_raw, y_train, y_test = train_test_split(features, labels, test_size = 0.33, random_state=42)"
   ]
  },
  {
   "cell_type": "code",
   "execution_count": 3,
   "metadata": {},
   "outputs": [
    {
     "data": {
      "text/plain": [
       "array(['theirger samsungesignpreviously featuredstylized  white swords on',\n",
       "       'pole when not applied to childrenay ',\n",
       "       'found aroundtropicallocations ', ...,\n",
       "       ' andchinesecabbage likebok choy  as commonly',\n",
       "       'such as nauseated face appearing as if',\n",
       "       ' as used in playing classic arcade'], dtype=object)"
      ]
     },
     "execution_count": 3,
     "metadata": {},
     "output_type": "execute_result"
    }
   ],
   "source": [
    "X_train_raw"
   ]
  },
  {
   "cell_type": "code",
   "execution_count": 4,
   "metadata": {},
   "outputs": [],
   "source": [
    "sequence_length=7\n",
    "vocab=5000\n",
    "# use this function to convert the sentences into a sequences of indices \n",
    "X_train, X_test, tokenizer = text_to_seq(X_train_raw, X_test_raw, max_length=sequence_length, vocab=vocab)"
   ]
  },
  {
   "cell_type": "code",
   "execution_count": 5,
   "metadata": {},
   "outputs": [],
   "source": [
    "train_data = tf.data.Dataset.from_tensor_slices((X_train, y_train)).cache()\n",
    "test_data = tf.data.Dataset.from_tensor_slices((X_test, y_test)).cache()"
   ]
  },
  {
   "cell_type": "code",
   "execution_count": 6,
   "metadata": {},
   "outputs": [
    {
     "name": "stdout",
     "output_type": "stream",
     "text": [
      "Model: \"sequential\"\n",
      "_________________________________________________________________\n",
      "Layer (type)                 Output Shape              Param #   \n",
      "=================================================================\n",
      "embedding (Embedding)        (None, 7, 100)            500000    \n",
      "_________________________________________________________________\n",
      "bidirectional (Bidirectional (None, 64)                34048     \n",
      "_________________________________________________________________\n",
      "dropout (Dropout)            (None, 64)                0         \n",
      "_________________________________________________________________\n",
      "dense (Dense)                (None, 12)                780       \n",
      "=================================================================\n",
      "Total params: 534,828\n",
      "Trainable params: 534,828\n",
      "Non-trainable params: 0\n",
      "_________________________________________________________________\n",
      "Epoch 1/20\n",
      "247/247 [==============================] - 5s 21ms/step - loss: 2.0958 - accuracy: 0.3403 - val_loss: 0.0000e+00 - val_accuracy: 0.0000e+00\n",
      "Epoch 2/20\n",
      "247/247 [==============================] - 2s 7ms/step - loss: 1.4443 - accuracy: 0.5634 - val_loss: 1.4007 - val_accuracy: 0.5701\n",
      "Epoch 3/20\n",
      "247/247 [==============================] - 2s 7ms/step - loss: 1.0871 - accuracy: 0.6855 - val_loss: 1.3265 - val_accuracy: 0.6085\n",
      "Epoch 4/20\n",
      "247/247 [==============================] - 2s 8ms/step - loss: 0.8675 - accuracy: 0.7702 - val_loss: 1.3409 - val_accuracy: 0.6168\n",
      "Epoch 5/20\n",
      "247/247 [==============================] - 2s 8ms/step - loss: 0.7521 - accuracy: 0.8162 - val_loss: 1.3691 - val_accuracy: 0.6204\n",
      "Epoch 6/20\n",
      "247/247 [==============================] - 2s 8ms/step - loss: 0.6670 - accuracy: 0.8502 - val_loss: 1.3829 - val_accuracy: 0.6309\n",
      "Epoch 7/20\n",
      "247/247 [==============================] - 2s 8ms/step - loss: 0.6015 - accuracy: 0.8704 - val_loss: 1.3957 - val_accuracy: 0.6299\n",
      "Epoch 8/20\n",
      "247/247 [==============================] - 2s 9ms/step - loss: 0.5579 - accuracy: 0.8833 - val_loss: 1.4043 - val_accuracy: 0.6309\n",
      "Epoch 9/20\n",
      "247/247 [==============================] - 2s 8ms/step - loss: 0.5242 - accuracy: 0.8936 - val_loss: 1.4136 - val_accuracy: 0.6384\n",
      "Epoch 10/20\n",
      "247/247 [==============================] - 2s 9ms/step - loss: 0.4958 - accuracy: 0.9013 - val_loss: 1.4167 - val_accuracy: 0.6345\n",
      "Epoch 11/20\n",
      "247/247 [==============================] - 2s 9ms/step - loss: 0.4700 - accuracy: 0.9087 - val_loss: 1.4246 - val_accuracy: 0.6335\n",
      "Epoch 12/20\n",
      "247/247 [==============================] - 2s 8ms/step - loss: 0.4550 - accuracy: 0.9115 - val_loss: 1.4401 - val_accuracy: 0.6284\n",
      "Epoch 13/20\n",
      "247/247 [==============================] - 2s 9ms/step - loss: 0.4363 - accuracy: 0.9133 - val_loss: 1.4426 - val_accuracy: 0.6330\n",
      "Epoch 14/20\n",
      "247/247 [==============================] - 2s 10ms/step - loss: 0.4233 - accuracy: 0.9214 - val_loss: 1.4525 - val_accuracy: 0.6358\n",
      "Epoch 15/20\n",
      "247/247 [==============================] - 2s 9ms/step - loss: 0.4083 - accuracy: 0.9236 - val_loss: 1.4577 - val_accuracy: 0.6351\n",
      "Epoch 16/20\n",
      "247/247 [==============================] - 2s 9ms/step - loss: 0.3996 - accuracy: 0.9267 - val_loss: 1.4519 - val_accuracy: 0.6363\n",
      "Epoch 17/20\n",
      "247/247 [==============================] - 2s 9ms/step - loss: 0.3909 - accuracy: 0.9284 - val_loss: 1.4485 - val_accuracy: 0.6361\n",
      "Epoch 18/20\n",
      "247/247 [==============================] - 2s 9ms/step - loss: 0.3834 - accuracy: 0.9292 - val_loss: 1.4638 - val_accuracy: 0.6340\n",
      "Epoch 19/20\n",
      "247/247 [==============================] - 2s 9ms/step - loss: 0.3741 - accuracy: 0.9314 - val_loss: 1.4582 - val_accuracy: 0.6369\n",
      "Epoch 20/20\n",
      "247/247 [==============================] - 2s 9ms/step - loss: 0.3650 - accuracy: 0.9338 - val_loss: 1.4553 - val_accuracy: 0.6381\n"
     ]
    }
   ],
   "source": [
    "embedding_size = 100 # we use 100 to compare with the LSTM initializing with glove embeddings (LSTM_v2)\n",
    "emoji_clusters=12\n",
    "\n",
    "model = models.Sequential()\n",
    "\n",
    "model.add(layers.Embedding(\n",
    "    vocab, \n",
    "    embedding_size,\n",
    "    input_length=sequence_length\n",
    "))\n",
    "\n",
    "model.add(layers.Bidirectional(layers.LSTM(32)))\n",
    "model.add(layers.Dropout(.2))\n",
    "model.add(layers.Dense(emoji_clusters, activation='softmax', kernel_regularizer='l2'))\n",
    "model.summary()\n",
    "\n",
    "model.compile(\n",
    "    optimizer='adam',\n",
    "    loss='sparse_categorical_crossentropy',\n",
    "    metrics=['accuracy']\n",
    ")\n",
    "\n",
    "# Comment out this section to avoid training from scratch \n",
    "\n",
    "history = model.fit(\n",
    "    train_data.shuffle(100).batch(32),\n",
    "    epochs=20,\n",
    "    validation_data = test_data.batch(32)\n",
    ")\n",
    "\n",
    "model.save('model_LSTM_1.h5')"
   ]
  },
  {
   "cell_type": "code",
   "execution_count": 7,
   "metadata": {},
   "outputs": [
    {
     "data": {
      "image/png": "[encoded data removed]",
      "text/plain": [
       "<Figure size 432x288 with 1 Axes>"
      ]
     },
     "metadata": {
      "needs_background": "light"
     },
     "output_type": "display_data"
    },
    {
     "data": {
      "image/png": "[encoded data removed]",
      "text/plain": [
       "<Figure size 432x288 with 1 Axes>"
      ]
     },
     "metadata": {
      "needs_background": "light"
     },
     "output_type": "display_data"
    }
   ],
   "source": [
    "plot_history(model.history)"
   ]
  },
  {
   "cell_type": "markdown",
   "metadata": {},
   "source": [
    "## Testing the model with custom input"
   ]
  },
  {
   "cell_type": "code",
   "execution_count": 8,
   "metadata": {},
   "outputs": [],
   "source": [
    "model = load_model('model_LSTM_1.h5')"
   ]
  },
  {
   "cell_type": "code",
   "execution_count": 9,
   "metadata": {},
   "outputs": [
    {
     "data": {
      "text/plain": [
       "'Travel & Places'"
      ]
     },
     "execution_count": 9,
     "metadata": {},
     "output_type": "execute_result"
    }
   ],
   "source": [
    "test_text = \"Hot weather and sunshine\"\n",
    "pre_sentence = preprocess_sentence(test_text, tokenizer) # the sentence cannot be two words else it doesn't work\n",
    "prediction(pre_sentence, model)"
   ]
  },
  {
   "cell_type": "code",
   "execution_count": 10,
   "metadata": {},
   "outputs": [
    {
     "name": "stdout",
     "output_type": "stream",
     "text": [
      "+-----------------+-------------+\n",
      "|     Category    | Probability |\n",
      "+-----------------+-------------+\n",
      "| Travel & Places |    97.82%   |\n",
      "|    Activities   |    0.49%    |\n",
      "|    Body_parts   |    0.37%    |\n",
      "+-----------------+-------------+\n"
     ]
    }
   ],
   "source": [
    "prediction_table(pre_sentence, model)"
   ]
  }
 ],
 "metadata": {
  "kernelspec": {
   "display_name": "Python 3",
   "language": "python",
   "name": "python3"
  },
  "language_info": {
   "codemirror_mode": {
    "name": "ipython",
    "version": 3
   },
   "file_extension": ".py",
   "mimetype": "text/x-python",
   "name": "python",
   "nbconvert_exporter": "python",
   "pygments_lexer": "ipython3",
   "version": "3.6.12"
  }
 },
 "nbformat": 4,
 "nbformat_minor": 4
}
