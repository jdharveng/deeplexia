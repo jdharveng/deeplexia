{
 "cells": [
  {
   "cell_type": "markdown",
   "metadata": {},
   "source": [
    "# LSTM"
   ]
  },
  {
   "cell_type": "markdown",
   "metadata": {},
   "source": [
    "This is a test training an embedding layer, Bidirectional LSTM and one dense layer. We implement transfer learning by initializing the embedding layer with weights taken from the glove word embeddings. The performance is suboptimal showing that it makes more sense to use pretrained document embeddings from TensorFlow Hub rather than training an LSTM. This is mainly due to the limited dataset; with more labeled data, this approach could be used."
   ]
  },
  {
   "cell_type": "code",
   "execution_count": 15,
   "metadata": {},
   "outputs": [],
   "source": [
    "import numpy as np\n",
    "import pandas as pd\n",
    "import pickle\n",
    "import matplotlib.pyplot as plt\n",
    "from sklearn.model_selection import train_test_split\n",
    "import tensorflow as tf\n",
    "from tensorflow.keras.preprocessing import sequence, text\n",
    "from tensorflow.keras import models, layers\n",
    "from LSTM_functions import text_to_seq, plot_history, preprocess_sentence, prediction, prediction_table\n",
    "from tensorflow.keras.models import load_model \n",
    "import warnings\n",
    "warnings.filterwarnings('ignore')"
   ]
  },
  {
   "cell_type": "code",
   "execution_count": 2,
   "metadata": {},
   "outputs": [],
   "source": [
    "with open('features.pkl', 'rb') as f:\n",
    "    features = pickle.load(f)\n",
    "\n",
    "with open('labels.pkl', 'rb') as f:\n",
    "    labels = pickle.load(f)\n",
    "    \n",
    "X_train_raw, X_test_raw, y_train, y_test = train_test_split(features, labels, test_size = 0.33, random_state=42)"
   ]
  },
  {
   "cell_type": "code",
   "execution_count": 3,
   "metadata": {},
   "outputs": [],
   "source": [
    "sequence_length = 7\n",
    "vocab = 5000\n",
    "# use this function to convert the sentences into a sequences of indices \n",
    "X_train, X_test, tokenizer = text_to_seq(X_train_raw, X_test_raw, max_length=sequence_length, vocab=vocab)"
   ]
  },
  {
   "cell_type": "code",
   "execution_count": 4,
   "metadata": {},
   "outputs": [],
   "source": [
    "train_data = tf.data.Dataset.from_tensor_slices((X_train, y_train)).cache()\n",
    "test_data = tf.data.Dataset.from_tensor_slices((X_test, y_test)).cache()"
   ]
  },
  {
   "cell_type": "code",
   "execution_count": 5,
   "metadata": {},
   "outputs": [],
   "source": [
    "X_examples, y_examples = next(iter(train_data.batch(15)))"
   ]
  },
  {
   "cell_type": "markdown",
   "metadata": {},
   "source": [
    "We obtained the glove lookup dictionary by running the following code:"
   ]
  },
  {
   "cell_type": "code",
   "execution_count": null,
   "metadata": {},
   "outputs": [],
   "source": [
    "'''\n",
    "!wget http://nlp.stanford.edu/data/glove.6B.zip\n",
    "!unzip glove.6B.zip\n",
    "glove_lookup = {}\n",
    "\n",
    "with open(\"glove.6B.100d.txt\", 'r') as f:\n",
    "    for line in f:\n",
    "        values = line.split()\n",
    "        word = values[0]\n",
    "        vector = np.asarray(values[1:], \"float32\")\n",
    "        glove_lookup[word] = vector\n",
    "        \n",
    "outfile = open(filename, 'wb')\n",
    "pickle.dump(glove_lookup, outfile)\n",
    "outfile.close()     \n",
    "'''"
   ]
  },
  {
   "cell_type": "code",
   "execution_count": 6,
   "metadata": {},
   "outputs": [],
   "source": [
    "with open('glove_lookup', 'rb') as f:\n",
    "    glove_lookup = pickle.load(f)"
   ]
  },
  {
   "cell_type": "markdown",
   "metadata": {},
   "source": [
    "The embedding matrix is a dictionary that maps an index (that the tokenizer has given) to the corresponding glove word embedding. It is created in the code below."
   ]
  },
  {
   "cell_type": "code",
   "execution_count": 7,
   "metadata": {},
   "outputs": [
    {
     "name": "stdout",
     "output_type": "stream",
     "text": [
      "(5000, 100)\n"
     ]
    }
   ],
   "source": [
    "embedding_size = 100 #this comes from the glove embedding size, we test with the 100d glove embedding\n",
    "\n",
    "embedding_matrix = {}\n",
    "embedding_index = glove_lookup\n",
    "word_index = tokenizer.word_index \n",
    "embedding_matrix = np.zeros((vocab, embedding_size))\n",
    "\n",
    "for word, i in word_index.items():\n",
    "    embedding_vector = embedding_index.get(word)\n",
    "    if i < vocab and embedding_vector is not None:\n",
    "        embedding_matrix[i] = embedding_vector\n",
    "\n",
    "print(embedding_matrix.shape)"
   ]
  },
  {
   "cell_type": "code",
   "execution_count": 8,
   "metadata": {},
   "outputs": [
    {
     "name": "stdout",
     "output_type": "stream",
     "text": [
      "Model: \"sequential\"\n",
      "_________________________________________________________________\n",
      "Layer (type)                 Output Shape              Param #   \n",
      "=================================================================\n",
      "embedding (Embedding)        (None, 7, 100)            500000    \n",
      "_________________________________________________________________\n",
      "bidirectional (Bidirectional (None, 64)                34048     \n",
      "_________________________________________________________________\n",
      "dropout (Dropout)            (None, 64)                0         \n",
      "_________________________________________________________________\n",
      "dense (Dense)                (None, 12)                780       \n",
      "=================================================================\n",
      "Total params: 534,828\n",
      "Trainable params: 534,828\n",
      "Non-trainable params: 0\n",
      "_________________________________________________________________\n",
      "Epoch 1/20\n",
      "247/247 [==============================] - 6s 24ms/step - loss: 2.0341 - accuracy: 0.4001 - val_loss: 0.0000e+00 - val_accuracy: 0.0000e+00\n",
      "Epoch 2/20\n",
      "247/247 [==============================] - 2s 8ms/step - loss: 1.4642 - accuracy: 0.5753 - val_loss: 1.4286 - val_accuracy: 0.5923\n",
      "Epoch 3/20\n",
      "247/247 [==============================] - 2s 8ms/step - loss: 1.2272 - accuracy: 0.6508 - val_loss: 1.3307 - val_accuracy: 0.6137\n",
      "Epoch 4/20\n",
      "247/247 [==============================] - 2s 9ms/step - loss: 1.0465 - accuracy: 0.7125 - val_loss: 1.2780 - val_accuracy: 0.6325\n",
      "Epoch 5/20\n",
      "247/247 [==============================] - 2s 8ms/step - loss: 0.9099 - accuracy: 0.7577 - val_loss: 1.2565 - val_accuracy: 0.6464\n",
      "Epoch 6/20\n",
      "247/247 [==============================] - 2s 8ms/step - loss: 0.8029 - accuracy: 0.7949 - val_loss: 1.2587 - val_accuracy: 0.6508\n",
      "Epoch 7/20\n",
      "247/247 [==============================] - 2s 8ms/step - loss: 0.7227 - accuracy: 0.8248 - val_loss: 1.2543 - val_accuracy: 0.6544\n",
      "Epoch 8/20\n",
      "247/247 [==============================] - 2s 8ms/step - loss: 0.6515 - accuracy: 0.8485 - val_loss: 1.2717 - val_accuracy: 0.6572\n",
      "Epoch 9/20\n",
      "247/247 [==============================] - 2s 8ms/step - loss: 0.6001 - accuracy: 0.8612 - val_loss: 1.2710 - val_accuracy: 0.6572\n",
      "Epoch 10/20\n",
      "247/247 [==============================] - 2s 9ms/step - loss: 0.5582 - accuracy: 0.8784 - val_loss: 1.2880 - val_accuracy: 0.6557\n",
      "Epoch 11/20\n",
      "247/247 [==============================] - 2s 9ms/step - loss: 0.5238 - accuracy: 0.8913 - val_loss: 1.3031 - val_accuracy: 0.6554\n",
      "Epoch 12/20\n",
      "247/247 [==============================] - 2s 9ms/step - loss: 0.4998 - accuracy: 0.8974 - val_loss: 1.3021 - val_accuracy: 0.6562\n",
      "Epoch 13/20\n",
      "247/247 [==============================] - 2s 9ms/step - loss: 0.4737 - accuracy: 0.9069 - val_loss: 1.3213 - val_accuracy: 0.6567\n",
      "Epoch 14/20\n",
      "247/247 [==============================] - 2s 8ms/step - loss: 0.4538 - accuracy: 0.9121 - val_loss: 1.3241 - val_accuracy: 0.6590\n",
      "Epoch 15/20\n",
      "247/247 [==============================] - 2s 9ms/step - loss: 0.4321 - accuracy: 0.9195 - val_loss: 1.3342 - val_accuracy: 0.6598\n",
      "Epoch 16/20\n",
      "247/247 [==============================] - 2s 9ms/step - loss: 0.4208 - accuracy: 0.9206 - val_loss: 1.3542 - val_accuracy: 0.6505\n",
      "Epoch 17/20\n",
      "247/247 [==============================] - 2s 9ms/step - loss: 0.4033 - accuracy: 0.9261 - val_loss: 1.3667 - val_accuracy: 0.6474\n",
      "Epoch 18/20\n",
      "247/247 [==============================] - 2s 9ms/step - loss: 0.3896 - accuracy: 0.9303 - val_loss: 1.3878 - val_accuracy: 0.6477\n",
      "Epoch 19/20\n",
      "247/247 [==============================] - 2s 9ms/step - loss: 0.3825 - accuracy: 0.9303 - val_loss: 1.3638 - val_accuracy: 0.6528\n",
      "Epoch 20/20\n",
      "247/247 [==============================] - 2s 9ms/step - loss: 0.3755 - accuracy: 0.9312 - val_loss: 1.3654 - val_accuracy: 0.6588\n"
     ]
    }
   ],
   "source": [
    "emoji_clusters=12\n",
    "\n",
    "model = models.Sequential()\n",
    "model.add(layers.Embedding(\n",
    "    vocab, \n",
    "    embedding_size, \n",
    "    input_length=sequence_length\n",
    "))\n",
    "\n",
    "# Transfer learning by initializing the embedding layer with the embedding matrix made up of glove embeddings\n",
    "\n",
    "model.layers[0].set_weights([embedding_matrix])\n",
    "model.layers[0].trainable = True\n",
    "model.add(layers.Bidirectional(layers.LSTM(32)))\n",
    "model.add(layers.Dropout(.2))\n",
    "model.add(layers.Dense(emoji_clusters, activation=\"softmax\", kernel_regularizer='l2'))\n",
    "\n",
    "model.summary()\n",
    "\n",
    "model.compile(\n",
    "    optimizer=\"adam\", \n",
    "    loss=\"sparse_categorical_crossentropy\",\n",
    "    metrics=[\"accuracy\"])\n",
    "\n",
    "# Comment out this section to avoid training from scratch \n",
    "\n",
    "history = model.fit(\n",
    "    train_data.shuffle(100).batch(32),\n",
    "    epochs=20,\n",
    "    validation_data=test_data.batch(32)\n",
    ")\n",
    "\n",
    "model.save('model_LSTM_2.h5')"
   ]
  },
  {
   "cell_type": "code",
   "execution_count": 9,
   "metadata": {},
   "outputs": [
    {
     "data": {
      "image/png": "[encoded data removed]",
      "text/plain": [
       "<Figure size 432x288 with 1 Axes>"
      ]
     },
     "metadata": {
      "needs_background": "light"
     },
     "output_type": "display_data"
    },
    {
     "data": {
      "image/png": "[encoded data removed]",
      "text/plain": [
       "<Figure size 432x288 with 1 Axes>"
      ]
     },
     "metadata": {
      "needs_background": "light"
     },
     "output_type": "display_data"
    }
   ],
   "source": [
    "plot_history(model.history)"
   ]
  },
  {
   "cell_type": "markdown",
   "metadata": {},
   "source": [
    "## Testing the model with custom input"
   ]
  },
  {
   "cell_type": "code",
   "execution_count": 10,
   "metadata": {},
   "outputs": [],
   "source": [
    "model = load_model('model_LSTM_2.h5')"
   ]
  },
  {
   "cell_type": "code",
   "execution_count": 11,
   "metadata": {},
   "outputs": [
    {
     "data": {
      "text/plain": [
       "'Travel & Places'"
      ]
     },
     "execution_count": 11,
     "metadata": {},
     "output_type": "execute_result"
    }
   ],
   "source": [
    "test_text = \"Hot weather and sunshine\"\n",
    "pre_sentence = preprocess_sentence(test_text, tokenizer) # the sentence cannot be two words else it doesn't work\n",
    "prediction(pre_sentence, model)"
   ]
  },
  {
   "cell_type": "code",
   "execution_count": 12,
   "metadata": {},
   "outputs": [
    {
     "name": "stdout",
     "output_type": "stream",
     "text": [
      "+-----------------+-------------+\n",
      "|     Category    | Probability |\n",
      "+-----------------+-------------+\n",
      "| Travel & Places |    98.67%   |\n",
      "|    Activities   |    0.28%    |\n",
      "|     Symbols     |    0.24%    |\n",
      "+-----------------+-------------+\n"
     ]
    }
   ],
   "source": [
    "prediction_table(pre_sentence, model)"
   ]
  }
 ],
 "metadata": {
  "kernelspec": {
   "display_name": "Python 3",
   "language": "python",
   "name": "python3"
  },
  "language_info": {
   "codemirror_mode": {
    "name": "ipython",
    "version": 3
   },
   "file_extension": ".py",
   "mimetype": "text/x-python",
   "name": "python",
   "nbconvert_exporter": "python",
   "pygments_lexer": "ipython3",
   "version": "3.7.7"
  }
 },
 "nbformat": 4,
 "nbformat_minor": 4
}
