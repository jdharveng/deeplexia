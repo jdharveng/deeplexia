{
 "cells": [
  {
   "cell_type": "markdown",
   "metadata": {},
   "source": [
    "# I. Simple Text to Emoji"
   ]
  },
  {
   "cell_type": "code",
   "execution_count": 1,
   "metadata": {},
   "outputs": [],
   "source": [
    "import pandas as pd\n",
    "import numpy as np\n",
    "import spacy \n",
    "from helper_functions import *"
   ]
  },
  {
   "cell_type": "code",
   "execution_count": 2,
   "metadata": {},
   "outputs": [],
   "source": [
    "nlp = spacy.load('en_core_web_lg')"
   ]
  },
  {
   "cell_type": "code",
   "execution_count": 3,
   "metadata": {},
   "outputs": [],
   "source": [
    "#!python -m spacy download en_core_web_lg"
   ]
  },
  {
   "cell_type": "markdown",
   "metadata": {},
   "source": [
    "### A. Reading a text document through Spacy"
   ]
  },
  {
   "cell_type": "code",
   "execution_count": 3,
   "metadata": {},
   "outputs": [],
   "source": [
    "aladdin = open(\"Books/aladdin_page.txt\").read()\n",
    "file = nlp(aladdin)"
   ]
  },
  {
   "cell_type": "code",
   "execution_count": 4,
   "metadata": {
    "scrolled": true
   },
   "outputs": [
    {
     "data": {
      "text/plain": [
       "'THE STORY OF ALADDIN AND HIS MAGICAL LAMP\\nThere once lived, in one of the large and rich cities of China, a tailor, named Mustapha. He was very poor. He could hardly, by his daily labor, maintain himself and his family, which consisted only of his wife and a son.\\n\\nHis son, who was called Aladdin, was a very careless and idle fellow. He was disobedient to his father and mother, and would go out early in the morning and stay out all day, playing in the streets and public places with idle children of his own age.\\n\\nWhen he was old enough to learn a trade, his father took him into his own shop, and taught him how to use his needle; but all his father’s endeavors to keep him to his work were vain, for no sooner was his back turned than he was gone for that day. Mustapha chastised him; but Aladdin was incorrigible, and his father, to his great grief, was forced to abandon him to his idleness, and was so much troubled about him that he fell sick and died in a few months.\\n\\n\\n\\nAladdin, who was now no longer restrained by the fear of a father, gave himself entirely over to his idle habits, and was never out of the streets from his companions. This course he followed till he was fifteen years old, without giving his mind to any useful pursuit, or the least reflection on what would become of him. As he was one day playing, according to custom, in the street with his evil associates, a stranger passing by stood to observe him.\\n\\nThis stranger was a sorcerer, known as the African magician, as he had been but two days arrived from Africa, his native country.\\n\\nThe African magician, observing in Aladdin’s countenance something which assured him that he was a fit boy for his purpose, inquired his name and history of some of his companions; and when he had learned all he desired to know, went up to him, and taking him aside from his comrades, said, “Child, was not your father called Mustapha the tailor?” “Yes, sir,” answered the boy; “but he has been dead a long time.”\\n\\nAt these words the African magician threw his arms about Aladdin’s neck, and kissed him several times, with tears in his eyes, and said, “I am your uncle. Your worthy father was my own brother. I knew you at first sight; you are so like him.” Then he gave Aladdin a handful of small money, saying, “Go, my son, to your mother, give my love to her, and tell her that I will visit her to-morrow, that I may see where my good brother lived so long, and ended his days.”\\n\\nAladdin ran to his mother, overjoyed at the money his uncle had given him. “Mother,” said he, “have I an uncle?” “No, child,” replied his mother, “you have no uncle by your father’s side or mine.” “I am just now come,” said Aladdin, “from a man who says he is my uncle and my father’s brother. He cried and kissed me when I told him my father was dead, and gave me money, sending his love to you, and promising to come and pay you a visit, that he may see the house my father lived and died in.” “Indeed, child,” replied the mother, “your father had no brother, nor have you an uncle.”\\n\\nThe next day the magician found Aladdin playing in another part of the town, and embracing him as before, put two pieces of gold into his hand, and said to him, “Carry this, child, to your mother. Tell her that I will come and see her to-night, and bid her get us something for supper; but first show me the house where you live.”\\n\\nAladdin showed the African magician the house, and carried the two pieces of gold to his mother, who went out and bought provisions; and, considering she wanted various utensils, borrowed them of her neighbors. She spent the whole day in preparing the supper; and at night, when it was ready, said to her son, “Perhaps the stranger knows not how to find our house; go and bring him, if you meet with him.”\\n'"
      ]
     },
     "execution_count": 4,
     "metadata": {},
     "output_type": "execute_result"
    }
   ],
   "source": [
    "aladdin"
   ]
  },
  {
   "cell_type": "code",
   "execution_count": 5,
   "metadata": {
    "scrolled": true
   },
   "outputs": [
    {
     "data": {
      "text/plain": [
       "THE STORY OF ALADDIN AND HIS MAGICAL LAMP\n",
       "There once lived, in one of the large and rich cities of China, a tailor, named Mustapha. He was very poor. He could hardly, by his daily labor, maintain himself and his family, which consisted only of his wife and a son.\n",
       "\n",
       "His son, who was called Aladdin, was a very careless and idle fellow. He was disobedient to his father and mother, and would go out early in the morning and stay out all day, playing in the streets and public places with idle children of his own age.\n",
       "\n",
       "When he was old enough to learn a trade, his father took him into his own shop, and taught him how to use his needle; but all his father’s endeavors to keep him to his work were vain, for no sooner was his back turned than he was gone for that day. Mustapha chastised him; but Aladdin was incorrigible, and his father, to his great grief, was forced to abandon him to his idleness, and was so much troubled about him that he fell sick and died in a few months.\n",
       "\n",
       "\n",
       "\n",
       "Aladdin, who was now no longer restrained by the fear of a father, gave himself entirely over to his idle habits, and was never out of the streets from his companions. This course he followed till he was fifteen years old, without giving his mind to any useful pursuit, or the least reflection on what would become of him. As he was one day playing, according to custom, in the street with his evil associates, a stranger passing by stood to observe him.\n",
       "\n",
       "This stranger was a sorcerer, known as the African magician, as he had been but two days arrived from Africa, his native country.\n",
       "\n",
       "The African magician, observing in Aladdin’s countenance something which assured him that he was a fit boy for his purpose, inquired his name and history of some of his companions; and when he had learned all he desired to know, went up to him, and taking him aside from his comrades, said, “Child, was not your father called Mustapha the tailor?” “Yes, sir,” answered the boy; “but he has been dead a long time.”\n",
       "\n",
       "At these words the African magician threw his arms about Aladdin’s neck, and kissed him several times, with tears in his eyes, and said, “I am your uncle. Your worthy father was my own brother. I knew you at first sight; you are so like him.” Then he gave Aladdin a handful of small money, saying, “Go, my son, to your mother, give my love to her, and tell her that I will visit her to-morrow, that I may see where my good brother lived so long, and ended his days.”\n",
       "\n",
       "Aladdin ran to his mother, overjoyed at the money his uncle had given him. “Mother,” said he, “have I an uncle?” “No, child,” replied his mother, “you have no uncle by your father’s side or mine.” “I am just now come,” said Aladdin, “from a man who says he is my uncle and my father’s brother. He cried and kissed me when I told him my father was dead, and gave me money, sending his love to you, and promising to come and pay you a visit, that he may see the house my father lived and died in.” “Indeed, child,” replied the mother, “your father had no brother, nor have you an uncle.”\n",
       "\n",
       "The next day the magician found Aladdin playing in another part of the town, and embracing him as before, put two pieces of gold into his hand, and said to him, “Carry this, child, to your mother. Tell her that I will come and see her to-night, and bid her get us something for supper; but first show me the house where you live.”\n",
       "\n",
       "Aladdin showed the African magician the house, and carried the two pieces of gold to his mother, who went out and bought provisions; and, considering she wanted various utensils, borrowed them of her neighbors. She spent the whole day in preparing the supper; and at night, when it was ready, said to her son, “Perhaps the stranger knows not how to find our house; go and bring him, if you meet with him.”"
      ]
     },
     "execution_count": 5,
     "metadata": {},
     "output_type": "execute_result"
    }
   ],
   "source": [
    "file"
   ]
  },
  {
   "cell_type": "markdown",
   "metadata": {},
   "source": [
    "### B. Sentence Tokenization"
   ]
  },
  {
   "cell_type": "code",
   "execution_count": 6,
   "metadata": {
    "scrolled": true
   },
   "outputs": [
    {
     "name": "stdout",
     "output_type": "stream",
     "text": [
      "0: THE STORY OF ALADDIN AND HIS MAGICAL LAMP\n",
      "\n",
      "1: There once lived, in one of the large and rich cities of China, a tailor, named Mustapha.\n",
      "2: He was very poor.\n",
      "3: He could hardly, by his daily labor, maintain himself and his family, which consisted only of his wife and a son.\n",
      "\n",
      "\n",
      "4: His son, who was called Aladdin, was a very careless and idle fellow.\n",
      "5: He was disobedient to his father and mother, and would go out early in the morning and stay out all day, playing in the streets and public places with idle children of his own age.\n",
      "\n",
      "\n",
      "6: When he was old enough to learn a trade, his father took him into his own shop, and taught him how to use his needle; but all his father’s endeavors to keep him to his work were vain, for no sooner was his back turned than he was gone for that day.\n",
      "7: Mustapha chastised him; but Aladdin was incorrigible, and his father, to his great grief, was forced to abandon him to his idleness, and was so much troubled about him that he fell sick and died in a few months.\n",
      "\n",
      "\n",
      "\n",
      "\n",
      "8: Aladdin, who was now no longer restrained by the fear of a father, gave himself entirely over to his idle habits, and was never out of the streets from his companions.\n",
      "9: This course he followed till he was fifteen years old, without giving his mind to any useful pursuit, or the least reflection on what would become of him.\n",
      "10: As he was one day playing, according to custom, in the street with his evil associates, a stranger passing by stood to observe him.\n",
      "\n",
      "\n",
      "11: This stranger was a sorcerer, known as the African magician, as he had been but two days arrived from Africa, his native country.\n",
      "\n",
      "\n",
      "12: The African magician, observing in Aladdin’s countenance something which assured him that he was a fit boy for his purpose, inquired his name and history of some of his companions; and when he had learned all he desired to know, went up to him, and taking him aside from his comrades, said, “Child, was not your father called Mustapha the tailor?”\n",
      "13: “Yes, sir,” answered the boy;\n",
      "14: “but he has been dead a long time.”\n",
      "\n",
      "\n",
      "15: At these words the African magician threw his arms about Aladdin’s neck, and kissed him several times, with tears in his eyes, and said, “I am your uncle.\n",
      "16: Your worthy father was my own brother.\n",
      "17: I knew you at first sight; you are so like him.”\n",
      "18: Then he gave Aladdin a handful of small money, saying, “Go, my son, to your mother, give my love to her, and tell her that I will visit her to-morrow, that I may see where my good brother lived so long, and ended his days.”\n",
      "\n",
      "\n",
      "19: Aladdin ran to his mother, overjoyed at the money his uncle had given him.\n",
      "20: “Mother,” said he, “have I an uncle?”\n",
      "21: “No, child,” replied his mother, “you have no uncle by your father’s side or mine.”\n",
      "22: “I am just now come,” said Aladdin, “from a man who says he is my uncle and my father’s brother.\n",
      "23: He cried and kissed me when I told him my father was dead, and gave me money, sending his love to you, and promising to come and pay you a visit, that he may see the house my father lived and died in.”\n",
      "24: “Indeed, child,” replied the mother, “your father had no brother, nor have you an uncle.”\n",
      "\n",
      "\n",
      "25: The next day the magician found Aladdin playing in another part of the town, and embracing him as before, put two pieces of gold into his hand, and said to him, “Carry this, child, to your mother.\n",
      "26: Tell her that I will come and see her to-night, and bid her get us something for supper; but first show me the house where you live.”\n",
      "\n",
      "\n",
      "27: Aladdin showed the African magician the house, and carried the two pieces of gold to his mother, who went out and bought provisions; and, considering she wanted various utensils, borrowed them of her neighbors.\n",
      "28: She spent the whole day in preparing the supper; and at night, when it was ready, said to her son, “Perhaps the stranger knows not how to find our house; go and bring him, if you meet with him.”\n",
      "\n"
     ]
    }
   ],
   "source": [
    "for num, sentence in enumerate(file.sents):\n",
    "    print(f'{num}: {sentence}')"
   ]
  },
  {
   "cell_type": "markdown",
   "metadata": {},
   "source": [
    "### C. Keep only PROPN and NOUN per sentence"
   ]
  },
  {
   "cell_type": "code",
   "execution_count": 7,
   "metadata": {},
   "outputs": [
    {
     "name": "stdout",
     "output_type": "stream",
     "text": [
      "\n",
      "\u001b[1mSentence 0 :\u001b[0m\n",
      "STORY\n",
      "ALADDIN\n",
      "LAMP\n",
      "\n",
      "\u001b[1mSentence 1 :\u001b[0m\n",
      "cities\n",
      "China\n",
      "tailor\n",
      "Mustapha\n",
      "\n",
      "\u001b[1mSentence 2 :\u001b[0m\n",
      "\n",
      "\u001b[1mSentence 3 :\u001b[0m\n",
      "labor\n",
      "family\n",
      "wife\n",
      "son\n",
      "\n",
      "\u001b[1mSentence 4 :\u001b[0m\n",
      "son\n",
      "Aladdin\n",
      "fellow\n"
     ]
    }
   ],
   "source": [
    "for i, sentence in enumerate(file.sents):\n",
    "    print(\"\")\n",
    "    print( \"\\033[1m\" + f'Sentence {i} :' + \"\\033[0m\")\n",
    "    for token in sentence:\n",
    "        token_pos = token.pos_\n",
    "        if token_pos == 'PROPN' or token_pos == 'NOUN':\n",
    "            print(token)\n",
    "            \n",
    "    if i > 3:\n",
    "        break"
   ]
  },
  {
   "cell_type": "markdown",
   "metadata": {},
   "source": [
    "### D. Loading the emoji_df and quick analysis"
   ]
  },
  {
   "cell_type": "code",
   "execution_count": 8,
   "metadata": {},
   "outputs": [],
   "source": [
    "emoji_df = pd.read_csv(\"Saved_Variables/emoji_df.csv\")"
   ]
  },
  {
   "cell_type": "code",
   "execution_count": 9,
   "metadata": {},
   "outputs": [
    {
     "data": {
      "text/html": [
       "<div>\n",
       "<style scoped>\n",
       "    .dataframe tbody tr th:only-of-type {\n",
       "        vertical-align: middle;\n",
       "    }\n",
       "\n",
       "    .dataframe tbody tr th {\n",
       "        vertical-align: top;\n",
       "    }\n",
       "\n",
       "    .dataframe thead th {\n",
       "        text-align: right;\n",
       "    }\n",
       "</style>\n",
       "<table border=\"1\" class=\"dataframe\">\n",
       "  <thead>\n",
       "    <tr style=\"text-align: right;\">\n",
       "      <th></th>\n",
       "      <th>emoji</th>\n",
       "      <th>name</th>\n",
       "      <th>group</th>\n",
       "      <th>sub_group</th>\n",
       "      <th>codepoints</th>\n",
       "    </tr>\n",
       "  </thead>\n",
       "  <tbody>\n",
       "    <tr>\n",
       "      <th>3721</th>\n",
       "      <td>✖</td>\n",
       "      <td>multiply</td>\n",
       "      <td>Symbols</td>\n",
       "      <td>math</td>\n",
       "      <td>2716</td>\n",
       "    </tr>\n",
       "    <tr>\n",
       "      <th>549</th>\n",
       "      <td>👱🏿‍♀️</td>\n",
       "      <td>woman: dark skin tone, blond hair</td>\n",
       "      <td>People &amp; Body</td>\n",
       "      <td>person</td>\n",
       "      <td>1F471 1F3FF 200D 2640 FE0F</td>\n",
       "    </tr>\n",
       "    <tr>\n",
       "      <th>3531</th>\n",
       "      <td>⛓</td>\n",
       "      <td>chains</td>\n",
       "      <td>Objects</td>\n",
       "      <td>tool</td>\n",
       "      <td>26D3</td>\n",
       "    </tr>\n",
       "    <tr>\n",
       "      <th>771</th>\n",
       "      <td>🧏🏼‍♂️</td>\n",
       "      <td>deaf man: medium-light skin tone</td>\n",
       "      <td>People &amp; Body</td>\n",
       "      <td>person-gesture</td>\n",
       "      <td>1F9CF 1F3FC 200D 2642 FE0F</td>\n",
       "    </tr>\n",
       "    <tr>\n",
       "      <th>2113</th>\n",
       "      <td>🏄🏽</td>\n",
       "      <td>person surfing: medium skin tone</td>\n",
       "      <td>People &amp; Body</td>\n",
       "      <td>person-sport</td>\n",
       "      <td>1F3C4 1F3FD</td>\n",
       "    </tr>\n",
       "  </tbody>\n",
       "</table>\n",
       "</div>"
      ],
      "text/plain": [
       "      emoji                               name          group       sub_group  \\\n",
       "3721      ✖                           multiply        Symbols            math   \n",
       "549   👱🏿‍♀️  woman: dark skin tone, blond hair  People & Body          person   \n",
       "3531      ⛓                             chains        Objects            tool   \n",
       "771   🧏🏼‍♂️   deaf man: medium-light skin tone  People & Body  person-gesture   \n",
       "2113     🏄🏽   person surfing: medium skin tone  People & Body    person-sport   \n",
       "\n",
       "                      codepoints  \n",
       "3721                        2716  \n",
       "549   1F471 1F3FF 200D 2640 FE0F  \n",
       "3531                        26D3  \n",
       "771   1F9CF 1F3FC 200D 2642 FE0F  \n",
       "2113                 1F3C4 1F3FD  "
      ]
     },
     "execution_count": 9,
     "metadata": {},
     "output_type": "execute_result"
    }
   ],
   "source": [
    "emoji_df.sample(5)"
   ]
  },
  {
   "cell_type": "code",
   "execution_count": 10,
   "metadata": {},
   "outputs": [
    {
     "data": {
      "text/plain": [
       "(4159, 5)"
      ]
     },
     "execution_count": 10,
     "metadata": {},
     "output_type": "execute_result"
    }
   ],
   "source": [
    "emoji_df.shape"
   ]
  },
  {
   "cell_type": "code",
   "execution_count": 11,
   "metadata": {},
   "outputs": [
    {
     "data": {
      "text/plain": [
       "(864, 5)"
      ]
     },
     "execution_count": 11,
     "metadata": {},
     "output_type": "execute_result"
    }
   ],
   "source": [
    "# How many duplicates based on the name\n",
    "emoji_df[emoji_df.duplicated(subset='name')].shape"
   ]
  },
  {
   "cell_type": "code",
   "execution_count": 12,
   "metadata": {},
   "outputs": [],
   "source": [
    "emoji_no_dup = emoji_df.drop_duplicates(subset='name')"
   ]
  },
  {
   "cell_type": "code",
   "execution_count": 13,
   "metadata": {},
   "outputs": [
    {
     "data": {
      "text/plain": [
       "(3295, 5)"
      ]
     },
     "execution_count": 13,
     "metadata": {},
     "output_type": "execute_result"
    }
   ],
   "source": [
    "emoji_no_dup.shape"
   ]
  },
  {
   "cell_type": "code",
   "execution_count": 14,
   "metadata": {},
   "outputs": [
    {
     "data": {
      "text/html": [
       "<div>\n",
       "<style scoped>\n",
       "    .dataframe tbody tr th:only-of-type {\n",
       "        vertical-align: middle;\n",
       "    }\n",
       "\n",
       "    .dataframe tbody tr th {\n",
       "        vertical-align: top;\n",
       "    }\n",
       "\n",
       "    .dataframe thead th {\n",
       "        text-align: right;\n",
       "    }\n",
       "</style>\n",
       "<table border=\"1\" class=\"dataframe\">\n",
       "  <thead>\n",
       "    <tr style=\"text-align: right;\">\n",
       "      <th></th>\n",
       "      <th>emoji</th>\n",
       "      <th>name</th>\n",
       "      <th>group</th>\n",
       "      <th>sub_group</th>\n",
       "      <th>codepoints</th>\n",
       "    </tr>\n",
       "  </thead>\n",
       "  <tbody>\n",
       "    <tr>\n",
       "      <th>168</th>\n",
       "      <td>🤚</td>\n",
       "      <td>raised back of hand</td>\n",
       "      <td>People &amp; Body</td>\n",
       "      <td>hand-fingers-open</td>\n",
       "      <td>1F91A</td>\n",
       "    </tr>\n",
       "    <tr>\n",
       "      <th>169</th>\n",
       "      <td>🤚🏻</td>\n",
       "      <td>raised back of hand: light skin tone</td>\n",
       "      <td>People &amp; Body</td>\n",
       "      <td>hand-fingers-open</td>\n",
       "      <td>1F91A 1F3FB</td>\n",
       "    </tr>\n",
       "    <tr>\n",
       "      <th>170</th>\n",
       "      <td>🤚🏼</td>\n",
       "      <td>raised back of hand: medium-light skin tone</td>\n",
       "      <td>People &amp; Body</td>\n",
       "      <td>hand-fingers-open</td>\n",
       "      <td>1F91A 1F3FC</td>\n",
       "    </tr>\n",
       "    <tr>\n",
       "      <th>171</th>\n",
       "      <td>🤚🏽</td>\n",
       "      <td>raised back of hand: medium skin tone</td>\n",
       "      <td>People &amp; Body</td>\n",
       "      <td>hand-fingers-open</td>\n",
       "      <td>1F91A 1F3FD</td>\n",
       "    </tr>\n",
       "    <tr>\n",
       "      <th>172</th>\n",
       "      <td>🤚🏾</td>\n",
       "      <td>raised back of hand: medium-dark skin tone</td>\n",
       "      <td>People &amp; Body</td>\n",
       "      <td>hand-fingers-open</td>\n",
       "      <td>1F91A 1F3FE</td>\n",
       "    </tr>\n",
       "    <tr>\n",
       "      <th>173</th>\n",
       "      <td>🤚🏿</td>\n",
       "      <td>raised back of hand: dark skin tone</td>\n",
       "      <td>People &amp; Body</td>\n",
       "      <td>hand-fingers-open</td>\n",
       "      <td>1F91A 1F3FF</td>\n",
       "    </tr>\n",
       "  </tbody>\n",
       "</table>\n",
       "</div>"
      ],
      "text/plain": [
       "    emoji                                         name          group  \\\n",
       "168     🤚                          raised back of hand  People & Body   \n",
       "169    🤚🏻         raised back of hand: light skin tone  People & Body   \n",
       "170    🤚🏼  raised back of hand: medium-light skin tone  People & Body   \n",
       "171    🤚🏽        raised back of hand: medium skin tone  People & Body   \n",
       "172    🤚🏾   raised back of hand: medium-dark skin tone  People & Body   \n",
       "173    🤚🏿          raised back of hand: dark skin tone  People & Body   \n",
       "\n",
       "             sub_group   codepoints  \n",
       "168  hand-fingers-open        1F91A  \n",
       "169  hand-fingers-open  1F91A 1F3FB  \n",
       "170  hand-fingers-open  1F91A 1F3FC  \n",
       "171  hand-fingers-open  1F91A 1F3FD  \n",
       "172  hand-fingers-open  1F91A 1F3FE  \n",
       "173  hand-fingers-open  1F91A 1F3FF  "
      ]
     },
     "execution_count": 14,
     "metadata": {},
     "output_type": "execute_result"
    }
   ],
   "source": [
    "emoji_no_dup[emoji_no_dup.name.str.match('raised back')]"
   ]
  },
  {
   "cell_type": "markdown",
   "metadata": {},
   "source": [
    "> a lot of emoji's have following mention:\n",
    "> - light skin tone\n",
    "> - medium-light skin tone\n",
    "> - medium skin tone,\n",
    "> - medium-dark skin tone,\n",
    "> - dark skin tone,"
   ]
  },
  {
   "cell_type": "code",
   "execution_count": 15,
   "metadata": {},
   "outputs": [
    {
     "name": "stdout",
     "output_type": "stream",
     "text": [
      "(620, 5)\n",
      "(620, 5)\n"
     ]
    }
   ],
   "source": [
    "# We'll keep light and dark skin ston\n",
    "print(emoji_no_dup[emoji_no_dup.name.str.contains('light skin tone')].shape)\n",
    "print(emoji_no_dup[emoji_no_dup.name.str.contains('dark skin tone')].shape)"
   ]
  },
  {
   "cell_type": "code",
   "execution_count": 16,
   "metadata": {},
   "outputs": [
    {
     "name": "stdout",
     "output_type": "stream",
     "text": [
      "(314, 5)\n"
     ]
    }
   ],
   "source": [
    "# We'll remove medium_light\n",
    "medium_light = emoji_no_dup[emoji_no_dup.name.str.contains('medium-light skin tone')]\n",
    "print(medium_light.shape)\n",
    "emoji_condensed = emoji_no_dup[~emoji_no_dup.name.str.contains('medium-light skin tone')]"
   ]
  },
  {
   "cell_type": "code",
   "execution_count": 17,
   "metadata": {},
   "outputs": [
    {
     "name": "stdout",
     "output_type": "stream",
     "text": [
      "(2675, 5)\n",
      "(2675, 5)\n"
     ]
    }
   ],
   "source": [
    "# We'll remove light and dark skin tones\n",
    "emoji_condensed = emoji_condensed[~emoji_condensed.name.str.contains('light skin tone')]\n",
    "print(emoji_condensed.shape)\n",
    "emoji_condensed = emoji_condensed[~emoji_condensed.name.str.contains('medium-light skin tone')]\n",
    "print(emoji_condensed.shape)"
   ]
  },
  {
   "cell_type": "code",
   "execution_count": 18,
   "metadata": {},
   "outputs": [
    {
     "name": "stdout",
     "output_type": "stream",
     "text": [
      "(314, 5)\n",
      "(2377, 5)\n"
     ]
    }
   ],
   "source": [
    "# We'll remove medium\n",
    "medium = emoji_no_dup[emoji_no_dup.name.str.contains('medium skin tone')]\n",
    "print(medium.shape)\n",
    "emoji_condensed = emoji_condensed[~emoji_condensed.name.str.contains('medium skin tone')]\n",
    "print(emoji_condensed.shape)"
   ]
  },
  {
   "cell_type": "code",
   "execution_count": 19,
   "metadata": {},
   "outputs": [
    {
     "name": "stdout",
     "output_type": "stream",
     "text": [
      "(2087, 5)\n"
     ]
    }
   ],
   "source": [
    "# We'll remove medium_dark\n",
    "medium_dark = emoji_no_dup[emoji_no_dup.name.str.contains('medium-dark skin tone')]\n",
    "medium_dark.shape\n",
    "emoji_condensed = emoji_condensed[~emoji_condensed.name.str.contains('medium-dark skin tone')]\n",
    "print(emoji_condensed.shape)"
   ]
  },
  {
   "cell_type": "code",
   "execution_count": 20,
   "metadata": {},
   "outputs": [],
   "source": [
    "list_names = list(emoji_condensed.name)"
   ]
  },
  {
   "cell_type": "code",
   "execution_count": 21,
   "metadata": {},
   "outputs": [
    {
     "data": {
      "text/plain": [
       "2087"
      ]
     },
     "execution_count": 21,
     "metadata": {},
     "output_type": "execute_result"
    }
   ],
   "source": [
    "len(list_names)"
   ]
  },
  {
   "cell_type": "markdown",
   "metadata": {},
   "source": [
    "### E. Finding Closest Emoji with similarity "
   ]
  },
  {
   "cell_type": "code",
   "execution_count": 22,
   "metadata": {},
   "outputs": [
    {
     "name": "stdout",
     "output_type": "stream",
     "text": [
      "\n",
      "\u001b[1mSentence 0 :\u001b[0m\n",
      "THE STORY OF ALADDIN AND HIS MAGICAL LAMP\n",
      "\n"
     ]
    },
    {
     "name": "stderr",
     "output_type": "stream",
     "text": [
      "/Users/jeromedharveng/code/jdh_Python/DATA_SCIENCE_RETREAT/PROJECT_learning/test_refactor/Embeddings/helper_functions.py:34: UserWarning:\n",
      "\n",
      "[W008] Evaluating Token.similarity based on empty vectors.\n",
      "\n"
     ]
    },
    {
     "name": "stdout",
     "output_type": "stream",
     "text": [
      "STORY  --- EMOJI --->   👦\n",
      "ALADDIN  --- EMOJI --->   🧞\n",
      "LAMP  --- EMOJI --->   💡\n",
      "\n",
      "\u001b[1mSentence 1 :\u001b[0m\n",
      "There once lived, in one of the large and rich cities of China, a tailor, named Mustapha.\n",
      "cities  --- EMOJI --->   🚌\n",
      "China  --- EMOJI --->   📀\n",
      "tailor  --- EMOJI --->   🪰\n",
      "Mustapha  --- EMOJI --->   ♌\n",
      "\n",
      "\u001b[1mSentence 2 :\u001b[0m\n",
      "He was very poor.\n",
      "\n",
      "\u001b[1mSentence 3 :\u001b[0m\n",
      "He could hardly, by his daily labor, maintain himself and his family, which consisted only of his wife and a son.\n",
      "\n",
      "\n",
      "labor  --- EMOJI --->   🔑\n",
      "family  --- EMOJI --->   👪\n",
      "wife  --- EMOJI --->   👦\n",
      "son  --- EMOJI --->   👦\n",
      "\n",
      "\u001b[1mSentence 4 :\u001b[0m\n",
      "His son, who was called Aladdin, was a very careless and idle fellow.\n",
      "son  --- EMOJI --->   👦\n",
      "Aladdin  --- EMOJI --->   🧞\n",
      "fellow  --- EMOJI --->   👨\n"
     ]
    }
   ],
   "source": [
    "# Looking only a the nouns and proper nouns\n",
    "for i, sentence in enumerate(file.sents):\n",
    "    print(\"\")\n",
    "    print( \"\\033[1m\" + f'Sentence {i} :' + \"\\033[0m\")\n",
    "    print(sentence)\n",
    "    for token in sentence:\n",
    "        token_pos = token.pos_\n",
    "        if token_pos == 'PROPN' or token_pos == 'NOUN':\n",
    "            closest_emoji = word2emoji(token, emoji_condensed)\n",
    "            print(token, \" --- EMOJI --->  \", closest_emoji)\n",
    "            \n",
    "    if i > 3:\n",
    "        break"
   ]
  }
 ],
 "metadata": {
  "kernelspec": {
   "display_name": "Python 3",
   "language": "python",
   "name": "python3"
  },
  "language_info": {
   "codemirror_mode": {
    "name": "ipython",
    "version": 3
   },
   "file_extension": ".py",
   "mimetype": "text/x-python",
   "name": "python",
   "nbconvert_exporter": "python",
   "pygments_lexer": "ipython3",
   "version": "3.7.7"
  }
 },
 "nbformat": 4,
 "nbformat_minor": 4
}
